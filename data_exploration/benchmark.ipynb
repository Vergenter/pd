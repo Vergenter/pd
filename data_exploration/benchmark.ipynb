{
 "cells": [
  {
   "cell_type": "code",
   "execution_count": 12,
   "metadata": {},
   "outputs": [
    {
     "data": {
      "image/png": "[encoded data removed]",
      "text/plain": [
       "<Figure size 432x432 with 1 Axes>"
      ]
     },
     "metadata": {
      "needs_background": "light"
     },
     "output_type": "display_data"
    }
   ],
   "source": [
    "import matplotlib.pyplot as plt\n",
    "y = [13485,36950,95867,246468,746051,1101792,1166243]\n",
    "z = [1666, 4980, 12974, 31971, 69499,120740,169343]\n",
    "n = [58, 100, 200, 300, 400,500,600]\n",
    "year = [2003,2007,2010,2013,2016,2018,2020]\n",
    "fig, ax = plt.subplots(figsize=(6, 6))\n",
    "for _y,_z,_n,_year in zip(y,z,n,year):\n",
    "    ax.scatter(_y,_z,label=_year)\n",
    "    ax.annotate(_n, ( _y,_z))\n",
    "fig.legend(loc=\"right\",shadow=True, fancybox=True)\n",
    "plt.xlabel(\"edges\")\n",
    "plt.ylabel(\"nodes\")\n",
    "ax.ticklabel_format(style='plain')\n",
    "plt.title(\"Time for method_x from nodes and edges\", fontsize=16)\n",
    "plt.tight_layout()"
   ]
  },
  {
   "cell_type": "code",
   "execution_count": 13,
   "metadata": {},
   "outputs": [
    {
     "name": "stdout",
     "output_type": "stream",
     "text": [
      "2.1.1\n"
     ]
    }
   ],
   "source": [
    "import os\n",
    "from graphdatascience import GraphDataScience\n",
    "\n",
    "# Use Neo4j URI and credentials according to your setup\n",
    "gds = GraphDataScience(\"bolt://192.168.0.178:7687\", auth=(os.environ[\"NEO4J_LOGIN\"], os.environ[\"NEO4J_PASSWORD\"]))\n",
    "\n",
    "print(gds.version())"
   ]
  },
  {
   "cell_type": "code",
   "execution_count": 14,
   "metadata": {},
   "outputs": [],
   "source": [
    "directed_names = [\"2003ArticlesDirected\",\n",
    "\"2007ArticlesDirected\",\n",
    "\"2010ArticlesDirected\",\n",
    "\"2013ArticlesDirected\",\n",
    "\"2016ArticlesDirected\",\n",
    "\"2018ArticlesDirected\",\n",
    "\"2020ArticlesDirected\"]\n",
    "\n",
    "undirected_names = [\"2003ArticlesUndirected\",\n",
    "\"2007ArticlesUndirected\",\n",
    "\"2010ArticlesUndirected\",\n",
    "\"2013ArticlesUndirected\",\n",
    "\"2016ArticlesUndirected\",\n",
    "\"2018ArticlesUndirected\",\n",
    "\"2020ArticlesUndirected\"]\n",
    "graph_names = directed_names+undirected_names\n",
    "def get_graph_names(count1:int,count2:int=-1)->list[str]:\n",
    "    \"\"\"get graph names but not all\n",
    "\n",
    "    Args:\n",
    "        count1 (int): how much to take from 0 to 7 directional graphs\n",
    "        count2 (int, optional):  how much to take from 0 to 7 undirectional graphs. Defaults to -1.\n",
    "\n",
    "    Returns:\n",
    "        list[str]: concatenated graph names\n",
    "    \"\"\"\n",
    "    if count2==-1:\n",
    "        return directed_names[:count1]+undirected_names[:count1]\n",
    "    return directed_names[:count1]+undirected_names[:count2]"
   ]
  },
  {
   "cell_type": "code",
   "execution_count": 15,
   "metadata": {},
   "outputs": [],
   "source": [
    "import warnings\n",
    "warnings.simplefilter(action='ignore', category=FutureWarning)\n",
    "import pandas as pd\n",
    "import numpy as np"
   ]
  },
  {
   "cell_type": "code",
   "execution_count": 87,
   "metadata": {},
   "outputs": [
    {
     "data": {
      "application/vnd.jupyter.widget-view+json": {
       "model_id": "a57f8120fed44481b2d3ac04f5677bf0",
       "version_major": 2,
       "version_minor": 0
      },
      "text/plain": [
       "PageRank:   0%|          | 0/100 [00:00<?, ?%/s]"
      ]
     },
     "metadata": {},
     "output_type": "display_data"
    },
    {
     "data": {
      "application/vnd.jupyter.widget-view+json": {
       "model_id": "835112762a0d434ca64d4f94da610008",
       "version_major": 2,
       "version_minor": 0
      },
      "text/plain": [
       "PageRank:   0%|          | 0/100 [00:00<?, ?%/s]"
      ]
     },
     "metadata": {},
     "output_type": "display_data"
    },
    {
     "data": {
      "application/vnd.jupyter.widget-view+json": {
       "model_id": "924a61f7c3d54d32abc4e5855d6cebea",
       "version_major": 2,
       "version_minor": 0
      },
      "text/plain": [
       "PageRank:   0%|          | 0/100 [00:00<?, ?%/s]"
      ]
     },
     "metadata": {},
     "output_type": "display_data"
    },
    {
     "data": {
      "application/vnd.jupyter.widget-view+json": {
       "model_id": "017cba6a191440bdb33e65e8161ad5a3",
       "version_major": 2,
       "version_minor": 0
      },
      "text/plain": [
       "PageRank:   0%|          | 0/100 [00:00<?, ?%/s]"
      ]
     },
     "metadata": {},
     "output_type": "display_data"
    },
    {
     "data": {
      "application/vnd.jupyter.widget-view+json": {
       "model_id": "2a7942a867ff4055b9ba19d57452df9e",
       "version_major": 2,
       "version_minor": 0
      },
      "text/plain": [
       "PageRank:   0%|          | 0/100 [00:00<?, ?%/s]"
      ]
     },
     "metadata": {},
     "output_type": "display_data"
    },
    {
     "data": {
      "application/vnd.jupyter.widget-view+json": {
       "model_id": "bef554f7739e4162bd7f262e5e311314",
       "version_major": 2,
       "version_minor": 0
      },
      "text/plain": [
       "PageRank:   0%|          | 0/100 [00:00<?, ?%/s]"
      ]
     },
     "metadata": {},
     "output_type": "display_data"
    },
    {
     "data": {
      "application/vnd.jupyter.widget-view+json": {
       "model_id": "59352801199946d6a0fe949416be37fd",
       "version_major": 2,
       "version_minor": 0
      },
      "text/plain": [
       "PageRank:   0%|          | 0/100 [00:00<?, ?%/s]"
      ]
     },
     "metadata": {},
     "output_type": "display_data"
    },
    {
     "data": {
      "application/vnd.jupyter.widget-view+json": {
       "model_id": "71b703adf62640d5b90a65ee8b9cc94c",
       "version_major": 2,
       "version_minor": 0
      },
      "text/plain": [
       "PageRank:   0%|          | 0/100 [00:00<?, ?%/s]"
      ]
     },
     "metadata": {},
     "output_type": "display_data"
    },
    {
     "data": {
      "application/vnd.jupyter.widget-view+json": {
       "model_id": "6ae3e25914a94439a9a608d89110b4fc",
       "version_major": 2,
       "version_minor": 0
      },
      "text/plain": [
       "PageRank:   0%|          | 0/100 [00:00<?, ?%/s]"
      ]
     },
     "metadata": {},
     "output_type": "display_data"
    },
    {
     "data": {
      "application/vnd.jupyter.widget-view+json": {
       "model_id": "7e56ce2663884162827b68342afab4c5",
       "version_major": 2,
       "version_minor": 0
      },
      "text/plain": [
       "PageRank:   0%|          | 0/100 [00:00<?, ?%/s]"
      ]
     },
     "metadata": {},
     "output_type": "display_data"
    }
   ],
   "source": [
    "\n",
    "\n",
    "pageRankResult=pd.DataFrame([],columns=[\"graph\",\"bytesMin\",\"bytesMax\",\"postProcessingMillis\",\"preProcessingMillis\",\"computeMillis\",\"sumTimeMillis\",\"stdSumTimeMillis\"])\n",
    "repeats= 10\n",
    "store = np.zeros((repeats,3))\n",
    "for name in graph_names:\n",
    "    G = gds.graph.get(name)\n",
    "    r1 = gds.pageRank.write.estimate(G,writeProperty='pageRank')\n",
    "\n",
    "    for i in range(repeats):\n",
    "        r2 = gds.pageRank.stats(G)\n",
    "        store[i]=r2[\"postProcessingMillis\"],r2[\"preProcessingMillis\"],r2[\"computeMillis\"]\n",
    "        if r2[\"didConverge\"]:\n",
    "            print(\"Warning result converged!\")\n",
    "    postProcessingMillis,preProcessingMillis,computeMillis = np.average(store,axis=0)\n",
    "    sumTimeMillis = np.average(np.sum(store,axis=1))\n",
    "    stdSumTimeMillis = np.std(np.sum(store,axis=1))\n",
    "    pageRankResult = pageRankResult.append({\"graph\":name,\"bytesMin\":r1[\"bytesMin\"],\"bytesMax\":r1[\"bytesMax\"],\"postProcessingMillis\":postProcessingMillis,\"preProcessingMillis\":preProcessingMillis,\"computeMillis\":computeMillis,\"sumTimeMillis\":sumTimeMillis,\"stdSumTimeMillis\":stdSumTimeMillis}, ignore_index=True)\n"
   ]
  },
  {
   "cell_type": "code",
   "execution_count": 88,
   "metadata": {},
   "outputs": [
    {
     "data": {
      "text/html": [
       "<div>\n",
       "<style scoped>\n",
       "    .dataframe tbody tr th:only-of-type {\n",
       "        vertical-align: middle;\n",
       "    }\n",
       "\n",
       "    .dataframe tbody tr th {\n",
       "        vertical-align: top;\n",
       "    }\n",
       "\n",
       "    .dataframe thead th {\n",
       "        text-align: right;\n",
       "    }\n",
       "</style>\n",
       "<table border=\"1\" class=\"dataframe\">\n",
       "  <thead>\n",
       "    <tr style=\"text-align: right;\">\n",
       "      <th></th>\n",
       "      <th>graph</th>\n",
       "      <th>bytesMin</th>\n",
       "      <th>bytesMax</th>\n",
       "      <th>postProcessingMillis</th>\n",
       "      <th>preProcessingMillis</th>\n",
       "      <th>computeMillis</th>\n",
       "      <th>sumTimeMillis</th>\n",
       "      <th>stdSumTimeMillis</th>\n",
       "    </tr>\n",
       "  </thead>\n",
       "  <tbody>\n",
       "    <tr>\n",
       "      <th>0</th>\n",
       "      <td>2003ArticlesDirected</td>\n",
       "      <td>40984</td>\n",
       "      <td>40984</td>\n",
       "      <td>24.9</td>\n",
       "      <td>0.0</td>\n",
       "      <td>14.7</td>\n",
       "      <td>39.6</td>\n",
       "      <td>10.489995</td>\n",
       "    </tr>\n",
       "    <tr>\n",
       "      <th>1</th>\n",
       "      <td>2007ArticlesDirected</td>\n",
       "      <td>120928</td>\n",
       "      <td>120928</td>\n",
       "      <td>35.2</td>\n",
       "      <td>0.0</td>\n",
       "      <td>16.2</td>\n",
       "      <td>51.4</td>\n",
       "      <td>7.391887</td>\n",
       "    </tr>\n",
       "    <tr>\n",
       "      <th>2</th>\n",
       "      <td>2010ArticlesDirected</td>\n",
       "      <td>313784</td>\n",
       "      <td>313784</td>\n",
       "      <td>40.7</td>\n",
       "      <td>0.0</td>\n",
       "      <td>29.3</td>\n",
       "      <td>70.0</td>\n",
       "      <td>7.099296</td>\n",
       "    </tr>\n",
       "    <tr>\n",
       "      <th>3</th>\n",
       "      <td>2013ArticlesDirected</td>\n",
       "      <td>772088</td>\n",
       "      <td>772088</td>\n",
       "      <td>66.1</td>\n",
       "      <td>0.0</td>\n",
       "      <td>45.4</td>\n",
       "      <td>111.5</td>\n",
       "      <td>17.060188</td>\n",
       "    </tr>\n",
       "    <tr>\n",
       "      <th>4</th>\n",
       "      <td>2016ArticlesDirected</td>\n",
       "      <td>1677448</td>\n",
       "      <td>1677448</td>\n",
       "      <td>79.8</td>\n",
       "      <td>0.0</td>\n",
       "      <td>153.9</td>\n",
       "      <td>233.7</td>\n",
       "      <td>58.813349</td>\n",
       "    </tr>\n",
       "    <tr>\n",
       "      <th>5</th>\n",
       "      <td>2018ArticlesDirected</td>\n",
       "      <td>2913640</td>\n",
       "      <td>2913640</td>\n",
       "      <td>97.4</td>\n",
       "      <td>0.0</td>\n",
       "      <td>170.2</td>\n",
       "      <td>267.6</td>\n",
       "      <td>17.76626</td>\n",
       "    </tr>\n",
       "    <tr>\n",
       "      <th>6</th>\n",
       "      <td>2020ArticlesDirected</td>\n",
       "      <td>4086184</td>\n",
       "      <td>4086184</td>\n",
       "      <td>111.4</td>\n",
       "      <td>0.0</td>\n",
       "      <td>210.4</td>\n",
       "      <td>321.8</td>\n",
       "      <td>25.273702</td>\n",
       "    </tr>\n",
       "    <tr>\n",
       "      <th>7</th>\n",
       "      <td>2003ArticlesUndirected</td>\n",
       "      <td>40984</td>\n",
       "      <td>40984</td>\n",
       "      <td>25.4</td>\n",
       "      <td>0.0</td>\n",
       "      <td>16.5</td>\n",
       "      <td>41.9</td>\n",
       "      <td>9.049309</td>\n",
       "    </tr>\n",
       "    <tr>\n",
       "      <th>8</th>\n",
       "      <td>2007ArticlesUndirected</td>\n",
       "      <td>120928</td>\n",
       "      <td>120928</td>\n",
       "      <td>31.8</td>\n",
       "      <td>0.0</td>\n",
       "      <td>20.7</td>\n",
       "      <td>52.5</td>\n",
       "      <td>8.333667</td>\n",
       "    </tr>\n",
       "    <tr>\n",
       "      <th>9</th>\n",
       "      <td>2010ArticlesUndirected</td>\n",
       "      <td>313784</td>\n",
       "      <td>313784</td>\n",
       "      <td>40.8</td>\n",
       "      <td>0.0</td>\n",
       "      <td>44.0</td>\n",
       "      <td>84.8</td>\n",
       "      <td>17.180221</td>\n",
       "    </tr>\n",
       "    <tr>\n",
       "      <th>10</th>\n",
       "      <td>2013ArticlesUndirected</td>\n",
       "      <td>772088</td>\n",
       "      <td>772088</td>\n",
       "      <td>69.4</td>\n",
       "      <td>0.0</td>\n",
       "      <td>81.2</td>\n",
       "      <td>150.6</td>\n",
       "      <td>19.085073</td>\n",
       "    </tr>\n",
       "    <tr>\n",
       "      <th>11</th>\n",
       "      <td>2016ArticlesUndirected</td>\n",
       "      <td>1677448</td>\n",
       "      <td>1677448</td>\n",
       "      <td>87.8</td>\n",
       "      <td>0.0</td>\n",
       "      <td>217.4</td>\n",
       "      <td>305.2</td>\n",
       "      <td>26.910221</td>\n",
       "    </tr>\n",
       "    <tr>\n",
       "      <th>12</th>\n",
       "      <td>2018ArticlesUndirected</td>\n",
       "      <td>2913640</td>\n",
       "      <td>2913640</td>\n",
       "      <td>107.4</td>\n",
       "      <td>0.0</td>\n",
       "      <td>351.2</td>\n",
       "      <td>458.6</td>\n",
       "      <td>27.477991</td>\n",
       "    </tr>\n",
       "    <tr>\n",
       "      <th>13</th>\n",
       "      <td>2020ArticlesUndirected</td>\n",
       "      <td>4086184</td>\n",
       "      <td>4086184</td>\n",
       "      <td>123.1</td>\n",
       "      <td>0.0</td>\n",
       "      <td>546.6</td>\n",
       "      <td>669.7</td>\n",
       "      <td>13.319535</td>\n",
       "    </tr>\n",
       "  </tbody>\n",
       "</table>\n",
       "</div>"
      ],
      "text/plain": [
       "                     graph bytesMin bytesMax postProcessingMillis  \\\n",
       "0     2003ArticlesDirected    40984    40984                 24.9   \n",
       "1     2007ArticlesDirected   120928   120928                 35.2   \n",
       "2     2010ArticlesDirected   313784   313784                 40.7   \n",
       "3     2013ArticlesDirected   772088   772088                 66.1   \n",
       "4     2016ArticlesDirected  1677448  1677448                 79.8   \n",
       "5     2018ArticlesDirected  2913640  2913640                 97.4   \n",
       "6     2020ArticlesDirected  4086184  4086184                111.4   \n",
       "7   2003ArticlesUndirected    40984    40984                 25.4   \n",
       "8   2007ArticlesUndirected   120928   120928                 31.8   \n",
       "9   2010ArticlesUndirected   313784   313784                 40.8   \n",
       "10  2013ArticlesUndirected   772088   772088                 69.4   \n",
       "11  2016ArticlesUndirected  1677448  1677448                 87.8   \n",
       "12  2018ArticlesUndirected  2913640  2913640                107.4   \n",
       "13  2020ArticlesUndirected  4086184  4086184                123.1   \n",
       "\n",
       "   preProcessingMillis computeMillis sumTimeMillis stdSumTimeMillis  \n",
       "0                  0.0          14.7          39.6        10.489995  \n",
       "1                  0.0          16.2          51.4         7.391887  \n",
       "2                  0.0          29.3          70.0         7.099296  \n",
       "3                  0.0          45.4         111.5        17.060188  \n",
       "4                  0.0         153.9         233.7        58.813349  \n",
       "5                  0.0         170.2         267.6         17.76626  \n",
       "6                  0.0         210.4         321.8        25.273702  \n",
       "7                  0.0          16.5          41.9         9.049309  \n",
       "8                  0.0          20.7          52.5         8.333667  \n",
       "9                  0.0          44.0          84.8        17.180221  \n",
       "10                 0.0          81.2         150.6        19.085073  \n",
       "11                 0.0         217.4         305.2        26.910221  \n",
       "12                 0.0         351.2         458.6        27.477991  \n",
       "13                 0.0         546.6         669.7        13.319535  "
      ]
     },
     "execution_count": 88,
     "metadata": {},
     "output_type": "execute_result"
    }
   ],
   "source": [
    "    pageRankResult.to_pickle(\"./pageRankResult.pkl\")\n",
    "    pageRankResult.head(20)\n"
   ]
  },
  {
   "cell_type": "code",
   "execution_count": 85,
   "metadata": {},
   "outputs": [
    {
     "name": "stdout",
     "output_type": "stream",
     "text": [
      "Warning result converged!\n",
      "Warning result converged!\n",
      "Warning result converged!\n",
      "Warning result converged!\n",
      "Warning result converged!\n",
      "Warning result converged!\n",
      "Warning result converged!\n",
      "Warning result converged!\n",
      "Warning result converged!\n",
      "Warning result converged!\n"
     ]
    },
    {
     "data": {
      "application/vnd.jupyter.widget-view+json": {
       "model_id": "4690d3776a56404185081494b40d6c5d",
       "version_major": 2,
       "version_minor": 0
      },
      "text/plain": [
       "PageRank:   0%|          | 0/100 [00:00<?, ?%/s]"
      ]
     },
     "metadata": {},
     "output_type": "display_data"
    },
    {
     "data": {
      "application/vnd.jupyter.widget-view+json": {
       "model_id": "1d173c361734493286a21ee7f71089bc",
       "version_major": 2,
       "version_minor": 0
      },
      "text/plain": [
       "PageRank:   0%|          | 0/100 [00:00<?, ?%/s]"
      ]
     },
     "metadata": {},
     "output_type": "display_data"
    },
    {
     "data": {
      "application/vnd.jupyter.widget-view+json": {
       "model_id": "6113859895664eb78972b656b182799c",
       "version_major": 2,
       "version_minor": 0
      },
      "text/plain": [
       "PageRank:   0%|          | 0/100 [00:00<?, ?%/s]"
      ]
     },
     "metadata": {},
     "output_type": "display_data"
    },
    {
     "data": {
      "application/vnd.jupyter.widget-view+json": {
       "model_id": "f6d0d187d265471f8a4feef34927f733",
       "version_major": 2,
       "version_minor": 0
      },
      "text/plain": [
       "PageRank:   0%|          | 0/100 [00:00<?, ?%/s]"
      ]
     },
     "metadata": {},
     "output_type": "display_data"
    },
    {
     "data": {
      "application/vnd.jupyter.widget-view+json": {
       "model_id": "e55c5dd2b7ef45fbad4e0b177ed019b6",
       "version_major": 2,
       "version_minor": 0
      },
      "text/plain": [
       "PageRank:   0%|          | 0/100 [00:00<?, ?%/s]"
      ]
     },
     "metadata": {},
     "output_type": "display_data"
    },
    {
     "data": {
      "application/vnd.jupyter.widget-view+json": {
       "model_id": "51d82d882d9a4e4abe4263dfa5c2b5cc",
       "version_major": 2,
       "version_minor": 0
      },
      "text/plain": [
       "PageRank:   0%|          | 0/100 [00:00<?, ?%/s]"
      ]
     },
     "metadata": {},
     "output_type": "display_data"
    },
    {
     "data": {
      "application/vnd.jupyter.widget-view+json": {
       "model_id": "ec5f288a77d34ef0a61b556e37ee4487",
       "version_major": 2,
       "version_minor": 0
      },
      "text/plain": [
       "PageRank:   0%|          | 0/100 [00:00<?, ?%/s]"
      ]
     },
     "metadata": {},
     "output_type": "display_data"
    },
    {
     "data": {
      "application/vnd.jupyter.widget-view+json": {
       "model_id": "e160a37735ba452d94aed54c513a49b7",
       "version_major": 2,
       "version_minor": 0
      },
      "text/plain": [
       "PageRank:   0%|          | 0/100 [00:00<?, ?%/s]"
      ]
     },
     "metadata": {},
     "output_type": "display_data"
    },
    {
     "data": {
      "application/vnd.jupyter.widget-view+json": {
       "model_id": "058b8c4f6fdf47dfa62846c0cc548d4c",
       "version_major": 2,
       "version_minor": 0
      },
      "text/plain": [
       "PageRank:   0%|          | 0/100 [00:00<?, ?%/s]"
      ]
     },
     "metadata": {},
     "output_type": "display_data"
    },
    {
     "data": {
      "application/vnd.jupyter.widget-view+json": {
       "model_id": "acbafe55a2874fa8a6a8e2ae02afa1b7",
       "version_major": 2,
       "version_minor": 0
      },
      "text/plain": [
       "PageRank:   0%|          | 0/100 [00:00<?, ?%/s]"
      ]
     },
     "metadata": {},
     "output_type": "display_data"
    }
   ],
   "source": [
    "articleRankResult=pd.DataFrame([],columns=[\"graph\",\"bytesMin\",\"bytesMax\",\"postProcessingMillis\",\"preProcessingMillis\",\"computeMillis\",\"sumTimeMillis\",\"stdSumTimeMillis\"])\n",
    "repeats= 10\n",
    "store = np.zeros((repeats,3))\n",
    "for name in graph_names:\n",
    "    G = gds.graph.get(name)\n",
    "    r1 = gds.articleRank.write.estimate(G,writeProperty='articleRank')\n",
    "\n",
    "    for i in range(repeats):\n",
    "        r2 = gds.articleRank.stats(G)\n",
    "        store[i]=r2[\"postProcessingMillis\"],r2[\"preProcessingMillis\"],r2[\"computeMillis\"]\n",
    "        if r2[\"didConverge\"]:\n",
    "            print(\"Warning result converged!\")\n",
    "    postProcessingMillis,preProcessingMillis,computeMillis = np.average(store,axis=0)\n",
    "    sumTimeMillis = np.average(np.sum(store,axis=1))\n",
    "    stdSumTimeMillis = np.std(np.sum(store,axis=1))\n",
    "    articleRankResult = articleRankResult.append({\"graph\":name,\"bytesMin\":r1[\"bytesMin\"],\"bytesMax\":r1[\"bytesMax\"],\"postProcessingMillis\":postProcessingMillis,\"preProcessingMillis\":preProcessingMillis,\"computeMillis\":computeMillis,\"sumTimeMillis\":sumTimeMillis,\"stdSumTimeMillis\":stdSumTimeMillis}, ignore_index=True)"
   ]
  },
  {
   "cell_type": "code",
   "execution_count": 86,
   "metadata": {},
   "outputs": [
    {
     "data": {
      "text/html": [
       "<div>\n",
       "<style scoped>\n",
       "    .dataframe tbody tr th:only-of-type {\n",
       "        vertical-align: middle;\n",
       "    }\n",
       "\n",
       "    .dataframe tbody tr th {\n",
       "        vertical-align: top;\n",
       "    }\n",
       "\n",
       "    .dataframe thead th {\n",
       "        text-align: right;\n",
       "    }\n",
       "</style>\n",
       "<table border=\"1\" class=\"dataframe\">\n",
       "  <thead>\n",
       "    <tr style=\"text-align: right;\">\n",
       "      <th></th>\n",
       "      <th>graph</th>\n",
       "      <th>bytesMin</th>\n",
       "      <th>bytesMax</th>\n",
       "      <th>postProcessingMillis</th>\n",
       "      <th>preProcessingMillis</th>\n",
       "      <th>computeMillis</th>\n",
       "      <th>sumTimeMillis</th>\n",
       "      <th>stdSumTimeMillis</th>\n",
       "    </tr>\n",
       "  </thead>\n",
       "  <tbody>\n",
       "    <tr>\n",
       "      <th>0</th>\n",
       "      <td>2003ArticlesDirected</td>\n",
       "      <td>40984</td>\n",
       "      <td>40984</td>\n",
       "      <td>13.8</td>\n",
       "      <td>0.0</td>\n",
       "      <td>16.0</td>\n",
       "      <td>29.8</td>\n",
       "      <td>7.820486</td>\n",
       "    </tr>\n",
       "    <tr>\n",
       "      <th>1</th>\n",
       "      <td>2007ArticlesDirected</td>\n",
       "      <td>120928</td>\n",
       "      <td>120928</td>\n",
       "      <td>18.0</td>\n",
       "      <td>0.0</td>\n",
       "      <td>15.4</td>\n",
       "      <td>33.4</td>\n",
       "      <td>8.404761</td>\n",
       "    </tr>\n",
       "    <tr>\n",
       "      <th>2</th>\n",
       "      <td>2010ArticlesDirected</td>\n",
       "      <td>313784</td>\n",
       "      <td>313784</td>\n",
       "      <td>26.5</td>\n",
       "      <td>0.0</td>\n",
       "      <td>23.4</td>\n",
       "      <td>49.9</td>\n",
       "      <td>9.873702</td>\n",
       "    </tr>\n",
       "    <tr>\n",
       "      <th>3</th>\n",
       "      <td>2013ArticlesDirected</td>\n",
       "      <td>772088</td>\n",
       "      <td>772088</td>\n",
       "      <td>33.8</td>\n",
       "      <td>0.0</td>\n",
       "      <td>39.9</td>\n",
       "      <td>73.7</td>\n",
       "      <td>6.708949</td>\n",
       "    </tr>\n",
       "    <tr>\n",
       "      <th>4</th>\n",
       "      <td>2016ArticlesDirected</td>\n",
       "      <td>1677448</td>\n",
       "      <td>1677448</td>\n",
       "      <td>53.9</td>\n",
       "      <td>0.0</td>\n",
       "      <td>116.7</td>\n",
       "      <td>170.6</td>\n",
       "      <td>31.196795</td>\n",
       "    </tr>\n",
       "    <tr>\n",
       "      <th>5</th>\n",
       "      <td>2018ArticlesDirected</td>\n",
       "      <td>2913640</td>\n",
       "      <td>2913640</td>\n",
       "      <td>76.5</td>\n",
       "      <td>0.0</td>\n",
       "      <td>149.9</td>\n",
       "      <td>226.4</td>\n",
       "      <td>12.54751</td>\n",
       "    </tr>\n",
       "    <tr>\n",
       "      <th>6</th>\n",
       "      <td>2020ArticlesDirected</td>\n",
       "      <td>4086184</td>\n",
       "      <td>4086184</td>\n",
       "      <td>78.5</td>\n",
       "      <td>0.0</td>\n",
       "      <td>189.9</td>\n",
       "      <td>268.4</td>\n",
       "      <td>8.811356</td>\n",
       "    </tr>\n",
       "    <tr>\n",
       "      <th>7</th>\n",
       "      <td>2003ArticlesUndirected</td>\n",
       "      <td>40984</td>\n",
       "      <td>40984</td>\n",
       "      <td>11.0</td>\n",
       "      <td>0.0</td>\n",
       "      <td>19.6</td>\n",
       "      <td>30.6</td>\n",
       "      <td>10.956277</td>\n",
       "    </tr>\n",
       "    <tr>\n",
       "      <th>8</th>\n",
       "      <td>2007ArticlesUndirected</td>\n",
       "      <td>120928</td>\n",
       "      <td>120928</td>\n",
       "      <td>15.2</td>\n",
       "      <td>0.1</td>\n",
       "      <td>26.2</td>\n",
       "      <td>41.5</td>\n",
       "      <td>15.088075</td>\n",
       "    </tr>\n",
       "    <tr>\n",
       "      <th>9</th>\n",
       "      <td>2010ArticlesUndirected</td>\n",
       "      <td>313784</td>\n",
       "      <td>313784</td>\n",
       "      <td>23.5</td>\n",
       "      <td>0.0</td>\n",
       "      <td>39.0</td>\n",
       "      <td>62.5</td>\n",
       "      <td>14.534442</td>\n",
       "    </tr>\n",
       "    <tr>\n",
       "      <th>10</th>\n",
       "      <td>2013ArticlesUndirected</td>\n",
       "      <td>772088</td>\n",
       "      <td>772088</td>\n",
       "      <td>38.4</td>\n",
       "      <td>0.0</td>\n",
       "      <td>75.4</td>\n",
       "      <td>113.8</td>\n",
       "      <td>14.510686</td>\n",
       "    </tr>\n",
       "    <tr>\n",
       "      <th>11</th>\n",
       "      <td>2016ArticlesUndirected</td>\n",
       "      <td>1677448</td>\n",
       "      <td>1677448</td>\n",
       "      <td>56.9</td>\n",
       "      <td>0.0</td>\n",
       "      <td>210.9</td>\n",
       "      <td>267.8</td>\n",
       "      <td>22.951253</td>\n",
       "    </tr>\n",
       "    <tr>\n",
       "      <th>12</th>\n",
       "      <td>2018ArticlesUndirected</td>\n",
       "      <td>2913640</td>\n",
       "      <td>2913640</td>\n",
       "      <td>68.3</td>\n",
       "      <td>0.0</td>\n",
       "      <td>358.5</td>\n",
       "      <td>426.8</td>\n",
       "      <td>18.21428</td>\n",
       "    </tr>\n",
       "    <tr>\n",
       "      <th>13</th>\n",
       "      <td>2020ArticlesUndirected</td>\n",
       "      <td>4086184</td>\n",
       "      <td>4086184</td>\n",
       "      <td>78.9</td>\n",
       "      <td>0.0</td>\n",
       "      <td>584.3</td>\n",
       "      <td>663.2</td>\n",
       "      <td>13.466997</td>\n",
       "    </tr>\n",
       "  </tbody>\n",
       "</table>\n",
       "</div>"
      ],
      "text/plain": [
       "                     graph bytesMin bytesMax postProcessingMillis  \\\n",
       "0     2003ArticlesDirected    40984    40984                 13.8   \n",
       "1     2007ArticlesDirected   120928   120928                 18.0   \n",
       "2     2010ArticlesDirected   313784   313784                 26.5   \n",
       "3     2013ArticlesDirected   772088   772088                 33.8   \n",
       "4     2016ArticlesDirected  1677448  1677448                 53.9   \n",
       "5     2018ArticlesDirected  2913640  2913640                 76.5   \n",
       "6     2020ArticlesDirected  4086184  4086184                 78.5   \n",
       "7   2003ArticlesUndirected    40984    40984                 11.0   \n",
       "8   2007ArticlesUndirected   120928   120928                 15.2   \n",
       "9   2010ArticlesUndirected   313784   313784                 23.5   \n",
       "10  2013ArticlesUndirected   772088   772088                 38.4   \n",
       "11  2016ArticlesUndirected  1677448  1677448                 56.9   \n",
       "12  2018ArticlesUndirected  2913640  2913640                 68.3   \n",
       "13  2020ArticlesUndirected  4086184  4086184                 78.9   \n",
       "\n",
       "   preProcessingMillis computeMillis sumTimeMillis stdSumTimeMillis  \n",
       "0                  0.0          16.0          29.8         7.820486  \n",
       "1                  0.0          15.4          33.4         8.404761  \n",
       "2                  0.0          23.4          49.9         9.873702  \n",
       "3                  0.0          39.9          73.7         6.708949  \n",
       "4                  0.0         116.7         170.6        31.196795  \n",
       "5                  0.0         149.9         226.4         12.54751  \n",
       "6                  0.0         189.9         268.4         8.811356  \n",
       "7                  0.0          19.6          30.6        10.956277  \n",
       "8                  0.1          26.2          41.5        15.088075  \n",
       "9                  0.0          39.0          62.5        14.534442  \n",
       "10                 0.0          75.4         113.8        14.510686  \n",
       "11                 0.0         210.9         267.8        22.951253  \n",
       "12                 0.0         358.5         426.8         18.21428  \n",
       "13                 0.0         584.3         663.2        13.466997  "
      ]
     },
     "execution_count": 86,
     "metadata": {},
     "output_type": "execute_result"
    }
   ],
   "source": [
    "articleRankResult.to_pickle(\"./articleRankResult.pkl\")\n",
    "articleRankResult.head(20)"
   ]
  },
  {
   "cell_type": "code",
   "execution_count": 83,
   "metadata": {},
   "outputs": [
    {
     "data": {
      "application/vnd.jupyter.widget-view+json": {
       "model_id": "015a7ac604fb443a8be5b08613b0ea97",
       "version_major": 2,
       "version_minor": 0
      },
      "text/plain": [
       "PageRank:   0%|          | 0/100 [00:00<?, ?%/s]"
      ]
     },
     "metadata": {},
     "output_type": "display_data"
    },
    {
     "data": {
      "application/vnd.jupyter.widget-view+json": {
       "model_id": "77d8f578e353446cb097559118fc4b0c",
       "version_major": 2,
       "version_minor": 0
      },
      "text/plain": [
       "PageRank:   0%|          | 0/100 [00:00<?, ?%/s]"
      ]
     },
     "metadata": {},
     "output_type": "display_data"
    },
    {
     "data": {
      "application/vnd.jupyter.widget-view+json": {
       "model_id": "9a25b174977644558fe640261af0db1e",
       "version_major": 2,
       "version_minor": 0
      },
      "text/plain": [
       "PageRank:   0%|          | 0/100 [00:00<?, ?%/s]"
      ]
     },
     "metadata": {},
     "output_type": "display_data"
    },
    {
     "data": {
      "application/vnd.jupyter.widget-view+json": {
       "model_id": "a8074ab2a3a24c94910bc94d3003d023",
       "version_major": 2,
       "version_minor": 0
      },
      "text/plain": [
       "PageRank:   0%|          | 0/100 [00:00<?, ?%/s]"
      ]
     },
     "metadata": {},
     "output_type": "display_data"
    },
    {
     "data": {
      "application/vnd.jupyter.widget-view+json": {
       "model_id": "021b22198985432584be61d8660ec387",
       "version_major": 2,
       "version_minor": 0
      },
      "text/plain": [
       "PageRank:   0%|          | 0/100 [00:00<?, ?%/s]"
      ]
     },
     "metadata": {},
     "output_type": "display_data"
    },
    {
     "data": {
      "application/vnd.jupyter.widget-view+json": {
       "model_id": "c4b0494c89794b2896af83495215347c",
       "version_major": 2,
       "version_minor": 0
      },
      "text/plain": [
       "PageRank:   0%|          | 0/100 [00:00<?, ?%/s]"
      ]
     },
     "metadata": {},
     "output_type": "display_data"
    },
    {
     "data": {
      "application/vnd.jupyter.widget-view+json": {
       "model_id": "56684638c681456088cf2df5579587e6",
       "version_major": 2,
       "version_minor": 0
      },
      "text/plain": [
       "PageRank:   0%|          | 0/100 [00:00<?, ?%/s]"
      ]
     },
     "metadata": {},
     "output_type": "display_data"
    },
    {
     "data": {
      "application/vnd.jupyter.widget-view+json": {
       "model_id": "34f1a1d893c047d39be501b9e0b94a9d",
       "version_major": 2,
       "version_minor": 0
      },
      "text/plain": [
       "PageRank:   0%|          | 0/100 [00:00<?, ?%/s]"
      ]
     },
     "metadata": {},
     "output_type": "display_data"
    },
    {
     "data": {
      "application/vnd.jupyter.widget-view+json": {
       "model_id": "a5cd70ee3a2d4bc493dee2d87e063ff2",
       "version_major": 2,
       "version_minor": 0
      },
      "text/plain": [
       "PageRank:   0%|          | 0/100 [00:00<?, ?%/s]"
      ]
     },
     "metadata": {},
     "output_type": "display_data"
    },
    {
     "data": {
      "application/vnd.jupyter.widget-view+json": {
       "model_id": "c5ed589f49d0414b8e641e2ec78b1ad9",
       "version_major": 2,
       "version_minor": 0
      },
      "text/plain": [
       "PageRank:   0%|          | 0/100 [00:00<?, ?%/s]"
      ]
     },
     "metadata": {},
     "output_type": "display_data"
    },
    {
     "data": {
      "application/vnd.jupyter.widget-view+json": {
       "model_id": "3e923243763049b18a12aaedb1ffdc43",
       "version_major": 2,
       "version_minor": 0
      },
      "text/plain": [
       "PageRank:   0%|          | 0/100 [00:00<?, ?%/s]"
      ]
     },
     "metadata": {},
     "output_type": "display_data"
    },
    {
     "data": {
      "application/vnd.jupyter.widget-view+json": {
       "model_id": "4705ba79e98d417998fef000f442e3d5",
       "version_major": 2,
       "version_minor": 0
      },
      "text/plain": [
       "PageRank:   0%|          | 0/100 [00:00<?, ?%/s]"
      ]
     },
     "metadata": {},
     "output_type": "display_data"
    },
    {
     "data": {
      "application/vnd.jupyter.widget-view+json": {
       "model_id": "e197d594994b4a9fa1dcd741f8ac00bd",
       "version_major": 2,
       "version_minor": 0
      },
      "text/plain": [
       "PageRank:   0%|          | 0/100 [00:00<?, ?%/s]"
      ]
     },
     "metadata": {},
     "output_type": "display_data"
    },
    {
     "data": {
      "application/vnd.jupyter.widget-view+json": {
       "model_id": "904924ec55484c489994276956600980",
       "version_major": 2,
       "version_minor": 0
      },
      "text/plain": [
       "PageRank:   0%|          | 0/100 [00:00<?, ?%/s]"
      ]
     },
     "metadata": {},
     "output_type": "display_data"
    }
   ],
   "source": [
    "eigenvectorResult=pd.DataFrame([],columns=[\"graph\",\"bytesMin\",\"bytesMax\",\"postProcessingMillis\",\"preProcessingMillis\",\"computeMillis\",\"sumTimeMillis\",\"stdSumTimeMillis\"])\n",
    "repeats= 10\n",
    "store = np.zeros((repeats,3))\n",
    "for name in graph_names:\n",
    "    G = gds.graph.get(name)\n",
    "    r1 = gds.eigenvector.write.estimate(G,writeProperty='eigenvector')\n",
    "\n",
    "    for i in range(repeats):\n",
    "        r2 = gds.eigenvector.stats(G)\n",
    "        store[i]=r2[\"postProcessingMillis\"],r2[\"preProcessingMillis\"],r2[\"computeMillis\"]\n",
    "        if r2[\"didConverge\"]:\n",
    "            print(\"Warning result converged!\")\n",
    "    postProcessingMillis,preProcessingMillis,computeMillis = np.average(store,axis=0)\n",
    "    sumTimeMillis = np.average(np.sum(store,axis=1))\n",
    "    stdSumTimeMillis = np.std(np.sum(store,axis=1))\n",
    "    eigenvectorResult = eigenvectorResult.append({\"graph\":name,\"bytesMin\":r1[\"bytesMin\"],\"bytesMax\":r1[\"bytesMax\"],\"postProcessingMillis\":postProcessingMillis,\"preProcessingMillis\":preProcessingMillis,\"computeMillis\":computeMillis,\"sumTimeMillis\":sumTimeMillis,\"stdSumTimeMillis\":stdSumTimeMillis}, ignore_index=True)"
   ]
  },
  {
   "cell_type": "code",
   "execution_count": 84,
   "metadata": {},
   "outputs": [
    {
     "data": {
      "text/html": [
       "<div>\n",
       "<style scoped>\n",
       "    .dataframe tbody tr th:only-of-type {\n",
       "        vertical-align: middle;\n",
       "    }\n",
       "\n",
       "    .dataframe tbody tr th {\n",
       "        vertical-align: top;\n",
       "    }\n",
       "\n",
       "    .dataframe thead th {\n",
       "        text-align: right;\n",
       "    }\n",
       "</style>\n",
       "<table border=\"1\" class=\"dataframe\">\n",
       "  <thead>\n",
       "    <tr style=\"text-align: right;\">\n",
       "      <th></th>\n",
       "      <th>graph</th>\n",
       "      <th>bytesMin</th>\n",
       "      <th>bytesMax</th>\n",
       "      <th>postProcessingMillis</th>\n",
       "      <th>preProcessingMillis</th>\n",
       "      <th>computeMillis</th>\n",
       "      <th>sumTimeMillis</th>\n",
       "      <th>stdSumTimeMillis</th>\n",
       "    </tr>\n",
       "  </thead>\n",
       "  <tbody>\n",
       "    <tr>\n",
       "      <th>0</th>\n",
       "      <td>2003ArticlesDirected</td>\n",
       "      <td>40984</td>\n",
       "      <td>40984</td>\n",
       "      <td>29.9</td>\n",
       "      <td>0.0</td>\n",
       "      <td>31.5</td>\n",
       "      <td>61.4</td>\n",
       "      <td>34.496956</td>\n",
       "    </tr>\n",
       "    <tr>\n",
       "      <th>1</th>\n",
       "      <td>2007ArticlesDirected</td>\n",
       "      <td>120928</td>\n",
       "      <td>120928</td>\n",
       "      <td>31.9</td>\n",
       "      <td>0.0</td>\n",
       "      <td>28.3</td>\n",
       "      <td>60.2</td>\n",
       "      <td>7.909488</td>\n",
       "    </tr>\n",
       "    <tr>\n",
       "      <th>2</th>\n",
       "      <td>2010ArticlesDirected</td>\n",
       "      <td>313784</td>\n",
       "      <td>313784</td>\n",
       "      <td>41.8</td>\n",
       "      <td>0.0</td>\n",
       "      <td>63.5</td>\n",
       "      <td>105.3</td>\n",
       "      <td>30.757276</td>\n",
       "    </tr>\n",
       "    <tr>\n",
       "      <th>3</th>\n",
       "      <td>2013ArticlesDirected</td>\n",
       "      <td>772088</td>\n",
       "      <td>772088</td>\n",
       "      <td>67.8</td>\n",
       "      <td>0.0</td>\n",
       "      <td>122.6</td>\n",
       "      <td>190.4</td>\n",
       "      <td>52.782952</td>\n",
       "    </tr>\n",
       "    <tr>\n",
       "      <th>4</th>\n",
       "      <td>2016ArticlesDirected</td>\n",
       "      <td>1677448</td>\n",
       "      <td>1677448</td>\n",
       "      <td>57.7</td>\n",
       "      <td>0.0</td>\n",
       "      <td>223.5</td>\n",
       "      <td>281.2</td>\n",
       "      <td>35.910444</td>\n",
       "    </tr>\n",
       "    <tr>\n",
       "      <th>5</th>\n",
       "      <td>2018ArticlesDirected</td>\n",
       "      <td>2913640</td>\n",
       "      <td>2913640</td>\n",
       "      <td>68.2</td>\n",
       "      <td>0.0</td>\n",
       "      <td>341.4</td>\n",
       "      <td>409.6</td>\n",
       "      <td>29.665468</td>\n",
       "    </tr>\n",
       "    <tr>\n",
       "      <th>6</th>\n",
       "      <td>2020ArticlesDirected</td>\n",
       "      <td>4086184</td>\n",
       "      <td>4086184</td>\n",
       "      <td>70.8</td>\n",
       "      <td>0.0</td>\n",
       "      <td>506.5</td>\n",
       "      <td>577.3</td>\n",
       "      <td>66.571841</td>\n",
       "    </tr>\n",
       "    <tr>\n",
       "      <th>7</th>\n",
       "      <td>2003ArticlesUndirected</td>\n",
       "      <td>40984</td>\n",
       "      <td>40984</td>\n",
       "      <td>46.9</td>\n",
       "      <td>0.0</td>\n",
       "      <td>39.2</td>\n",
       "      <td>86.1</td>\n",
       "      <td>48.734895</td>\n",
       "    </tr>\n",
       "    <tr>\n",
       "      <th>8</th>\n",
       "      <td>2007ArticlesUndirected</td>\n",
       "      <td>120928</td>\n",
       "      <td>120928</td>\n",
       "      <td>21.7</td>\n",
       "      <td>0.0</td>\n",
       "      <td>44.8</td>\n",
       "      <td>66.5</td>\n",
       "      <td>34.995</td>\n",
       "    </tr>\n",
       "    <tr>\n",
       "      <th>9</th>\n",
       "      <td>2010ArticlesUndirected</td>\n",
       "      <td>313784</td>\n",
       "      <td>313784</td>\n",
       "      <td>50.4</td>\n",
       "      <td>0.0</td>\n",
       "      <td>68.2</td>\n",
       "      <td>118.6</td>\n",
       "      <td>30.75126</td>\n",
       "    </tr>\n",
       "    <tr>\n",
       "      <th>10</th>\n",
       "      <td>2013ArticlesUndirected</td>\n",
       "      <td>772088</td>\n",
       "      <td>772088</td>\n",
       "      <td>98.6</td>\n",
       "      <td>0.0</td>\n",
       "      <td>102.3</td>\n",
       "      <td>200.9</td>\n",
       "      <td>33.714834</td>\n",
       "    </tr>\n",
       "    <tr>\n",
       "      <th>11</th>\n",
       "      <td>2016ArticlesUndirected</td>\n",
       "      <td>1677448</td>\n",
       "      <td>1677448</td>\n",
       "      <td>124.4</td>\n",
       "      <td>0.0</td>\n",
       "      <td>290.5</td>\n",
       "      <td>414.9</td>\n",
       "      <td>54.235505</td>\n",
       "    </tr>\n",
       "    <tr>\n",
       "      <th>12</th>\n",
       "      <td>2018ArticlesUndirected</td>\n",
       "      <td>2913640</td>\n",
       "      <td>2913640</td>\n",
       "      <td>144.8</td>\n",
       "      <td>0.0</td>\n",
       "      <td>420.4</td>\n",
       "      <td>565.2</td>\n",
       "      <td>20.946599</td>\n",
       "    </tr>\n",
       "    <tr>\n",
       "      <th>13</th>\n",
       "      <td>2020ArticlesUndirected</td>\n",
       "      <td>4086184</td>\n",
       "      <td>4086184</td>\n",
       "      <td>211.3</td>\n",
       "      <td>0.0</td>\n",
       "      <td>697.2</td>\n",
       "      <td>908.5</td>\n",
       "      <td>53.73872</td>\n",
       "    </tr>\n",
       "  </tbody>\n",
       "</table>\n",
       "</div>"
      ],
      "text/plain": [
       "                     graph bytesMin bytesMax postProcessingMillis  \\\n",
       "0     2003ArticlesDirected    40984    40984                 29.9   \n",
       "1     2007ArticlesDirected   120928   120928                 31.9   \n",
       "2     2010ArticlesDirected   313784   313784                 41.8   \n",
       "3     2013ArticlesDirected   772088   772088                 67.8   \n",
       "4     2016ArticlesDirected  1677448  1677448                 57.7   \n",
       "5     2018ArticlesDirected  2913640  2913640                 68.2   \n",
       "6     2020ArticlesDirected  4086184  4086184                 70.8   \n",
       "7   2003ArticlesUndirected    40984    40984                 46.9   \n",
       "8   2007ArticlesUndirected   120928   120928                 21.7   \n",
       "9   2010ArticlesUndirected   313784   313784                 50.4   \n",
       "10  2013ArticlesUndirected   772088   772088                 98.6   \n",
       "11  2016ArticlesUndirected  1677448  1677448                124.4   \n",
       "12  2018ArticlesUndirected  2913640  2913640                144.8   \n",
       "13  2020ArticlesUndirected  4086184  4086184                211.3   \n",
       "\n",
       "   preProcessingMillis computeMillis sumTimeMillis stdSumTimeMillis  \n",
       "0                  0.0          31.5          61.4        34.496956  \n",
       "1                  0.0          28.3          60.2         7.909488  \n",
       "2                  0.0          63.5         105.3        30.757276  \n",
       "3                  0.0         122.6         190.4        52.782952  \n",
       "4                  0.0         223.5         281.2        35.910444  \n",
       "5                  0.0         341.4         409.6        29.665468  \n",
       "6                  0.0         506.5         577.3        66.571841  \n",
       "7                  0.0          39.2          86.1        48.734895  \n",
       "8                  0.0          44.8          66.5           34.995  \n",
       "9                  0.0          68.2         118.6         30.75126  \n",
       "10                 0.0         102.3         200.9        33.714834  \n",
       "11                 0.0         290.5         414.9        54.235505  \n",
       "12                 0.0         420.4         565.2        20.946599  \n",
       "13                 0.0         697.2         908.5         53.73872  "
      ]
     },
     "execution_count": 84,
     "metadata": {},
     "output_type": "execute_result"
    }
   ],
   "source": [
    "eigenvectorResult.to_pickle(\"./eigenvectorResult.pkl\")\n",
    "eigenvectorResult.head(20)"
   ]
  },
  {
   "cell_type": "code",
   "execution_count": 56,
   "metadata": {},
   "outputs": [
    {
     "data": {
      "application/vnd.jupyter.widget-view+json": {
       "model_id": "d8cac3e0769647dfb23b6da7ef4fa915",
       "version_major": 2,
       "version_minor": 0
      },
      "text/plain": [
       "BetweennessCentrality:   0%|          | 0/100 [00:00<?, ?%/s]"
      ]
     },
     "metadata": {},
     "output_type": "display_data"
    },
    {
     "data": {
      "application/vnd.jupyter.widget-view+json": {
       "model_id": "021bef094a6d4036b311c5a855b9b5c1",
       "version_major": 2,
       "version_minor": 0
      },
      "text/plain": [
       "BetweennessCentrality:   0%|          | 0/100 [00:00<?, ?%/s]"
      ]
     },
     "metadata": {},
     "output_type": "display_data"
    },
    {
     "data": {
      "application/vnd.jupyter.widget-view+json": {
       "model_id": "4013fa1b81ca42b4a5851f3b58e5304c",
       "version_major": 2,
       "version_minor": 0
      },
      "text/plain": [
       "BetweennessCentrality:   0%|          | 0/100 [00:00<?, ?%/s]"
      ]
     },
     "metadata": {},
     "output_type": "display_data"
    },
    {
     "data": {
      "application/vnd.jupyter.widget-view+json": {
       "model_id": "62fa30c32e5e43e08c1a145ea8654a62",
       "version_major": 2,
       "version_minor": 0
      },
      "text/plain": [
       "BetweennessCentrality:   0%|          | 0/100 [00:00<?, ?%/s]"
      ]
     },
     "metadata": {},
     "output_type": "display_data"
    },
    {
     "data": {
      "application/vnd.jupyter.widget-view+json": {
       "model_id": "72654fcfeb264cc08b147c06fe081e2c",
       "version_major": 2,
       "version_minor": 0
      },
      "text/plain": [
       "BetweennessCentrality:   0%|          | 0/100 [00:00<?, ?%/s]"
      ]
     },
     "metadata": {},
     "output_type": "display_data"
    },
    {
     "data": {
      "application/vnd.jupyter.widget-view+json": {
       "model_id": "db11ddafce664110883c77af69676565",
       "version_major": 2,
       "version_minor": 0
      },
      "text/plain": [
       "BetweennessCentrality:   0%|          | 0/100 [00:00<?, ?%/s]"
      ]
     },
     "metadata": {},
     "output_type": "display_data"
    },
    {
     "data": {
      "application/vnd.jupyter.widget-view+json": {
       "model_id": "e90041d18ab44e3f94bca660730e6557",
       "version_major": 2,
       "version_minor": 0
      },
      "text/plain": [
       "BetweennessCentrality:   0%|          | 0/100 [00:00<?, ?%/s]"
      ]
     },
     "metadata": {},
     "output_type": "display_data"
    },
    {
     "data": {
      "application/vnd.jupyter.widget-view+json": {
       "model_id": "177a4e5885ac4bb0a338d6d217450df8",
       "version_major": 2,
       "version_minor": 0
      },
      "text/plain": [
       "BetweennessCentrality:   0%|          | 0/100 [00:00<?, ?%/s]"
      ]
     },
     "metadata": {},
     "output_type": "display_data"
    },
    {
     "data": {
      "application/vnd.jupyter.widget-view+json": {
       "model_id": "c5833ba29ce44f1fb074d00c70335323",
       "version_major": 2,
       "version_minor": 0
      },
      "text/plain": [
       "BetweennessCentrality:   0%|          | 0/100 [00:00<?, ?%/s]"
      ]
     },
     "metadata": {},
     "output_type": "display_data"
    },
    {
     "data": {
      "application/vnd.jupyter.widget-view+json": {
       "model_id": "73531cdbcc76499783ace18392938f07",
       "version_major": 2,
       "version_minor": 0
      },
      "text/plain": [
       "BetweennessCentrality:   0%|          | 0/100 [00:00<?, ?%/s]"
      ]
     },
     "metadata": {},
     "output_type": "display_data"
    },
    {
     "data": {
      "application/vnd.jupyter.widget-view+json": {
       "model_id": "d3b4999373d540dba56af3efe3fadcf7",
       "version_major": 2,
       "version_minor": 0
      },
      "text/plain": [
       "BetweennessCentrality:   0%|          | 0/100 [00:00<?, ?%/s]"
      ]
     },
     "metadata": {},
     "output_type": "display_data"
    },
    {
     "data": {
      "application/vnd.jupyter.widget-view+json": {
       "model_id": "01e4794971ab46be836dc86084dc0b9f",
       "version_major": 2,
       "version_minor": 0
      },
      "text/plain": [
       "BetweennessCentrality:   0%|          | 0/100 [00:00<?, ?%/s]"
      ]
     },
     "metadata": {},
     "output_type": "display_data"
    },
    {
     "data": {
      "application/vnd.jupyter.widget-view+json": {
       "model_id": "0743bb78d60c4a85abd4faec22fe4ad1",
       "version_major": 2,
       "version_minor": 0
      },
      "text/plain": [
       "BetweennessCentrality:   0%|          | 0/100 [00:00<?, ?%/s]"
      ]
     },
     "metadata": {},
     "output_type": "display_data"
    },
    {
     "data": {
      "application/vnd.jupyter.widget-view+json": {
       "model_id": "bbd43589bc054cb1a0fc3e2b5f9e5c9f",
       "version_major": 2,
       "version_minor": 0
      },
      "text/plain": [
       "BetweennessCentrality:   0%|          | 0/100 [00:00<?, ?%/s]"
      ]
     },
     "metadata": {},
     "output_type": "display_data"
    },
    {
     "data": {
      "application/vnd.jupyter.widget-view+json": {
       "model_id": "f5b13564d2fe43588bb3a0c4a1f15ab7",
       "version_major": 2,
       "version_minor": 0
      },
      "text/plain": [
       "BetweennessCentrality:   0%|          | 0/100 [00:00<?, ?%/s]"
      ]
     },
     "metadata": {},
     "output_type": "display_data"
    },
    {
     "data": {
      "application/vnd.jupyter.widget-view+json": {
       "model_id": "c6d3a968feb14983871204623d9aec8c",
       "version_major": 2,
       "version_minor": 0
      },
      "text/plain": [
       "BetweennessCentrality:   0%|          | 0/100 [00:00<?, ?%/s]"
      ]
     },
     "metadata": {},
     "output_type": "display_data"
    },
    {
     "data": {
      "application/vnd.jupyter.widget-view+json": {
       "model_id": "f7af56cab4d941288cd455cae2dc7973",
       "version_major": 2,
       "version_minor": 0
      },
      "text/plain": [
       "BetweennessCentrality:   0%|          | 0/100 [00:00<?, ?%/s]"
      ]
     },
     "metadata": {},
     "output_type": "display_data"
    },
    {
     "data": {
      "application/vnd.jupyter.widget-view+json": {
       "model_id": "bac1fc54eeb042dd99e7f69740ce041d",
       "version_major": 2,
       "version_minor": 0
      },
      "text/plain": [
       "BetweennessCentrality:   0%|          | 0/100 [00:00<?, ?%/s]"
      ]
     },
     "metadata": {},
     "output_type": "display_data"
    },
    {
     "data": {
      "application/vnd.jupyter.widget-view+json": {
       "model_id": "6e9c7a8614e447edb4b71ae6951fe479",
       "version_major": 2,
       "version_minor": 0
      },
      "text/plain": [
       "BetweennessCentrality:   0%|          | 0/100 [00:00<?, ?%/s]"
      ]
     },
     "metadata": {},
     "output_type": "display_data"
    },
    {
     "data": {
      "application/vnd.jupyter.widget-view+json": {
       "model_id": "26ac056c9b1040208c3fad409a0ace87",
       "version_major": 2,
       "version_minor": 0
      },
      "text/plain": [
       "BetweennessCentrality:   0%|          | 0/100 [00:00<?, ?%/s]"
      ]
     },
     "metadata": {},
     "output_type": "display_data"
    },
    {
     "data": {
      "application/vnd.jupyter.widget-view+json": {
       "model_id": "a6a70b39a3c84ece89c00946566c5648",
       "version_major": 2,
       "version_minor": 0
      },
      "text/plain": [
       "BetweennessCentrality:   0%|          | 0/100 [00:00<?, ?%/s]"
      ]
     },
     "metadata": {},
     "output_type": "display_data"
    },
    {
     "data": {
      "application/vnd.jupyter.widget-view+json": {
       "model_id": "71a6842a7da64c16a64006697ffc9ddc",
       "version_major": 2,
       "version_minor": 0
      },
      "text/plain": [
       "BetweennessCentrality:   0%|          | 0/100 [00:00<?, ?%/s]"
      ]
     },
     "metadata": {},
     "output_type": "display_data"
    },
    {
     "data": {
      "application/vnd.jupyter.widget-view+json": {
       "model_id": "7ca949b20cea4e5a89c45cdf843e6106",
       "version_major": 2,
       "version_minor": 0
      },
      "text/plain": [
       "BetweennessCentrality:   0%|          | 0/100 [00:00<?, ?%/s]"
      ]
     },
     "metadata": {},
     "output_type": "display_data"
    },
    {
     "data": {
      "application/vnd.jupyter.widget-view+json": {
       "model_id": "dc2970ca7164447e9d340694cfcaa8f5",
       "version_major": 2,
       "version_minor": 0
      },
      "text/plain": [
       "BetweennessCentrality:   0%|          | 0/100 [00:00<?, ?%/s]"
      ]
     },
     "metadata": {},
     "output_type": "display_data"
    },
    {
     "data": {
      "application/vnd.jupyter.widget-view+json": {
       "model_id": "c0b9655153174d3bb03af62b5db98ae3",
       "version_major": 2,
       "version_minor": 0
      },
      "text/plain": [
       "BetweennessCentrality:   0%|          | 0/100 [00:00<?, ?%/s]"
      ]
     },
     "metadata": {},
     "output_type": "display_data"
    },
    {
     "data": {
      "application/vnd.jupyter.widget-view+json": {
       "model_id": "8dfd7b41b13c463d99f47d96eac2afce",
       "version_major": 2,
       "version_minor": 0
      },
      "text/plain": [
       "BetweennessCentrality:   0%|          | 0/100 [00:00<?, ?%/s]"
      ]
     },
     "metadata": {},
     "output_type": "display_data"
    },
    {
     "data": {
      "application/vnd.jupyter.widget-view+json": {
       "model_id": "b2477ab1564e41b2852dbd58be7b7fd8",
       "version_major": 2,
       "version_minor": 0
      },
      "text/plain": [
       "BetweennessCentrality:   0%|          | 0/100 [00:00<?, ?%/s]"
      ]
     },
     "metadata": {},
     "output_type": "display_data"
    },
    {
     "data": {
      "application/vnd.jupyter.widget-view+json": {
       "model_id": "de0ac4a076ea4d2db3da3f327cfc7f7d",
       "version_major": 2,
       "version_minor": 0
      },
      "text/plain": [
       "BetweennessCentrality:   0%|          | 0/100 [00:00<?, ?%/s]"
      ]
     },
     "metadata": {},
     "output_type": "display_data"
    },
    {
     "data": {
      "application/vnd.jupyter.widget-view+json": {
       "model_id": "9df593eaebe74a8b8a928253dedbf5e3",
       "version_major": 2,
       "version_minor": 0
      },
      "text/plain": [
       "BetweennessCentrality:   0%|          | 0/100 [00:00<?, ?%/s]"
      ]
     },
     "metadata": {},
     "output_type": "display_data"
    },
    {
     "data": {
      "application/vnd.jupyter.widget-view+json": {
       "model_id": "bd72ea5658bc414594d842ad9216b3f0",
       "version_major": 2,
       "version_minor": 0
      },
      "text/plain": [
       "BetweennessCentrality:   0%|          | 0/100 [00:00<?, ?%/s]"
      ]
     },
     "metadata": {},
     "output_type": "display_data"
    },
    {
     "data": {
      "application/vnd.jupyter.widget-view+json": {
       "model_id": "a435f278200842b8a30f09ba73c4d350",
       "version_major": 2,
       "version_minor": 0
      },
      "text/plain": [
       "BetweennessCentrality:   0%|          | 0/100 [00:00<?, ?%/s]"
      ]
     },
     "metadata": {},
     "output_type": "display_data"
    },
    {
     "data": {
      "application/vnd.jupyter.widget-view+json": {
       "model_id": "603ffe65c4504b928e966f9c1cd77208",
       "version_major": 2,
       "version_minor": 0
      },
      "text/plain": [
       "BetweennessCentrality:   0%|          | 0/100 [00:00<?, ?%/s]"
      ]
     },
     "metadata": {},
     "output_type": "display_data"
    },
    {
     "data": {
      "application/vnd.jupyter.widget-view+json": {
       "model_id": "b53904ce889649c3bf432569a67f6efc",
       "version_major": 2,
       "version_minor": 0
      },
      "text/plain": [
       "BetweennessCentrality:   0%|          | 0/100 [00:00<?, ?%/s]"
      ]
     },
     "metadata": {},
     "output_type": "display_data"
    },
    {
     "data": {
      "application/vnd.jupyter.widget-view+json": {
       "model_id": "2cb0cd5124da4769843ba678ff3b1743",
       "version_major": 2,
       "version_minor": 0
      },
      "text/plain": [
       "BetweennessCentrality:   0%|          | 0/100 [00:00<?, ?%/s]"
      ]
     },
     "metadata": {},
     "output_type": "display_data"
    },
    {
     "data": {
      "application/vnd.jupyter.widget-view+json": {
       "model_id": "08e96421231e4bd496a87c36063882d1",
       "version_major": 2,
       "version_minor": 0
      },
      "text/plain": [
       "BetweennessCentrality:   0%|          | 0/100 [00:00<?, ?%/s]"
      ]
     },
     "metadata": {},
     "output_type": "display_data"
    },
    {
     "data": {
      "application/vnd.jupyter.widget-view+json": {
       "model_id": "60216687ca7f4424a689313e55c0f490",
       "version_major": 2,
       "version_minor": 0
      },
      "text/plain": [
       "BetweennessCentrality:   0%|          | 0/100 [00:00<?, ?%/s]"
      ]
     },
     "metadata": {},
     "output_type": "display_data"
    },
    {
     "data": {
      "application/vnd.jupyter.widget-view+json": {
       "model_id": "c9a0c1f0792649b2aeb6303f15b6aa6c",
       "version_major": 2,
       "version_minor": 0
      },
      "text/plain": [
       "BetweennessCentrality:   0%|          | 0/100 [00:00<?, ?%/s]"
      ]
     },
     "metadata": {},
     "output_type": "display_data"
    },
    {
     "data": {
      "application/vnd.jupyter.widget-view+json": {
       "model_id": "f9aad9daa1ea4679b02a60b865f4584b",
       "version_major": 2,
       "version_minor": 0
      },
      "text/plain": [
       "BetweennessCentrality:   0%|          | 0/100 [00:00<?, ?%/s]"
      ]
     },
     "metadata": {},
     "output_type": "display_data"
    },
    {
     "data": {
      "application/vnd.jupyter.widget-view+json": {
       "model_id": "418637ed9a7347fe80078db8fb39c764",
       "version_major": 2,
       "version_minor": 0
      },
      "text/plain": [
       "BetweennessCentrality:   0%|          | 0/100 [00:00<?, ?%/s]"
      ]
     },
     "metadata": {},
     "output_type": "display_data"
    },
    {
     "data": {
      "application/vnd.jupyter.widget-view+json": {
       "model_id": "2e961a6545924f9cabaa756c7cb681d1",
       "version_major": 2,
       "version_minor": 0
      },
      "text/plain": [
       "BetweennessCentrality:   0%|          | 0/100 [00:00<?, ?%/s]"
      ]
     },
     "metadata": {},
     "output_type": "display_data"
    },
    {
     "data": {
      "application/vnd.jupyter.widget-view+json": {
       "model_id": "2f8bca685f9c4b67947d0c529a767273",
       "version_major": 2,
       "version_minor": 0
      },
      "text/plain": [
       "BetweennessCentrality:   0%|          | 0/100 [00:00<?, ?%/s]"
      ]
     },
     "metadata": {},
     "output_type": "display_data"
    },
    {
     "data": {
      "application/vnd.jupyter.widget-view+json": {
       "model_id": "35ea547576ca4249ab4fdcb7d67b9d0a",
       "version_major": 2,
       "version_minor": 0
      },
      "text/plain": [
       "BetweennessCentrality:   0%|          | 0/100 [00:00<?, ?%/s]"
      ]
     },
     "metadata": {},
     "output_type": "display_data"
    },
    {
     "data": {
      "application/vnd.jupyter.widget-view+json": {
       "model_id": "18d3089e14f142579ea4c6d3c8a6218b",
       "version_major": 2,
       "version_minor": 0
      },
      "text/plain": [
       "BetweennessCentrality:   0%|          | 0/100 [00:00<?, ?%/s]"
      ]
     },
     "metadata": {},
     "output_type": "display_data"
    },
    {
     "data": {
      "application/vnd.jupyter.widget-view+json": {
       "model_id": "40d0686941524676b4148f2b1bc355d3",
       "version_major": 2,
       "version_minor": 0
      },
      "text/plain": [
       "BetweennessCentrality:   0%|          | 0/100 [00:00<?, ?%/s]"
      ]
     },
     "metadata": {},
     "output_type": "display_data"
    },
    {
     "data": {
      "application/vnd.jupyter.widget-view+json": {
       "model_id": "2ad571c546474aebb3a6edc9a3963c36",
       "version_major": 2,
       "version_minor": 0
      },
      "text/plain": [
       "BetweennessCentrality:   0%|          | 0/100 [00:00<?, ?%/s]"
      ]
     },
     "metadata": {},
     "output_type": "display_data"
    },
    {
     "data": {
      "application/vnd.jupyter.widget-view+json": {
       "model_id": "bc515dad67e546329675cdf94dbc298c",
       "version_major": 2,
       "version_minor": 0
      },
      "text/plain": [
       "BetweennessCentrality:   0%|          | 0/100 [00:00<?, ?%/s]"
      ]
     },
     "metadata": {},
     "output_type": "display_data"
    },
    {
     "data": {
      "application/vnd.jupyter.widget-view+json": {
       "model_id": "16571f442dfc45648405c91764f48e4d",
       "version_major": 2,
       "version_minor": 0
      },
      "text/plain": [
       "BetweennessCentrality:   0%|          | 0/100 [00:00<?, ?%/s]"
      ]
     },
     "metadata": {},
     "output_type": "display_data"
    },
    {
     "data": {
      "application/vnd.jupyter.widget-view+json": {
       "model_id": "1bddeb37f9c54eb5882f85ead830eb20",
       "version_major": 2,
       "version_minor": 0
      },
      "text/plain": [
       "BetweennessCentrality:   0%|          | 0/100 [00:00<?, ?%/s]"
      ]
     },
     "metadata": {},
     "output_type": "display_data"
    },
    {
     "data": {
      "application/vnd.jupyter.widget-view+json": {
       "model_id": "69d9a23f99ed41d78117c8e84af8be70",
       "version_major": 2,
       "version_minor": 0
      },
      "text/plain": [
       "BetweennessCentrality:   0%|          | 0/100 [00:00<?, ?%/s]"
      ]
     },
     "metadata": {},
     "output_type": "display_data"
    },
    {
     "data": {
      "application/vnd.jupyter.widget-view+json": {
       "model_id": "cc1273586c2b488080651613598b60f3",
       "version_major": 2,
       "version_minor": 0
      },
      "text/plain": [
       "BetweennessCentrality:   0%|          | 0/100 [00:00<?, ?%/s]"
      ]
     },
     "metadata": {},
     "output_type": "display_data"
    },
    {
     "data": {
      "application/vnd.jupyter.widget-view+json": {
       "model_id": "de9a32514f4b430a9e0840ad2a63fbe3",
       "version_major": 2,
       "version_minor": 0
      },
      "text/plain": [
       "BetweennessCentrality:   0%|          | 0/100 [00:00<?, ?%/s]"
      ]
     },
     "metadata": {},
     "output_type": "display_data"
    },
    {
     "data": {
      "application/vnd.jupyter.widget-view+json": {
       "model_id": "239dac48012a4c9fba55d48d63dcd93e",
       "version_major": 2,
       "version_minor": 0
      },
      "text/plain": [
       "BetweennessCentrality:   0%|          | 0/100 [00:00<?, ?%/s]"
      ]
     },
     "metadata": {},
     "output_type": "display_data"
    },
    {
     "data": {
      "application/vnd.jupyter.widget-view+json": {
       "model_id": "83b197d30af54a7ba7a36d2e604c2f7f",
       "version_major": 2,
       "version_minor": 0
      },
      "text/plain": [
       "BetweennessCentrality:   0%|          | 0/100 [00:00<?, ?%/s]"
      ]
     },
     "metadata": {},
     "output_type": "display_data"
    },
    {
     "data": {
      "application/vnd.jupyter.widget-view+json": {
       "model_id": "b67a492d96484bec8fe10def47596417",
       "version_major": 2,
       "version_minor": 0
      },
      "text/plain": [
       "BetweennessCentrality:   0%|          | 0/100 [00:00<?, ?%/s]"
      ]
     },
     "metadata": {},
     "output_type": "display_data"
    },
    {
     "data": {
      "application/vnd.jupyter.widget-view+json": {
       "model_id": "8910708dd8d0469396d664bbd804a2b3",
       "version_major": 2,
       "version_minor": 0
      },
      "text/plain": [
       "BetweennessCentrality:   0%|          | 0/100 [00:00<?, ?%/s]"
      ]
     },
     "metadata": {},
     "output_type": "display_data"
    },
    {
     "data": {
      "application/vnd.jupyter.widget-view+json": {
       "model_id": "063fdc9d125d48c88354554806de6102",
       "version_major": 2,
       "version_minor": 0
      },
      "text/plain": [
       "BetweennessCentrality:   0%|          | 0/100 [00:00<?, ?%/s]"
      ]
     },
     "metadata": {},
     "output_type": "display_data"
    },
    {
     "data": {
      "application/vnd.jupyter.widget-view+json": {
       "model_id": "498a91abdf52410aab2cc9deb8c857fe",
       "version_major": 2,
       "version_minor": 0
      },
      "text/plain": [
       "BetweennessCentrality:   0%|          | 0/100 [00:00<?, ?%/s]"
      ]
     },
     "metadata": {},
     "output_type": "display_data"
    },
    {
     "data": {
      "application/vnd.jupyter.widget-view+json": {
       "model_id": "059b8e037de043259b8420f4f7f43ef6",
       "version_major": 2,
       "version_minor": 0
      },
      "text/plain": [
       "BetweennessCentrality:   0%|          | 0/100 [00:00<?, ?%/s]"
      ]
     },
     "metadata": {},
     "output_type": "display_data"
    },
    {
     "data": {
      "application/vnd.jupyter.widget-view+json": {
       "model_id": "8c4daea4544848c5aabbaf52711fac75",
       "version_major": 2,
       "version_minor": 0
      },
      "text/plain": [
       "BetweennessCentrality:   0%|          | 0/100 [00:00<?, ?%/s]"
      ]
     },
     "metadata": {},
     "output_type": "display_data"
    },
    {
     "data": {
      "application/vnd.jupyter.widget-view+json": {
       "model_id": "245cafa3b3a946c29700abcf6ae8e017",
       "version_major": 2,
       "version_minor": 0
      },
      "text/plain": [
       "BetweennessCentrality:   0%|          | 0/100 [00:00<?, ?%/s]"
      ]
     },
     "metadata": {},
     "output_type": "display_data"
    },
    {
     "data": {
      "application/vnd.jupyter.widget-view+json": {
       "model_id": "db32c2eb17a640fc9c291edb3889da87",
       "version_major": 2,
       "version_minor": 0
      },
      "text/plain": [
       "BetweennessCentrality:   0%|          | 0/100 [00:00<?, ?%/s]"
      ]
     },
     "metadata": {},
     "output_type": "display_data"
    },
    {
     "data": {
      "application/vnd.jupyter.widget-view+json": {
       "model_id": "b4913d12c44042c99eeff51cff69e817",
       "version_major": 2,
       "version_minor": 0
      },
      "text/plain": [
       "BetweennessCentrality:   0%|          | 0/100 [00:00<?, ?%/s]"
      ]
     },
     "metadata": {},
     "output_type": "display_data"
    },
    {
     "data": {
      "application/vnd.jupyter.widget-view+json": {
       "model_id": "707621c7e6ac4d739fe6f70088e21ae5",
       "version_major": 2,
       "version_minor": 0
      },
      "text/plain": [
       "BetweennessCentrality:   0%|          | 0/100 [00:00<?, ?%/s]"
      ]
     },
     "metadata": {},
     "output_type": "display_data"
    },
    {
     "data": {
      "application/vnd.jupyter.widget-view+json": {
       "model_id": "495919a45f244f9d8822ffe8744d396b",
       "version_major": 2,
       "version_minor": 0
      },
      "text/plain": [
       "BetweennessCentrality:   0%|          | 0/100 [00:00<?, ?%/s]"
      ]
     },
     "metadata": {},
     "output_type": "display_data"
    },
    {
     "data": {
      "application/vnd.jupyter.widget-view+json": {
       "model_id": "7b056d0151d845ecbeefdbd6310eebb7",
       "version_major": 2,
       "version_minor": 0
      },
      "text/plain": [
       "BetweennessCentrality:   0%|          | 0/100 [00:00<?, ?%/s]"
      ]
     },
     "metadata": {},
     "output_type": "display_data"
    },
    {
     "data": {
      "application/vnd.jupyter.widget-view+json": {
       "model_id": "5cad26a937494d4a9a064c6cc8cffba5",
       "version_major": 2,
       "version_minor": 0
      },
      "text/plain": [
       "BetweennessCentrality:   0%|          | 0/100 [00:00<?, ?%/s]"
      ]
     },
     "metadata": {},
     "output_type": "display_data"
    },
    {
     "data": {
      "application/vnd.jupyter.widget-view+json": {
       "model_id": "48c101f535e54c7380390211c61507c3",
       "version_major": 2,
       "version_minor": 0
      },
      "text/plain": [
       "BetweennessCentrality:   0%|          | 0/100 [00:00<?, ?%/s]"
      ]
     },
     "metadata": {},
     "output_type": "display_data"
    },
    {
     "data": {
      "application/vnd.jupyter.widget-view+json": {
       "model_id": "afe8b02e446d4c56a52b388a3e0ee754",
       "version_major": 2,
       "version_minor": 0
      },
      "text/plain": [
       "BetweennessCentrality:   0%|          | 0/100 [00:00<?, ?%/s]"
      ]
     },
     "metadata": {},
     "output_type": "display_data"
    },
    {
     "data": {
      "application/vnd.jupyter.widget-view+json": {
       "model_id": "2a2e7625c40d45d1ba0ac321b47666b0",
       "version_major": 2,
       "version_minor": 0
      },
      "text/plain": [
       "BetweennessCentrality:   0%|          | 0/100 [00:00<?, ?%/s]"
      ]
     },
     "metadata": {},
     "output_type": "display_data"
    },
    {
     "data": {
      "application/vnd.jupyter.widget-view+json": {
       "model_id": "fdab08f11766457b920330ed90e777f0",
       "version_major": 2,
       "version_minor": 0
      },
      "text/plain": [
       "BetweennessCentrality:   0%|          | 0/100 [00:00<?, ?%/s]"
      ]
     },
     "metadata": {},
     "output_type": "display_data"
    },
    {
     "data": {
      "application/vnd.jupyter.widget-view+json": {
       "model_id": "0cb2840472db4d2bb989d476b58a2534",
       "version_major": 2,
       "version_minor": 0
      },
      "text/plain": [
       "BetweennessCentrality:   0%|          | 0/100 [00:00<?, ?%/s]"
      ]
     },
     "metadata": {},
     "output_type": "display_data"
    },
    {
     "ename": "KeyboardInterrupt",
     "evalue": "",
     "output_type": "error",
     "traceback": [
      "\u001b[0;31m---------------------------------------------------------------------------\u001b[0m",
      "\u001b[0;31mKeyboardInterrupt\u001b[0m                         Traceback (most recent call last)",
      "\u001b[1;32m/home/vergenter/Sources/masterthesis/data_exploration/benchmark.ipynb Cell 11'\u001b[0m in \u001b[0;36m<cell line: 4>\u001b[0;34m()\u001b[0m\n\u001b[1;32m      <a href='vscode-notebook-cell:/home/vergenter/Sources/masterthesis/data_exploration/benchmark.ipynb#ch0000014?line=5'>6</a>\u001b[0m r1 \u001b[39m=\u001b[39m gds\u001b[39m.\u001b[39mbetweenness\u001b[39m.\u001b[39mwrite\u001b[39m.\u001b[39mestimate(G,writeProperty\u001b[39m=\u001b[39m\u001b[39m'\u001b[39m\u001b[39mbetweenness\u001b[39m\u001b[39m'\u001b[39m)\n\u001b[1;32m      <a href='vscode-notebook-cell:/home/vergenter/Sources/masterthesis/data_exploration/benchmark.ipynb#ch0000014?line=7'>8</a>\u001b[0m \u001b[39mfor\u001b[39;00m i \u001b[39min\u001b[39;00m \u001b[39mrange\u001b[39m(repeats):\n\u001b[0;32m----> <a href='vscode-notebook-cell:/home/vergenter/Sources/masterthesis/data_exploration/benchmark.ipynb#ch0000014?line=8'>9</a>\u001b[0m     r2 \u001b[39m=\u001b[39m gds\u001b[39m.\u001b[39;49mbetweenness\u001b[39m.\u001b[39;49mstats(G)\n\u001b[1;32m     <a href='vscode-notebook-cell:/home/vergenter/Sources/masterthesis/data_exploration/benchmark.ipynb#ch0000014?line=9'>10</a>\u001b[0m     store[i]\u001b[39m=\u001b[39mr2[\u001b[39m\"\u001b[39m\u001b[39mpostProcessingMillis\u001b[39m\u001b[39m\"\u001b[39m],r2[\u001b[39m\"\u001b[39m\u001b[39mpreProcessingMillis\u001b[39m\u001b[39m\"\u001b[39m],r2[\u001b[39m\"\u001b[39m\u001b[39mcomputeMillis\u001b[39m\u001b[39m\"\u001b[39m]\n\u001b[1;32m     <a href='vscode-notebook-cell:/home/vergenter/Sources/masterthesis/data_exploration/benchmark.ipynb#ch0000014?line=11'>12</a>\u001b[0m postProcessingMillis,preProcessingMillis,computeMillis \u001b[39m=\u001b[39m np\u001b[39m.\u001b[39maverage(store,axis\u001b[39m=\u001b[39m\u001b[39m0\u001b[39m)\n",
      "File \u001b[0;32m~/Venvs/sparkNLPVenv/lib/python3.10/site-packages/graphdatascience/algo/algo_proc_runner.py:38\u001b[0m, in \u001b[0;36mStandardModeRunner.__call__\u001b[0;34m(self, G, **config)\u001b[0m\n\u001b[1;32m     37\u001b[0m \u001b[39mdef\u001b[39;00m \u001b[39m__call__\u001b[39m(\u001b[39mself\u001b[39m, G: Graph, \u001b[39m*\u001b[39m\u001b[39m*\u001b[39mconfig: Any) \u001b[39m-\u001b[39m\u001b[39m>\u001b[39m Series:\n\u001b[0;32m---> 38\u001b[0m     \u001b[39mreturn\u001b[39;00m \u001b[39mself\u001b[39;49m\u001b[39m.\u001b[39;49m_run_procedure(G, config)\u001b[39m.\u001b[39msqueeze()\n",
      "File \u001b[0;32m~/Venvs/sparkNLPVenv/lib/python3.10/site-packages/graphdatascience/algo/algo_proc_runner.py:22\u001b[0m, in \u001b[0;36mAlgoProcRunner._run_procedure\u001b[0;34m(self, G, config, with_logging)\u001b[0m\n\u001b[1;32m     19\u001b[0m params[\u001b[39m\"\u001b[39m\u001b[39mconfig\u001b[39m\u001b[39m\"\u001b[39m] \u001b[39m=\u001b[39m config\n\u001b[1;32m     21\u001b[0m \u001b[39mif\u001b[39;00m with_logging:\n\u001b[0;32m---> 22\u001b[0m     \u001b[39mreturn\u001b[39;00m \u001b[39mself\u001b[39;49m\u001b[39m.\u001b[39;49m_query_runner\u001b[39m.\u001b[39;49mrun_query_with_logging(query, params)\n\u001b[1;32m     23\u001b[0m \u001b[39melse\u001b[39;00m:\n\u001b[1;32m     24\u001b[0m     \u001b[39mreturn\u001b[39;00m \u001b[39mself\u001b[39m\u001b[39m.\u001b[39m_query_runner\u001b[39m.\u001b[39mrun_query(query, params)\n",
      "File \u001b[0;32m~/Venvs/sparkNLPVenv/lib/python3.10/site-packages/graphdatascience/query_runner/neo4j_query_runner.py:60\u001b[0m, in \u001b[0;36mNeo4jQueryRunner.run_query_with_logging\u001b[0;34m(self, query, params)\u001b[0m\n\u001b[1;32m     57\u001b[0m \u001b[39mwith\u001b[39;00m ThreadPoolExecutor() \u001b[39mas\u001b[39;00m executor:\n\u001b[1;32m     58\u001b[0m     future \u001b[39m=\u001b[39m executor\u001b[39m.\u001b[39msubmit(\u001b[39mself\u001b[39m\u001b[39m.\u001b[39mrun_query, query, params)\n\u001b[0;32m---> 60\u001b[0m     \u001b[39mself\u001b[39;49m\u001b[39m.\u001b[39;49m_log(job_id, future)\n\u001b[1;32m     62\u001b[0m     \u001b[39mif\u001b[39;00m future\u001b[39m.\u001b[39mexception():\n\u001b[1;32m     63\u001b[0m         \u001b[39mraise\u001b[39;00m future\u001b[39m.\u001b[39mexception()  \u001b[39m# type: ignore\u001b[39;00m\n",
      "File \u001b[0;32m~/Venvs/sparkNLPVenv/lib/python3.10/site-packages/graphdatascience/query_runner/neo4j_query_runner.py:70\u001b[0m, in \u001b[0;36mNeo4jQueryRunner._log\u001b[0;34m(self, job_id, future)\u001b[0m\n\u001b[1;32m     67\u001b[0m \u001b[39mdef\u001b[39;00m \u001b[39m_log\u001b[39m(\u001b[39mself\u001b[39m, job_id: \u001b[39mstr\u001b[39m, future: \u001b[39m\"\u001b[39m\u001b[39mFuture[Any]\u001b[39m\u001b[39m\"\u001b[39m) \u001b[39m-\u001b[39m\u001b[39m>\u001b[39m \u001b[39mNone\u001b[39;00m:\n\u001b[1;32m     68\u001b[0m     pbar \u001b[39m=\u001b[39m \u001b[39mNone\u001b[39;00m\n\u001b[0;32m---> 70\u001b[0m     \u001b[39mwhile\u001b[39;00m wait([future], timeout\u001b[39m=\u001b[39;49m\u001b[39mself\u001b[39;49m\u001b[39m.\u001b[39;49m_LOG_POLLING_INTERVAL)\u001b[39m.\u001b[39mnot_done:\n\u001b[1;32m     71\u001b[0m         \u001b[39mtry\u001b[39;00m:\n\u001b[1;32m     72\u001b[0m             progress \u001b[39m=\u001b[39m \u001b[39mself\u001b[39m\u001b[39m.\u001b[39mrun_query(\u001b[39mf\u001b[39m\u001b[39m\"\u001b[39m\u001b[39mCALL gds.beta.listProgress(\u001b[39m\u001b[39m'\u001b[39m\u001b[39m{\u001b[39;00mjob_id\u001b[39m}\u001b[39;00m\u001b[39m'\u001b[39m\u001b[39m) YIELD taskName, progress\u001b[39m\u001b[39m\"\u001b[39m)\n",
      "File \u001b[0;32m/usr/lib/python3.10/concurrent/futures/_base.py:307\u001b[0m, in \u001b[0;36mwait\u001b[0;34m(fs, timeout, return_when)\u001b[0m\n\u001b[1;32m    303\u001b[0m         \u001b[39mreturn\u001b[39;00m DoneAndNotDoneFutures(done, not_done)\n\u001b[1;32m    305\u001b[0m     waiter \u001b[39m=\u001b[39m _create_and_install_waiters(fs, return_when)\n\u001b[0;32m--> 307\u001b[0m waiter\u001b[39m.\u001b[39;49mevent\u001b[39m.\u001b[39;49mwait(timeout)\n\u001b[1;32m    308\u001b[0m \u001b[39mfor\u001b[39;00m f \u001b[39min\u001b[39;00m fs:\n\u001b[1;32m    309\u001b[0m     \u001b[39mwith\u001b[39;00m f\u001b[39m.\u001b[39m_condition:\n",
      "File \u001b[0;32m/usr/lib/python3.10/threading.py:600\u001b[0m, in \u001b[0;36mEvent.wait\u001b[0;34m(self, timeout)\u001b[0m\n\u001b[1;32m    598\u001b[0m signaled \u001b[39m=\u001b[39m \u001b[39mself\u001b[39m\u001b[39m.\u001b[39m_flag\n\u001b[1;32m    599\u001b[0m \u001b[39mif\u001b[39;00m \u001b[39mnot\u001b[39;00m signaled:\n\u001b[0;32m--> 600\u001b[0m     signaled \u001b[39m=\u001b[39m \u001b[39mself\u001b[39;49m\u001b[39m.\u001b[39;49m_cond\u001b[39m.\u001b[39;49mwait(timeout)\n\u001b[1;32m    601\u001b[0m \u001b[39mreturn\u001b[39;00m signaled\n",
      "File \u001b[0;32m/usr/lib/python3.10/threading.py:324\u001b[0m, in \u001b[0;36mCondition.wait\u001b[0;34m(self, timeout)\u001b[0m\n\u001b[1;32m    322\u001b[0m \u001b[39melse\u001b[39;00m:\n\u001b[1;32m    323\u001b[0m     \u001b[39mif\u001b[39;00m timeout \u001b[39m>\u001b[39m \u001b[39m0\u001b[39m:\n\u001b[0;32m--> 324\u001b[0m         gotit \u001b[39m=\u001b[39m waiter\u001b[39m.\u001b[39;49macquire(\u001b[39mTrue\u001b[39;49;00m, timeout)\n\u001b[1;32m    325\u001b[0m     \u001b[39melse\u001b[39;00m:\n\u001b[1;32m    326\u001b[0m         gotit \u001b[39m=\u001b[39m waiter\u001b[39m.\u001b[39macquire(\u001b[39mFalse\u001b[39;00m)\n",
      "\u001b[0;31mKeyboardInterrupt\u001b[0m: "
     ]
    }
   ],
   "source": [
    "betweennessResult=pd.DataFrame([],columns=[\"graph\",\"bytesMin\",\"bytesMax\",\"postProcessingMillis\",\"preProcessingMillis\",\"computeMillis\",\"sumTimeMillis\"])\n",
    "repeats= 10\n",
    "store = np.zeros((repeats,3))\n",
    "for name in graph_names:\n",
    "    G = gds.graph.get(name)\n",
    "    r1 = gds.betweenness.write.estimate(G,writeProperty='betweenness')\n",
    "\n",
    "    for i in range(repeats):\n",
    "        r2 = gds.betweenness.stats(G)\n",
    "        store[i]=r2[\"postProcessingMillis\"],r2[\"preProcessingMillis\"],r2[\"computeMillis\"]\n",
    "\n",
    "    postProcessingMillis,preProcessingMillis,computeMillis = np.average(store,axis=0)\n",
    "    sumTimeMillis = postProcessingMillis+preProcessingMillis+computeMillis\n",
    "    # didn't add std because it is too slow to repeat\n",
    "    betweennessResult = betweennessResult.append({\"graph\":name,\"bytesMin\":r1[\"bytesMin\"],\"bytesMax\":r1[\"bytesMax\"],\"postProcessingMillis\":postProcessingMillis,\"preProcessingMillis\":preProcessingMillis,\"computeMillis\":computeMillis,\"sumTimeMillis\":sumTimeMillis}, ignore_index=True)"
   ]
  },
  {
   "cell_type": "code",
   "execution_count": 81,
   "metadata": {},
   "outputs": [
    {
     "data": {
      "text/html": [
       "<div>\n",
       "<style scoped>\n",
       "    .dataframe tbody tr th:only-of-type {\n",
       "        vertical-align: middle;\n",
       "    }\n",
       "\n",
       "    .dataframe tbody tr th {\n",
       "        vertical-align: top;\n",
       "    }\n",
       "\n",
       "    .dataframe thead th {\n",
       "        text-align: right;\n",
       "    }\n",
       "</style>\n",
       "<table border=\"1\" class=\"dataframe\">\n",
       "  <thead>\n",
       "    <tr style=\"text-align: right;\">\n",
       "      <th></th>\n",
       "      <th>graph</th>\n",
       "      <th>bytesMin</th>\n",
       "      <th>bytesMax</th>\n",
       "      <th>postProcessingMillis</th>\n",
       "      <th>preProcessingMillis</th>\n",
       "      <th>computeMillis</th>\n",
       "      <th>sumTimeMillis</th>\n",
       "    </tr>\n",
       "  </thead>\n",
       "  <tbody>\n",
       "    <tr>\n",
       "      <th>0</th>\n",
       "      <td>2003ArticlesDirected</td>\n",
       "      <td>468168</td>\n",
       "      <td>468168</td>\n",
       "      <td>64.7</td>\n",
       "      <td>0.0</td>\n",
       "      <td>16.4</td>\n",
       "      <td>81.1</td>\n",
       "    </tr>\n",
       "    <tr>\n",
       "      <th>1</th>\n",
       "      <td>2007ArticlesDirected</td>\n",
       "      <td>1396088</td>\n",
       "      <td>1396088</td>\n",
       "      <td>83.4</td>\n",
       "      <td>0.0</td>\n",
       "      <td>15.6</td>\n",
       "      <td>99.0</td>\n",
       "    </tr>\n",
       "    <tr>\n",
       "      <th>2</th>\n",
       "      <td>2010ArticlesDirected</td>\n",
       "      <td>3634408</td>\n",
       "      <td>3634408</td>\n",
       "      <td>211.1</td>\n",
       "      <td>0.0</td>\n",
       "      <td>116.3</td>\n",
       "      <td>327.4</td>\n",
       "    </tr>\n",
       "    <tr>\n",
       "      <th>3</th>\n",
       "      <td>2013ArticlesDirected</td>\n",
       "      <td>9976656</td>\n",
       "      <td>9976656</td>\n",
       "      <td>468.4</td>\n",
       "      <td>0.0</td>\n",
       "      <td>1511.3</td>\n",
       "      <td>1979.7</td>\n",
       "    </tr>\n",
       "    <tr>\n",
       "      <th>4</th>\n",
       "      <td>2016ArticlesDirected</td>\n",
       "      <td>23909360</td>\n",
       "      <td>23909360</td>\n",
       "      <td>639.8</td>\n",
       "      <td>0.0</td>\n",
       "      <td>48331.2</td>\n",
       "      <td>48971.0</td>\n",
       "    </tr>\n",
       "    <tr>\n",
       "      <th>5</th>\n",
       "      <td>2018ArticlesDirected</td>\n",
       "      <td>49263608</td>\n",
       "      <td>49263608</td>\n",
       "      <td>615.6</td>\n",
       "      <td>0.0</td>\n",
       "      <td>271265.1</td>\n",
       "      <td>271880.7</td>\n",
       "    </tr>\n",
       "    <tr>\n",
       "      <th>6</th>\n",
       "      <td>2020ArticlesDirected</td>\n",
       "      <td>74512624</td>\n",
       "      <td>74512624</td>\n",
       "      <td>653.6</td>\n",
       "      <td>0.0</td>\n",
       "      <td>832704.9</td>\n",
       "      <td>833358.5</td>\n",
       "    </tr>\n",
       "    <tr>\n",
       "      <th>7</th>\n",
       "      <td>2003ArticlesUndirected</td>\n",
       "      <td>521480</td>\n",
       "      <td>521480</td>\n",
       "      <td>125.8</td>\n",
       "      <td>0.0</td>\n",
       "      <td>27.2</td>\n",
       "      <td>153.0</td>\n",
       "    </tr>\n",
       "    <tr>\n",
       "      <th>8</th>\n",
       "      <td>2007ArticlesUndirected</td>\n",
       "      <td>1555448</td>\n",
       "      <td>1555448</td>\n",
       "      <td>162.1</td>\n",
       "      <td>0.0</td>\n",
       "      <td>273.1</td>\n",
       "      <td>435.2</td>\n",
       "    </tr>\n",
       "    <tr>\n",
       "      <th>9</th>\n",
       "      <td>2010ArticlesUndirected</td>\n",
       "      <td>4464744</td>\n",
       "      <td>4464744</td>\n",
       "      <td>293.6</td>\n",
       "      <td>0.0</td>\n",
       "      <td>4703.7</td>\n",
       "      <td>4997.3</td>\n",
       "    </tr>\n",
       "    <tr>\n",
       "      <th>10</th>\n",
       "      <td>2013ArticlesUndirected</td>\n",
       "      <td>12022800</td>\n",
       "      <td>12022800</td>\n",
       "      <td>440.0</td>\n",
       "      <td>0.0</td>\n",
       "      <td>79286.1</td>\n",
       "      <td>79726.1</td>\n",
       "    </tr>\n",
       "    <tr>\n",
       "      <th>11</th>\n",
       "      <td>2016ArticlesUndirected</td>\n",
       "      <td>30581264</td>\n",
       "      <td>30581264</td>\n",
       "      <td>573.2</td>\n",
       "      <td>0.0</td>\n",
       "      <td>814158.3</td>\n",
       "      <td>814731.5</td>\n",
       "    </tr>\n",
       "  </tbody>\n",
       "</table>\n",
       "</div>"
      ],
      "text/plain": [
       "                     graph  bytesMin  bytesMax postProcessingMillis  \\\n",
       "0     2003ArticlesDirected    468168    468168                 64.7   \n",
       "1     2007ArticlesDirected   1396088   1396088                 83.4   \n",
       "2     2010ArticlesDirected   3634408   3634408                211.1   \n",
       "3     2013ArticlesDirected   9976656   9976656                468.4   \n",
       "4     2016ArticlesDirected  23909360  23909360                639.8   \n",
       "5     2018ArticlesDirected  49263608  49263608                615.6   \n",
       "6     2020ArticlesDirected  74512624  74512624                653.6   \n",
       "7   2003ArticlesUndirected    521480    521480                125.8   \n",
       "8   2007ArticlesUndirected   1555448   1555448                162.1   \n",
       "9   2010ArticlesUndirected   4464744   4464744                293.6   \n",
       "10  2013ArticlesUndirected  12022800  12022800                440.0   \n",
       "11  2016ArticlesUndirected  30581264  30581264                573.2   \n",
       "\n",
       "   preProcessingMillis computeMillis sumTimeMillis  \n",
       "0                  0.0          16.4          81.1  \n",
       "1                  0.0          15.6          99.0  \n",
       "2                  0.0         116.3         327.4  \n",
       "3                  0.0        1511.3        1979.7  \n",
       "4                  0.0       48331.2       48971.0  \n",
       "5                  0.0      271265.1      271880.7  \n",
       "6                  0.0      832704.9      833358.5  \n",
       "7                  0.0          27.2         153.0  \n",
       "8                  0.0         273.1         435.2  \n",
       "9                  0.0        4703.7        4997.3  \n",
       "10                 0.0       79286.1       79726.1  \n",
       "11                 0.0      814158.3      814731.5  "
      ]
     },
     "execution_count": 81,
     "metadata": {},
     "output_type": "execute_result"
    }
   ],
   "source": [
    "betweennessResult.to_pickle(\"./betweennessResult.pkl\")\n",
    "betweennessResult.head(20)"
   ]
  },
  {
   "cell_type": "code",
   "execution_count": 65,
   "metadata": {},
   "outputs": [],
   "source": [
    "degreeResult=pd.DataFrame([],columns=[\"graph\",\"bytesMin\",\"bytesMax\",\"postProcessingMillis\",\"preProcessingMillis\",\"computeMillis\",\"sumTimeMillis\",\"stdSumTimeMillis\"])\n",
    "repeats= 10\n",
    "store = np.zeros((repeats,3))\n",
    "for name in graph_names:\n",
    "    G = gds.graph.get(name)\n",
    "    r1 = gds.degree.write.estimate(G,writeProperty='degree')\n",
    "\n",
    "    for i in range(repeats):\n",
    "        r2 = gds.degree.stats(G)\n",
    "        store[i]=r2[\"postProcessingMillis\"],r2[\"preProcessingMillis\"],r2[\"computeMillis\"]\n",
    "\n",
    "    postProcessingMillis,preProcessingMillis,computeMillis = np.average(store,axis=0)\n",
    "    sumTimeMillis = np.average(np.sum(store,axis=1))\n",
    "    stdSumTimeMillis = np.std(np.sum(store,axis=1))\n",
    "    degreeResult = degreeResult.append({\"graph\":name,\"bytesMin\":r1[\"bytesMin\"],\"bytesMax\":r1[\"bytesMax\"],\"postProcessingMillis\":postProcessingMillis,\"preProcessingMillis\":preProcessingMillis,\"computeMillis\":computeMillis,\"sumTimeMillis\":sumTimeMillis,\"stdSumTimeMillis\":stdSumTimeMillis}, ignore_index=True)"
   ]
  },
  {
   "cell_type": "code",
   "execution_count": 80,
   "metadata": {},
   "outputs": [
    {
     "data": {
      "text/html": [
       "<div>\n",
       "<style scoped>\n",
       "    .dataframe tbody tr th:only-of-type {\n",
       "        vertical-align: middle;\n",
       "    }\n",
       "\n",
       "    .dataframe tbody tr th {\n",
       "        vertical-align: top;\n",
       "    }\n",
       "\n",
       "    .dataframe thead th {\n",
       "        text-align: right;\n",
       "    }\n",
       "</style>\n",
       "<table border=\"1\" class=\"dataframe\">\n",
       "  <thead>\n",
       "    <tr style=\"text-align: right;\">\n",
       "      <th></th>\n",
       "      <th>graph</th>\n",
       "      <th>bytesMin</th>\n",
       "      <th>bytesMax</th>\n",
       "      <th>postProcessingMillis</th>\n",
       "      <th>preProcessingMillis</th>\n",
       "      <th>computeMillis</th>\n",
       "      <th>sumTimeMillis</th>\n",
       "      <th>stdSumTimeMillis</th>\n",
       "    </tr>\n",
       "  </thead>\n",
       "  <tbody>\n",
       "    <tr>\n",
       "      <th>0</th>\n",
       "      <td>2003ArticlesDirected</td>\n",
       "      <td>56</td>\n",
       "      <td>56</td>\n",
       "      <td>8.2</td>\n",
       "      <td>0.0</td>\n",
       "      <td>0.0</td>\n",
       "      <td>8.2</td>\n",
       "      <td>1.16619</td>\n",
       "    </tr>\n",
       "    <tr>\n",
       "      <th>1</th>\n",
       "      <td>2007ArticlesDirected</td>\n",
       "      <td>56</td>\n",
       "      <td>56</td>\n",
       "      <td>7.6</td>\n",
       "      <td>0.0</td>\n",
       "      <td>0.0</td>\n",
       "      <td>7.6</td>\n",
       "      <td>0.663325</td>\n",
       "    </tr>\n",
       "    <tr>\n",
       "      <th>2</th>\n",
       "      <td>2010ArticlesDirected</td>\n",
       "      <td>56</td>\n",
       "      <td>56</td>\n",
       "      <td>18.7</td>\n",
       "      <td>0.0</td>\n",
       "      <td>0.0</td>\n",
       "      <td>18.7</td>\n",
       "      <td>0.9</td>\n",
       "    </tr>\n",
       "    <tr>\n",
       "      <th>3</th>\n",
       "      <td>2013ArticlesDirected</td>\n",
       "      <td>56</td>\n",
       "      <td>56</td>\n",
       "      <td>28.1</td>\n",
       "      <td>0.0</td>\n",
       "      <td>0.0</td>\n",
       "      <td>28.1</td>\n",
       "      <td>1.3</td>\n",
       "    </tr>\n",
       "    <tr>\n",
       "      <th>4</th>\n",
       "      <td>2016ArticlesDirected</td>\n",
       "      <td>56</td>\n",
       "      <td>56</td>\n",
       "      <td>52.2</td>\n",
       "      <td>0.0</td>\n",
       "      <td>0.0</td>\n",
       "      <td>52.2</td>\n",
       "      <td>6.764614</td>\n",
       "    </tr>\n",
       "    <tr>\n",
       "      <th>5</th>\n",
       "      <td>2018ArticlesDirected</td>\n",
       "      <td>56</td>\n",
       "      <td>56</td>\n",
       "      <td>66.8</td>\n",
       "      <td>0.0</td>\n",
       "      <td>2.2</td>\n",
       "      <td>69.0</td>\n",
       "      <td>11.462984</td>\n",
       "    </tr>\n",
       "    <tr>\n",
       "      <th>6</th>\n",
       "      <td>2020ArticlesDirected</td>\n",
       "      <td>56</td>\n",
       "      <td>56</td>\n",
       "      <td>74.2</td>\n",
       "      <td>0.0</td>\n",
       "      <td>0.0</td>\n",
       "      <td>74.2</td>\n",
       "      <td>5.418487</td>\n",
       "    </tr>\n",
       "    <tr>\n",
       "      <th>7</th>\n",
       "      <td>2003ArticlesUndirected</td>\n",
       "      <td>56</td>\n",
       "      <td>56</td>\n",
       "      <td>15.1</td>\n",
       "      <td>0.0</td>\n",
       "      <td>0.0</td>\n",
       "      <td>15.1</td>\n",
       "      <td>5.262129</td>\n",
       "    </tr>\n",
       "    <tr>\n",
       "      <th>8</th>\n",
       "      <td>2007ArticlesUndirected</td>\n",
       "      <td>56</td>\n",
       "      <td>56</td>\n",
       "      <td>14.4</td>\n",
       "      <td>0.0</td>\n",
       "      <td>0.0</td>\n",
       "      <td>14.4</td>\n",
       "      <td>1.280625</td>\n",
       "    </tr>\n",
       "    <tr>\n",
       "      <th>9</th>\n",
       "      <td>2010ArticlesUndirected</td>\n",
       "      <td>56</td>\n",
       "      <td>56</td>\n",
       "      <td>27.3</td>\n",
       "      <td>0.0</td>\n",
       "      <td>0.0</td>\n",
       "      <td>27.3</td>\n",
       "      <td>1.187434</td>\n",
       "    </tr>\n",
       "    <tr>\n",
       "      <th>10</th>\n",
       "      <td>2013ArticlesUndirected</td>\n",
       "      <td>56</td>\n",
       "      <td>56</td>\n",
       "      <td>49.2</td>\n",
       "      <td>0.0</td>\n",
       "      <td>0.0</td>\n",
       "      <td>49.2</td>\n",
       "      <td>6.794115</td>\n",
       "    </tr>\n",
       "    <tr>\n",
       "      <th>11</th>\n",
       "      <td>2016ArticlesUndirected</td>\n",
       "      <td>56</td>\n",
       "      <td>56</td>\n",
       "      <td>99.2</td>\n",
       "      <td>0.0</td>\n",
       "      <td>0.0</td>\n",
       "      <td>99.2</td>\n",
       "      <td>8.840814</td>\n",
       "    </tr>\n",
       "    <tr>\n",
       "      <th>12</th>\n",
       "      <td>2018ArticlesUndirected</td>\n",
       "      <td>56</td>\n",
       "      <td>56</td>\n",
       "      <td>122.4</td>\n",
       "      <td>0.0</td>\n",
       "      <td>0.0</td>\n",
       "      <td>122.4</td>\n",
       "      <td>9.046546</td>\n",
       "    </tr>\n",
       "    <tr>\n",
       "      <th>13</th>\n",
       "      <td>2020ArticlesUndirected</td>\n",
       "      <td>56</td>\n",
       "      <td>56</td>\n",
       "      <td>134.9</td>\n",
       "      <td>0.0</td>\n",
       "      <td>0.0</td>\n",
       "      <td>134.9</td>\n",
       "      <td>12.348684</td>\n",
       "    </tr>\n",
       "  </tbody>\n",
       "</table>\n",
       "</div>"
      ],
      "text/plain": [
       "                     graph bytesMin bytesMax postProcessingMillis  \\\n",
       "0     2003ArticlesDirected       56       56                  8.2   \n",
       "1     2007ArticlesDirected       56       56                  7.6   \n",
       "2     2010ArticlesDirected       56       56                 18.7   \n",
       "3     2013ArticlesDirected       56       56                 28.1   \n",
       "4     2016ArticlesDirected       56       56                 52.2   \n",
       "5     2018ArticlesDirected       56       56                 66.8   \n",
       "6     2020ArticlesDirected       56       56                 74.2   \n",
       "7   2003ArticlesUndirected       56       56                 15.1   \n",
       "8   2007ArticlesUndirected       56       56                 14.4   \n",
       "9   2010ArticlesUndirected       56       56                 27.3   \n",
       "10  2013ArticlesUndirected       56       56                 49.2   \n",
       "11  2016ArticlesUndirected       56       56                 99.2   \n",
       "12  2018ArticlesUndirected       56       56                122.4   \n",
       "13  2020ArticlesUndirected       56       56                134.9   \n",
       "\n",
       "   preProcessingMillis computeMillis sumTimeMillis stdSumTimeMillis  \n",
       "0                  0.0           0.0           8.2          1.16619  \n",
       "1                  0.0           0.0           7.6         0.663325  \n",
       "2                  0.0           0.0          18.7              0.9  \n",
       "3                  0.0           0.0          28.1              1.3  \n",
       "4                  0.0           0.0          52.2         6.764614  \n",
       "5                  0.0           2.2          69.0        11.462984  \n",
       "6                  0.0           0.0          74.2         5.418487  \n",
       "7                  0.0           0.0          15.1         5.262129  \n",
       "8                  0.0           0.0          14.4         1.280625  \n",
       "9                  0.0           0.0          27.3         1.187434  \n",
       "10                 0.0           0.0          49.2         6.794115  \n",
       "11                 0.0           0.0          99.2         8.840814  \n",
       "12                 0.0           0.0         122.4         9.046546  \n",
       "13                 0.0           0.0         134.9        12.348684  "
      ]
     },
     "execution_count": 80,
     "metadata": {},
     "output_type": "execute_result"
    }
   ],
   "source": [
    "degreeResult.to_pickle(\"./degreeResult.pkl\")\n",
    "degreeResult.head(20)"
   ]
  },
  {
   "cell_type": "code",
   "execution_count": 71,
   "metadata": {},
   "outputs": [
    {
     "name": "stdout",
     "output_type": "stream",
     "text": [
      "2003ArticlesDirected\n",
      "2007ArticlesDirected\n",
      "2010ArticlesDirected\n",
      "2013ArticlesDirected\n",
      "2016ArticlesDirected\n",
      "2003ArticlesUndirected\n",
      "2007ArticlesUndirected\n",
      "2010ArticlesUndirected\n",
      "2013ArticlesUndirected\n"
     ]
    }
   ],
   "source": [
    "closenessResult=pd.DataFrame([],columns=[\"graph\",\"postProcessingMillis\",\"preProcessingMillis\",\"computeMillis\",\"sumTimeMillis\",\"stdSumTimeMillis\"])\n",
    "repeats= 10\n",
    "store = np.zeros((repeats,3))\n",
    "for name in get_graph_names(5,4):\n",
    "    print(name)\n",
    "    G = gds.graph.get(name)\n",
    "    # r1 = gds.beta.closeness.write.estimate(G,useWassermanFaust=True,writeProperty='closeness')\n",
    "\n",
    "    for i in range(repeats):\n",
    "        r2 = gds.beta.closeness.stats(G,useWassermanFaust=True)\n",
    "        store[i]=r2[\"postProcessingMillis\"],r2[\"preProcessingMillis\"],r2[\"computeMillis\"]\n",
    "\n",
    "    postProcessingMillis,preProcessingMillis,computeMillis = np.average(store,axis=0)\n",
    "    sumTimeMillis = np.average(np.sum(store,axis=1))\n",
    "    stdSumTimeMillis = np.std(np.sum(store,axis=1))\n",
    "    closenessResult = closenessResult.append({\"graph\":name,\"postProcessingMillis\":postProcessingMillis,\"preProcessingMillis\":preProcessingMillis,\"computeMillis\":computeMillis,\"sumTimeMillis\":sumTimeMillis,\"stdSumTimeMillis\":stdSumTimeMillis}, ignore_index=True)"
   ]
  },
  {
   "cell_type": "code",
   "execution_count": 79,
   "metadata": {},
   "outputs": [
    {
     "data": {
      "text/html": [
       "<div>\n",
       "<style scoped>\n",
       "    .dataframe tbody tr th:only-of-type {\n",
       "        vertical-align: middle;\n",
       "    }\n",
       "\n",
       "    .dataframe tbody tr th {\n",
       "        vertical-align: top;\n",
       "    }\n",
       "\n",
       "    .dataframe thead th {\n",
       "        text-align: right;\n",
       "    }\n",
       "</style>\n",
       "<table border=\"1\" class=\"dataframe\">\n",
       "  <thead>\n",
       "    <tr style=\"text-align: right;\">\n",
       "      <th></th>\n",
       "      <th>graph</th>\n",
       "      <th>postProcessingMillis</th>\n",
       "      <th>preProcessingMillis</th>\n",
       "      <th>computeMillis</th>\n",
       "      <th>sumTimeMillis</th>\n",
       "      <th>stdSumTimeMillis</th>\n",
       "    </tr>\n",
       "  </thead>\n",
       "  <tbody>\n",
       "    <tr>\n",
       "      <th>0</th>\n",
       "      <td>2003ArticlesDirected</td>\n",
       "      <td>23.2</td>\n",
       "      <td>0.0</td>\n",
       "      <td>1.5</td>\n",
       "      <td>24.7</td>\n",
       "      <td>7.253275</td>\n",
       "    </tr>\n",
       "    <tr>\n",
       "      <th>1</th>\n",
       "      <td>2007ArticlesDirected</td>\n",
       "      <td>30.6</td>\n",
       "      <td>2.1</td>\n",
       "      <td>7.9</td>\n",
       "      <td>40.6</td>\n",
       "      <td>14.927826</td>\n",
       "    </tr>\n",
       "    <tr>\n",
       "      <th>2</th>\n",
       "      <td>2010ArticlesDirected</td>\n",
       "      <td>47.6</td>\n",
       "      <td>0.0</td>\n",
       "      <td>118.3</td>\n",
       "      <td>165.9</td>\n",
       "      <td>24.114104</td>\n",
       "    </tr>\n",
       "    <tr>\n",
       "      <th>3</th>\n",
       "      <td>2013ArticlesDirected</td>\n",
       "      <td>72.6</td>\n",
       "      <td>0.0</td>\n",
       "      <td>1315.3</td>\n",
       "      <td>1387.9</td>\n",
       "      <td>88.69549</td>\n",
       "    </tr>\n",
       "    <tr>\n",
       "      <th>4</th>\n",
       "      <td>2016ArticlesDirected</td>\n",
       "      <td>93.5</td>\n",
       "      <td>0.0</td>\n",
       "      <td>23648.0</td>\n",
       "      <td>23741.5</td>\n",
       "      <td>523.105009</td>\n",
       "    </tr>\n",
       "    <tr>\n",
       "      <th>5</th>\n",
       "      <td>2003ArticlesUndirected</td>\n",
       "      <td>23.4</td>\n",
       "      <td>0.0</td>\n",
       "      <td>29.1</td>\n",
       "      <td>52.5</td>\n",
       "      <td>8.20061</td>\n",
       "    </tr>\n",
       "    <tr>\n",
       "      <th>6</th>\n",
       "      <td>2007ArticlesUndirected</td>\n",
       "      <td>35.5</td>\n",
       "      <td>0.0</td>\n",
       "      <td>324.5</td>\n",
       "      <td>360.0</td>\n",
       "      <td>9.705668</td>\n",
       "    </tr>\n",
       "    <tr>\n",
       "      <th>7</th>\n",
       "      <td>2010ArticlesUndirected</td>\n",
       "      <td>57.4</td>\n",
       "      <td>0.0</td>\n",
       "      <td>2616.5</td>\n",
       "      <td>2673.9</td>\n",
       "      <td>32.234919</td>\n",
       "    </tr>\n",
       "    <tr>\n",
       "      <th>8</th>\n",
       "      <td>2013ArticlesUndirected</td>\n",
       "      <td>122.4</td>\n",
       "      <td>0.0</td>\n",
       "      <td>16639.7</td>\n",
       "      <td>16762.1</td>\n",
       "      <td>206.381419</td>\n",
       "    </tr>\n",
       "  </tbody>\n",
       "</table>\n",
       "</div>"
      ],
      "text/plain": [
       "                    graph postProcessingMillis preProcessingMillis  \\\n",
       "0    2003ArticlesDirected                 23.2                 0.0   \n",
       "1    2007ArticlesDirected                 30.6                 2.1   \n",
       "2    2010ArticlesDirected                 47.6                 0.0   \n",
       "3    2013ArticlesDirected                 72.6                 0.0   \n",
       "4    2016ArticlesDirected                 93.5                 0.0   \n",
       "5  2003ArticlesUndirected                 23.4                 0.0   \n",
       "6  2007ArticlesUndirected                 35.5                 0.0   \n",
       "7  2010ArticlesUndirected                 57.4                 0.0   \n",
       "8  2013ArticlesUndirected                122.4                 0.0   \n",
       "\n",
       "  computeMillis sumTimeMillis stdSumTimeMillis  \n",
       "0           1.5          24.7         7.253275  \n",
       "1           7.9          40.6        14.927826  \n",
       "2         118.3         165.9        24.114104  \n",
       "3        1315.3        1387.9         88.69549  \n",
       "4       23648.0       23741.5       523.105009  \n",
       "5          29.1          52.5          8.20061  \n",
       "6         324.5         360.0         9.705668  \n",
       "7        2616.5        2673.9        32.234919  \n",
       "8       16639.7       16762.1       206.381419  "
      ]
     },
     "execution_count": 79,
     "metadata": {},
     "output_type": "execute_result"
    }
   ],
   "source": [
    "closenessResult.to_pickle(\"./closenessResult.pkl\")\n",
    "closenessResult.head(20)"
   ]
  },
  {
   "cell_type": "code",
   "execution_count": 76,
   "metadata": {},
   "outputs": [
    {
     "name": "stdout",
     "output_type": "stream",
     "text": [
      "2003ArticlesDirected\n",
      "2007ArticlesDirected\n",
      "2010ArticlesDirected\n",
      "2013ArticlesDirected\n",
      "2016ArticlesDirected\n",
      "2018ArticlesDirected\n",
      "2020ArticlesDirected\n",
      "2003ArticlesUndirected\n",
      "2007ArticlesUndirected\n",
      "2010ArticlesUndirected\n",
      "2013ArticlesUndirected\n",
      "2016ArticlesUndirected\n",
      "2018ArticlesUndirected\n",
      "2020ArticlesUndirected\n"
     ]
    }
   ],
   "source": [
    "harmonicResult=pd.DataFrame([],columns=[\"graph\",\"preProcessingMillis\",\"computeMillis\",\"sumTimeMillis\",\"stdSumTimeMillis\"])\n",
    "repeats= 10 \n",
    "store = np.zeros((repeats,2))\n",
    "for name in graph_names:\n",
    "    print(name)\n",
    "    G = gds.graph.get(name)\n",
    "    # r1 = gds.alpha.closeness.harmonic.write.estimate(G,writeProperty='harmonic')\n",
    "\n",
    "    for i in range(repeats):\n",
    "        r2 = gds.alpha.closeness.harmonic.write(G)\n",
    "        store[i]=r2[\"preProcessingMillis\"],r2[\"computeMillis\"]\n",
    "\n",
    "    preProcessingMillis,computeMillis = np.average(store,axis=0)\n",
    "    sumTimeMillis = np.average(np.sum(store,axis=1))\n",
    "    stdSumTimeMillis = np.std(np.sum(store,axis=1))\n",
    "    harmonicResult = harmonicResult.append({\"graph\":name,\"preProcessingMillis\":preProcessingMillis,\"computeMillis\":computeMillis,\"sumTimeMillis\":sumTimeMillis,\"stdSumTimeMillis\":stdSumTimeMillis}, ignore_index=True)"
   ]
  },
  {
   "cell_type": "code",
   "execution_count": 77,
   "metadata": {},
   "outputs": [
    {
     "data": {
      "text/html": [
       "<div>\n",
       "<style scoped>\n",
       "    .dataframe tbody tr th:only-of-type {\n",
       "        vertical-align: middle;\n",
       "    }\n",
       "\n",
       "    .dataframe tbody tr th {\n",
       "        vertical-align: top;\n",
       "    }\n",
       "\n",
       "    .dataframe thead th {\n",
       "        text-align: right;\n",
       "    }\n",
       "</style>\n",
       "<table border=\"1\" class=\"dataframe\">\n",
       "  <thead>\n",
       "    <tr style=\"text-align: right;\">\n",
       "      <th></th>\n",
       "      <th>graph</th>\n",
       "      <th>preProcessingMillis</th>\n",
       "      <th>computeMillis</th>\n",
       "      <th>sumTimeMillis</th>\n",
       "      <th>stdSumTimeMillis</th>\n",
       "    </tr>\n",
       "  </thead>\n",
       "  <tbody>\n",
       "    <tr>\n",
       "      <th>0</th>\n",
       "      <td>2003ArticlesDirected</td>\n",
       "      <td>0.0</td>\n",
       "      <td>0.6</td>\n",
       "      <td>0.6</td>\n",
       "      <td>0.916515</td>\n",
       "    </tr>\n",
       "    <tr>\n",
       "      <th>1</th>\n",
       "      <td>2007ArticlesDirected</td>\n",
       "      <td>0.0</td>\n",
       "      <td>4.4</td>\n",
       "      <td>4.4</td>\n",
       "      <td>2.154066</td>\n",
       "    </tr>\n",
       "    <tr>\n",
       "      <th>2</th>\n",
       "      <td>2010ArticlesDirected</td>\n",
       "      <td>0.0</td>\n",
       "      <td>70.9</td>\n",
       "      <td>70.9</td>\n",
       "      <td>19.279263</td>\n",
       "    </tr>\n",
       "    <tr>\n",
       "      <th>3</th>\n",
       "      <td>2013ArticlesDirected</td>\n",
       "      <td>0.0</td>\n",
       "      <td>692.3</td>\n",
       "      <td>692.3</td>\n",
       "      <td>115.422745</td>\n",
       "    </tr>\n",
       "    <tr>\n",
       "      <th>4</th>\n",
       "      <td>2016ArticlesDirected</td>\n",
       "      <td>0.0</td>\n",
       "      <td>10636.3</td>\n",
       "      <td>10636.3</td>\n",
       "      <td>1018.321467</td>\n",
       "    </tr>\n",
       "    <tr>\n",
       "      <th>5</th>\n",
       "      <td>2018ArticlesDirected</td>\n",
       "      <td>0.0</td>\n",
       "      <td>60388.5</td>\n",
       "      <td>60388.5</td>\n",
       "      <td>3278.735008</td>\n",
       "    </tr>\n",
       "    <tr>\n",
       "      <th>6</th>\n",
       "      <td>2020ArticlesDirected</td>\n",
       "      <td>0.0</td>\n",
       "      <td>156017.7</td>\n",
       "      <td>156017.7</td>\n",
       "      <td>8719.545402</td>\n",
       "    </tr>\n",
       "    <tr>\n",
       "      <th>7</th>\n",
       "      <td>2003ArticlesUndirected</td>\n",
       "      <td>0.0</td>\n",
       "      <td>7.5</td>\n",
       "      <td>7.5</td>\n",
       "      <td>1.284523</td>\n",
       "    </tr>\n",
       "    <tr>\n",
       "      <th>8</th>\n",
       "      <td>2007ArticlesUndirected</td>\n",
       "      <td>0.0</td>\n",
       "      <td>108.0</td>\n",
       "      <td>108.0</td>\n",
       "      <td>24.531612</td>\n",
       "    </tr>\n",
       "    <tr>\n",
       "      <th>9</th>\n",
       "      <td>2010ArticlesUndirected</td>\n",
       "      <td>0.0</td>\n",
       "      <td>788.5</td>\n",
       "      <td>788.5</td>\n",
       "      <td>53.417694</td>\n",
       "    </tr>\n",
       "    <tr>\n",
       "      <th>10</th>\n",
       "      <td>2013ArticlesUndirected</td>\n",
       "      <td>0.0</td>\n",
       "      <td>5001.4</td>\n",
       "      <td>5001.4</td>\n",
       "      <td>602.03176</td>\n",
       "    </tr>\n",
       "    <tr>\n",
       "      <th>11</th>\n",
       "      <td>2016ArticlesUndirected</td>\n",
       "      <td>0.0</td>\n",
       "      <td>33546.7</td>\n",
       "      <td>33546.7</td>\n",
       "      <td>2875.042888</td>\n",
       "    </tr>\n",
       "    <tr>\n",
       "      <th>12</th>\n",
       "      <td>2018ArticlesUndirected</td>\n",
       "      <td>0.0</td>\n",
       "      <td>122690.3</td>\n",
       "      <td>122690.3</td>\n",
       "      <td>10092.825829</td>\n",
       "    </tr>\n",
       "    <tr>\n",
       "      <th>13</th>\n",
       "      <td>2020ArticlesUndirected</td>\n",
       "      <td>0.0</td>\n",
       "      <td>301012.7</td>\n",
       "      <td>301012.7</td>\n",
       "      <td>16768.671307</td>\n",
       "    </tr>\n",
       "  </tbody>\n",
       "</table>\n",
       "</div>"
      ],
      "text/plain": [
       "                     graph preProcessingMillis computeMillis sumTimeMillis  \\\n",
       "0     2003ArticlesDirected                 0.0           0.6           0.6   \n",
       "1     2007ArticlesDirected                 0.0           4.4           4.4   \n",
       "2     2010ArticlesDirected                 0.0          70.9          70.9   \n",
       "3     2013ArticlesDirected                 0.0         692.3         692.3   \n",
       "4     2016ArticlesDirected                 0.0       10636.3       10636.3   \n",
       "5     2018ArticlesDirected                 0.0       60388.5       60388.5   \n",
       "6     2020ArticlesDirected                 0.0      156017.7      156017.7   \n",
       "7   2003ArticlesUndirected                 0.0           7.5           7.5   \n",
       "8   2007ArticlesUndirected                 0.0         108.0         108.0   \n",
       "9   2010ArticlesUndirected                 0.0         788.5         788.5   \n",
       "10  2013ArticlesUndirected                 0.0        5001.4        5001.4   \n",
       "11  2016ArticlesUndirected                 0.0       33546.7       33546.7   \n",
       "12  2018ArticlesUndirected                 0.0      122690.3      122690.3   \n",
       "13  2020ArticlesUndirected                 0.0      301012.7      301012.7   \n",
       "\n",
       "   stdSumTimeMillis  \n",
       "0          0.916515  \n",
       "1          2.154066  \n",
       "2         19.279263  \n",
       "3        115.422745  \n",
       "4       1018.321467  \n",
       "5       3278.735008  \n",
       "6       8719.545402  \n",
       "7          1.284523  \n",
       "8         24.531612  \n",
       "9         53.417694  \n",
       "10        602.03176  \n",
       "11      2875.042888  \n",
       "12     10092.825829  \n",
       "13     16768.671307  "
      ]
     },
     "execution_count": 77,
     "metadata": {},
     "output_type": "execute_result"
    }
   ],
   "source": [
    "harmonicResult.to_pickle(\"./harmonicResult.pkl\")\n",
    "harmonicResult.head(20)"
   ]
  },
  {
   "cell_type": "code",
   "execution_count": 91,
   "metadata": {},
   "outputs": [
    {
     "name": "stdout",
     "output_type": "stream",
     "text": [
      "2003ArticlesDirected\n",
      "2007ArticlesDirected\n",
      "2010ArticlesDirected\n",
      "2013ArticlesDirected\n",
      "2016ArticlesDirected\n"
     ]
    },
    {
     "data": {
      "application/vnd.jupyter.widget-view+json": {
       "model_id": "c1d11fc92bc14f51b8f062c5766b8fce",
       "version_major": 2,
       "version_minor": 0
      },
      "text/plain": [
       "HitsImpl:   0%|          | 0/100 [00:00<?, ?%/s]"
      ]
     },
     "metadata": {},
     "output_type": "display_data"
    },
    {
     "data": {
      "application/vnd.jupyter.widget-view+json": {
       "model_id": "41bebefe671f4f40953c4defe04827aa",
       "version_major": 2,
       "version_minor": 0
      },
      "text/plain": [
       "HitsImpl:   0%|          | 0/100 [00:00<?, ?%/s]"
      ]
     },
     "metadata": {},
     "output_type": "display_data"
    },
    {
     "data": {
      "application/vnd.jupyter.widget-view+json": {
       "model_id": "35164163a56545f595d2a460c09cad14",
       "version_major": 2,
       "version_minor": 0
      },
      "text/plain": [
       "HitsImpl:   0%|          | 0/100 [00:00<?, ?%/s]"
      ]
     },
     "metadata": {},
     "output_type": "display_data"
    },
    {
     "data": {
      "application/vnd.jupyter.widget-view+json": {
       "model_id": "107aca397cde43a9aeed119f04040c70",
       "version_major": 2,
       "version_minor": 0
      },
      "text/plain": [
       "HitsImpl:   0%|          | 0/100 [00:00<?, ?%/s]"
      ]
     },
     "metadata": {},
     "output_type": "display_data"
    },
    {
     "data": {
      "application/vnd.jupyter.widget-view+json": {
       "model_id": "f63704427a4440bf8efdce6b2de27a20",
       "version_major": 2,
       "version_minor": 0
      },
      "text/plain": [
       "HitsImpl:   0%|          | 0/100 [00:00<?, ?%/s]"
      ]
     },
     "metadata": {},
     "output_type": "display_data"
    },
    {
     "data": {
      "application/vnd.jupyter.widget-view+json": {
       "model_id": "de3f151ee718450991f68c58138c2453",
       "version_major": 2,
       "version_minor": 0
      },
      "text/plain": [
       "HitsImpl:   0%|          | 0/100 [00:00<?, ?%/s]"
      ]
     },
     "metadata": {},
     "output_type": "display_data"
    },
    {
     "data": {
      "application/vnd.jupyter.widget-view+json": {
       "model_id": "51195a4b28534d6784aff0393dabd36f",
       "version_major": 2,
       "version_minor": 0
      },
      "text/plain": [
       "HitsImpl:   0%|          | 0/100 [00:00<?, ?%/s]"
      ]
     },
     "metadata": {},
     "output_type": "display_data"
    },
    {
     "data": {
      "application/vnd.jupyter.widget-view+json": {
       "model_id": "a389b4b5662a4c6c8a2f38cf5ec6e23c",
       "version_major": 2,
       "version_minor": 0
      },
      "text/plain": [
       "HitsImpl:   0%|          | 0/100 [00:00<?, ?%/s]"
      ]
     },
     "metadata": {},
     "output_type": "display_data"
    },
    {
     "data": {
      "application/vnd.jupyter.widget-view+json": {
       "model_id": "f844742ee48a49d6b15e2f510682aeea",
       "version_major": 2,
       "version_minor": 0
      },
      "text/plain": [
       "HitsImpl:   0%|          | 0/100 [00:00<?, ?%/s]"
      ]
     },
     "metadata": {},
     "output_type": "display_data"
    },
    {
     "data": {
      "application/vnd.jupyter.widget-view+json": {
       "model_id": "eb830445cc114a4eadd160f04b119930",
       "version_major": 2,
       "version_minor": 0
      },
      "text/plain": [
       "HitsImpl:   0%|          | 0/100 [00:00<?, ?%/s]"
      ]
     },
     "metadata": {},
     "output_type": "display_data"
    },
    {
     "name": "stdout",
     "output_type": "stream",
     "text": [
      "2018ArticlesDirected\n"
     ]
    },
    {
     "data": {
      "application/vnd.jupyter.widget-view+json": {
       "model_id": "078cdd59ae974b1a89a9a0043fe0688f",
       "version_major": 2,
       "version_minor": 0
      },
      "text/plain": [
       "HitsImpl:   0%|          | 0/100 [00:00<?, ?%/s]"
      ]
     },
     "metadata": {},
     "output_type": "display_data"
    },
    {
     "data": {
      "application/vnd.jupyter.widget-view+json": {
       "model_id": "7a03402e3c22478abe670ae8762931c7",
       "version_major": 2,
       "version_minor": 0
      },
      "text/plain": [
       "HitsImpl:   0%|          | 0/100 [00:00<?, ?%/s]"
      ]
     },
     "metadata": {},
     "output_type": "display_data"
    },
    {
     "data": {
      "application/vnd.jupyter.widget-view+json": {
       "model_id": "2a644505af8c4fd281c24afc87bf24c5",
       "version_major": 2,
       "version_minor": 0
      },
      "text/plain": [
       "HitsImpl:   0%|          | 0/100 [00:00<?, ?%/s]"
      ]
     },
     "metadata": {},
     "output_type": "display_data"
    },
    {
     "data": {
      "application/vnd.jupyter.widget-view+json": {
       "model_id": "26fcd3831aea463eb90834cd03ec64bc",
       "version_major": 2,
       "version_minor": 0
      },
      "text/plain": [
       "HitsImpl:   0%|          | 0/100 [00:00<?, ?%/s]"
      ]
     },
     "metadata": {},
     "output_type": "display_data"
    },
    {
     "data": {
      "application/vnd.jupyter.widget-view+json": {
       "model_id": "ffd55a2ed0b946c897df7d6507a7e524",
       "version_major": 2,
       "version_minor": 0
      },
      "text/plain": [
       "HitsImpl:   0%|          | 0/100 [00:00<?, ?%/s]"
      ]
     },
     "metadata": {},
     "output_type": "display_data"
    },
    {
     "data": {
      "application/vnd.jupyter.widget-view+json": {
       "model_id": "da2c3fa69c0e4891b95b30fbb4556c88",
       "version_major": 2,
       "version_minor": 0
      },
      "text/plain": [
       "HitsImpl:   0%|          | 0/100 [00:00<?, ?%/s]"
      ]
     },
     "metadata": {},
     "output_type": "display_data"
    },
    {
     "data": {
      "application/vnd.jupyter.widget-view+json": {
       "model_id": "f87f9ec42cc5429aaf98d1226b58dd34",
       "version_major": 2,
       "version_minor": 0
      },
      "text/plain": [
       "HitsImpl:   0%|          | 0/100 [00:00<?, ?%/s]"
      ]
     },
     "metadata": {},
     "output_type": "display_data"
    },
    {
     "data": {
      "application/vnd.jupyter.widget-view+json": {
       "model_id": "02b95288e48041578c9c67bc9207ad91",
       "version_major": 2,
       "version_minor": 0
      },
      "text/plain": [
       "HitsImpl:   0%|          | 0/100 [00:00<?, ?%/s]"
      ]
     },
     "metadata": {},
     "output_type": "display_data"
    },
    {
     "data": {
      "application/vnd.jupyter.widget-view+json": {
       "model_id": "519f5d427d634032a108847bfb5b2889",
       "version_major": 2,
       "version_minor": 0
      },
      "text/plain": [
       "HitsImpl:   0%|          | 0/100 [00:00<?, ?%/s]"
      ]
     },
     "metadata": {},
     "output_type": "display_data"
    },
    {
     "data": {
      "application/vnd.jupyter.widget-view+json": {
       "model_id": "979475010bac4f108be7dfd7586c4db3",
       "version_major": 2,
       "version_minor": 0
      },
      "text/plain": [
       "HitsImpl:   0%|          | 0/100 [00:00<?, ?%/s]"
      ]
     },
     "metadata": {},
     "output_type": "display_data"
    },
    {
     "name": "stdout",
     "output_type": "stream",
     "text": [
      "2020ArticlesDirected\n"
     ]
    },
    {
     "data": {
      "application/vnd.jupyter.widget-view+json": {
       "model_id": "d02eb46443c94aa5b0e79eac5edf8fa5",
       "version_major": 2,
       "version_minor": 0
      },
      "text/plain": [
       "HitsImpl:   0%|          | 0/100 [00:00<?, ?%/s]"
      ]
     },
     "metadata": {},
     "output_type": "display_data"
    },
    {
     "data": {
      "application/vnd.jupyter.widget-view+json": {
       "model_id": "ac6505aa058e42a786df6086beff5977",
       "version_major": 2,
       "version_minor": 0
      },
      "text/plain": [
       "HitsImpl:   0%|          | 0/100 [00:00<?, ?%/s]"
      ]
     },
     "metadata": {},
     "output_type": "display_data"
    },
    {
     "data": {
      "application/vnd.jupyter.widget-view+json": {
       "model_id": "45ca7804bd6b4e9b85ffc9aa38a7ff7a",
       "version_major": 2,
       "version_minor": 0
      },
      "text/plain": [
       "HitsImpl:   0%|          | 0/100 [00:00<?, ?%/s]"
      ]
     },
     "metadata": {},
     "output_type": "display_data"
    },
    {
     "data": {
      "application/vnd.jupyter.widget-view+json": {
       "model_id": "7f155002c7a94a54bc7b1bfb9dd9a4ce",
       "version_major": 2,
       "version_minor": 0
      },
      "text/plain": [
       "HitsImpl:   0%|          | 0/100 [00:00<?, ?%/s]"
      ]
     },
     "metadata": {},
     "output_type": "display_data"
    },
    {
     "data": {
      "application/vnd.jupyter.widget-view+json": {
       "model_id": "03d8c6b113de462a86fefb266763b420",
       "version_major": 2,
       "version_minor": 0
      },
      "text/plain": [
       "HitsImpl:   0%|          | 0/100 [00:00<?, ?%/s]"
      ]
     },
     "metadata": {},
     "output_type": "display_data"
    },
    {
     "data": {
      "application/vnd.jupyter.widget-view+json": {
       "model_id": "7eff22ad3eaf47698e5e883006d7d143",
       "version_major": 2,
       "version_minor": 0
      },
      "text/plain": [
       "HitsImpl:   0%|          | 0/100 [00:00<?, ?%/s]"
      ]
     },
     "metadata": {},
     "output_type": "display_data"
    },
    {
     "data": {
      "application/vnd.jupyter.widget-view+json": {
       "model_id": "c67d87c61c954affb15a7cc9c9786470",
       "version_major": 2,
       "version_minor": 0
      },
      "text/plain": [
       "HitsImpl:   0%|          | 0/100 [00:00<?, ?%/s]"
      ]
     },
     "metadata": {},
     "output_type": "display_data"
    },
    {
     "data": {
      "application/vnd.jupyter.widget-view+json": {
       "model_id": "0ced825f71924df8a9179f15314b6f98",
       "version_major": 2,
       "version_minor": 0
      },
      "text/plain": [
       "HitsImpl:   0%|          | 0/100 [00:00<?, ?%/s]"
      ]
     },
     "metadata": {},
     "output_type": "display_data"
    },
    {
     "data": {
      "application/vnd.jupyter.widget-view+json": {
       "model_id": "70aa230ee8e4472d9cc274c0862caf15",
       "version_major": 2,
       "version_minor": 0
      },
      "text/plain": [
       "HitsImpl:   0%|          | 0/100 [00:00<?, ?%/s]"
      ]
     },
     "metadata": {},
     "output_type": "display_data"
    },
    {
     "data": {
      "application/vnd.jupyter.widget-view+json": {
       "model_id": "c912e2b3595648c49681af4315781411",
       "version_major": 2,
       "version_minor": 0
      },
      "text/plain": [
       "HitsImpl:   0%|          | 0/100 [00:00<?, ?%/s]"
      ]
     },
     "metadata": {},
     "output_type": "display_data"
    },
    {
     "name": "stdout",
     "output_type": "stream",
     "text": [
      "2003ArticlesUndirected\n",
      "2007ArticlesUndirected\n",
      "2010ArticlesUndirected\n",
      "2013ArticlesUndirected\n",
      "2016ArticlesUndirected\n"
     ]
    },
    {
     "data": {
      "application/vnd.jupyter.widget-view+json": {
       "model_id": "106da6c54fab492ba90a4220dbb19c8e",
       "version_major": 2,
       "version_minor": 0
      },
      "text/plain": [
       "HitsImpl:   0%|          | 0/100 [00:00<?, ?%/s]"
      ]
     },
     "metadata": {},
     "output_type": "display_data"
    },
    {
     "data": {
      "application/vnd.jupyter.widget-view+json": {
       "model_id": "1e1e42377dfe4356ad1f6cb671324635",
       "version_major": 2,
       "version_minor": 0
      },
      "text/plain": [
       "HitsImpl:   0%|          | 0/100 [00:00<?, ?%/s]"
      ]
     },
     "metadata": {},
     "output_type": "display_data"
    },
    {
     "data": {
      "application/vnd.jupyter.widget-view+json": {
       "model_id": "3de4ac72ba484230a97ba7639010fd12",
       "version_major": 2,
       "version_minor": 0
      },
      "text/plain": [
       "HitsImpl:   0%|          | 0/100 [00:00<?, ?%/s]"
      ]
     },
     "metadata": {},
     "output_type": "display_data"
    },
    {
     "data": {
      "application/vnd.jupyter.widget-view+json": {
       "model_id": "387a7097361f4f80a2ef65939b4ccf91",
       "version_major": 2,
       "version_minor": 0
      },
      "text/plain": [
       "HitsImpl:   0%|          | 0/100 [00:00<?, ?%/s]"
      ]
     },
     "metadata": {},
     "output_type": "display_data"
    },
    {
     "data": {
      "application/vnd.jupyter.widget-view+json": {
       "model_id": "2f3ec2b1f51e4626b3f6627fab9b82bd",
       "version_major": 2,
       "version_minor": 0
      },
      "text/plain": [
       "HitsImpl:   0%|          | 0/100 [00:00<?, ?%/s]"
      ]
     },
     "metadata": {},
     "output_type": "display_data"
    },
    {
     "data": {
      "application/vnd.jupyter.widget-view+json": {
       "model_id": "442d90ff2a3146d2904d025f4b24ca2c",
       "version_major": 2,
       "version_minor": 0
      },
      "text/plain": [
       "HitsImpl:   0%|          | 0/100 [00:00<?, ?%/s]"
      ]
     },
     "metadata": {},
     "output_type": "display_data"
    },
    {
     "data": {
      "application/vnd.jupyter.widget-view+json": {
       "model_id": "062143fe883646ecb6c4b8fb9d13ba6e",
       "version_major": 2,
       "version_minor": 0
      },
      "text/plain": [
       "HitsImpl:   0%|          | 0/100 [00:00<?, ?%/s]"
      ]
     },
     "metadata": {},
     "output_type": "display_data"
    },
    {
     "data": {
      "application/vnd.jupyter.widget-view+json": {
       "model_id": "0fc57730fafb43798d2754dba41a4f34",
       "version_major": 2,
       "version_minor": 0
      },
      "text/plain": [
       "HitsImpl:   0%|          | 0/100 [00:00<?, ?%/s]"
      ]
     },
     "metadata": {},
     "output_type": "display_data"
    },
    {
     "data": {
      "application/vnd.jupyter.widget-view+json": {
       "model_id": "26e98b08c14a486ea513b46e914d46bf",
       "version_major": 2,
       "version_minor": 0
      },
      "text/plain": [
       "HitsImpl:   0%|          | 0/100 [00:00<?, ?%/s]"
      ]
     },
     "metadata": {},
     "output_type": "display_data"
    },
    {
     "data": {
      "application/vnd.jupyter.widget-view+json": {
       "model_id": "201ee24b9c914257b6b9fe0def9f660c",
       "version_major": 2,
       "version_minor": 0
      },
      "text/plain": [
       "HitsImpl:   0%|          | 0/100 [00:00<?, ?%/s]"
      ]
     },
     "metadata": {},
     "output_type": "display_data"
    },
    {
     "name": "stdout",
     "output_type": "stream",
     "text": [
      "2018ArticlesUndirected\n"
     ]
    },
    {
     "data": {
      "application/vnd.jupyter.widget-view+json": {
       "model_id": "49e719be3dbe4c28b28b7e9be8d208e0",
       "version_major": 2,
       "version_minor": 0
      },
      "text/plain": [
       "HitsImpl:   0%|          | 0/100 [00:00<?, ?%/s]"
      ]
     },
     "metadata": {},
     "output_type": "display_data"
    },
    {
     "data": {
      "application/vnd.jupyter.widget-view+json": {
       "model_id": "601cd12fcbd142b2be6d720c92df472e",
       "version_major": 2,
       "version_minor": 0
      },
      "text/plain": [
       "HitsImpl:   0%|          | 0/100 [00:00<?, ?%/s]"
      ]
     },
     "metadata": {},
     "output_type": "display_data"
    },
    {
     "data": {
      "application/vnd.jupyter.widget-view+json": {
       "model_id": "9b1afae6cdd843ca955821f068f19e00",
       "version_major": 2,
       "version_minor": 0
      },
      "text/plain": [
       "HitsImpl:   0%|          | 0/100 [00:00<?, ?%/s]"
      ]
     },
     "metadata": {},
     "output_type": "display_data"
    },
    {
     "data": {
      "application/vnd.jupyter.widget-view+json": {
       "model_id": "80e5391047384988bfce9d05fe31b33c",
       "version_major": 2,
       "version_minor": 0
      },
      "text/plain": [
       "HitsImpl:   0%|          | 0/100 [00:00<?, ?%/s]"
      ]
     },
     "metadata": {},
     "output_type": "display_data"
    },
    {
     "data": {
      "application/vnd.jupyter.widget-view+json": {
       "model_id": "7c4098edeea04cefadfc161c1812c039",
       "version_major": 2,
       "version_minor": 0
      },
      "text/plain": [
       "HitsImpl:   0%|          | 0/100 [00:00<?, ?%/s]"
      ]
     },
     "metadata": {},
     "output_type": "display_data"
    },
    {
     "data": {
      "application/vnd.jupyter.widget-view+json": {
       "model_id": "175558b5bf8247aa8cebde21735e6c78",
       "version_major": 2,
       "version_minor": 0
      },
      "text/plain": [
       "HitsImpl:   0%|          | 0/100 [00:00<?, ?%/s]"
      ]
     },
     "metadata": {},
     "output_type": "display_data"
    },
    {
     "data": {
      "application/vnd.jupyter.widget-view+json": {
       "model_id": "55a6d10ec6c448fa8f315ee0affe617e",
       "version_major": 2,
       "version_minor": 0
      },
      "text/plain": [
       "HitsImpl:   0%|          | 0/100 [00:00<?, ?%/s]"
      ]
     },
     "metadata": {},
     "output_type": "display_data"
    },
    {
     "data": {
      "application/vnd.jupyter.widget-view+json": {
       "model_id": "9a71dbb56eca486d80efaadbda8c83b9",
       "version_major": 2,
       "version_minor": 0
      },
      "text/plain": [
       "HitsImpl:   0%|          | 0/100 [00:00<?, ?%/s]"
      ]
     },
     "metadata": {},
     "output_type": "display_data"
    },
    {
     "data": {
      "application/vnd.jupyter.widget-view+json": {
       "model_id": "0975f8e49b4946d386d87cfd01dba2c5",
       "version_major": 2,
       "version_minor": 0
      },
      "text/plain": [
       "HitsImpl:   0%|          | 0/100 [00:00<?, ?%/s]"
      ]
     },
     "metadata": {},
     "output_type": "display_data"
    },
    {
     "data": {
      "application/vnd.jupyter.widget-view+json": {
       "model_id": "e964f1125cde4d08b8e7c3d56b80d3df",
       "version_major": 2,
       "version_minor": 0
      },
      "text/plain": [
       "HitsImpl:   0%|          | 0/100 [00:00<?, ?%/s]"
      ]
     },
     "metadata": {},
     "output_type": "display_data"
    },
    {
     "name": "stdout",
     "output_type": "stream",
     "text": [
      "2020ArticlesUndirected\n"
     ]
    },
    {
     "data": {
      "application/vnd.jupyter.widget-view+json": {
       "model_id": "5fbc0fb805b64ec0ad5185276accbf9e",
       "version_major": 2,
       "version_minor": 0
      },
      "text/plain": [
       "HitsImpl:   0%|          | 0/100 [00:00<?, ?%/s]"
      ]
     },
     "metadata": {},
     "output_type": "display_data"
    },
    {
     "data": {
      "application/vnd.jupyter.widget-view+json": {
       "model_id": "152ac61630174fa58665394ca03fa18a",
       "version_major": 2,
       "version_minor": 0
      },
      "text/plain": [
       "HitsImpl:   0%|          | 0/100 [00:00<?, ?%/s]"
      ]
     },
     "metadata": {},
     "output_type": "display_data"
    },
    {
     "data": {
      "application/vnd.jupyter.widget-view+json": {
       "model_id": "eb6cddc7265544a5b92620d29ddf6090",
       "version_major": 2,
       "version_minor": 0
      },
      "text/plain": [
       "HitsImpl:   0%|          | 0/100 [00:00<?, ?%/s]"
      ]
     },
     "metadata": {},
     "output_type": "display_data"
    },
    {
     "data": {
      "application/vnd.jupyter.widget-view+json": {
       "model_id": "901236865c70497191bfcc70ce0c9b8f",
       "version_major": 2,
       "version_minor": 0
      },
      "text/plain": [
       "HitsImpl:   0%|          | 0/100 [00:00<?, ?%/s]"
      ]
     },
     "metadata": {},
     "output_type": "display_data"
    },
    {
     "data": {
      "application/vnd.jupyter.widget-view+json": {
       "model_id": "f8b7797e58594afcb080d22de3b913fe",
       "version_major": 2,
       "version_minor": 0
      },
      "text/plain": [
       "HitsImpl:   0%|          | 0/100 [00:00<?, ?%/s]"
      ]
     },
     "metadata": {},
     "output_type": "display_data"
    },
    {
     "data": {
      "application/vnd.jupyter.widget-view+json": {
       "model_id": "2af936cb95ca4e6692e33c8e12ff34d8",
       "version_major": 2,
       "version_minor": 0
      },
      "text/plain": [
       "HitsImpl:   0%|          | 0/100 [00:00<?, ?%/s]"
      ]
     },
     "metadata": {},
     "output_type": "display_data"
    },
    {
     "data": {
      "application/vnd.jupyter.widget-view+json": {
       "model_id": "aefb150574ee46c081acb65e0c6db6de",
       "version_major": 2,
       "version_minor": 0
      },
      "text/plain": [
       "HitsImpl:   0%|          | 0/100 [00:00<?, ?%/s]"
      ]
     },
     "metadata": {},
     "output_type": "display_data"
    },
    {
     "data": {
      "application/vnd.jupyter.widget-view+json": {
       "model_id": "556bf657e19e4a87aa6690d429881b40",
       "version_major": 2,
       "version_minor": 0
      },
      "text/plain": [
       "HitsImpl:   0%|          | 0/100 [00:00<?, ?%/s]"
      ]
     },
     "metadata": {},
     "output_type": "display_data"
    },
    {
     "data": {
      "application/vnd.jupyter.widget-view+json": {
       "model_id": "283f2ee4e4a44077b49fc85da7692631",
       "version_major": 2,
       "version_minor": 0
      },
      "text/plain": [
       "HitsImpl:   0%|          | 0/100 [00:00<?, ?%/s]"
      ]
     },
     "metadata": {},
     "output_type": "display_data"
    },
    {
     "data": {
      "application/vnd.jupyter.widget-view+json": {
       "model_id": "b53d474f0f194e41b7467d53d40ba71f",
       "version_major": 2,
       "version_minor": 0
      },
      "text/plain": [
       "HitsImpl:   0%|          | 0/100 [00:00<?, ?%/s]"
      ]
     },
     "metadata": {},
     "output_type": "display_data"
    }
   ],
   "source": [
    "hitsResult=pd.DataFrame([],columns=[\"graph\",\"postProcessingMillis\",\"preProcessingMillis\",\"computeMillis\",\"sumTimeMillis\",\"stdSumTimeMillis\"])\n",
    "repeats= 10 \n",
    "store = np.zeros((repeats,3))\n",
    "for name in graph_names:\n",
    "    print(name)\n",
    "    G = gds.graph.get(name)\n",
    "    # r1 = gds.alpha.hits.write.estimate(G)\n",
    "\n",
    "    for i in range(repeats):\n",
    "        r2 = gds.alpha.hits.stats(G,hitsIterations= 20)\n",
    "        store[i]=r2[\"postProcessingMillis\"],r2[\"preProcessingMillis\"],r2[\"computeMillis\"]\n",
    "\n",
    "    postProcessingMillis,preProcessingMillis,computeMillis = np.average(store,axis=0)\n",
    "    sumTimeMillis = np.average(np.sum(store,axis=1))\n",
    "    stdSumTimeMillis = np.std(np.sum(store,axis=1))\n",
    "    hitsResult = hitsResult.append({\"graph\":name,\"postProcessingMillis\":postProcessingMillis,\"preProcessingMillis\":preProcessingMillis,\"computeMillis\":computeMillis,\"sumTimeMillis\":sumTimeMillis,\"stdSumTimeMillis\":stdSumTimeMillis}, ignore_index=True)"
   ]
  },
  {
   "cell_type": "code",
   "execution_count": 92,
   "metadata": {},
   "outputs": [
    {
     "data": {
      "text/html": [
       "<div>\n",
       "<style scoped>\n",
       "    .dataframe tbody tr th:only-of-type {\n",
       "        vertical-align: middle;\n",
       "    }\n",
       "\n",
       "    .dataframe tbody tr th {\n",
       "        vertical-align: top;\n",
       "    }\n",
       "\n",
       "    .dataframe thead th {\n",
       "        text-align: right;\n",
       "    }\n",
       "</style>\n",
       "<table border=\"1\" class=\"dataframe\">\n",
       "  <thead>\n",
       "    <tr style=\"text-align: right;\">\n",
       "      <th></th>\n",
       "      <th>graph</th>\n",
       "      <th>postProcessingMillis</th>\n",
       "      <th>preProcessingMillis</th>\n",
       "      <th>computeMillis</th>\n",
       "      <th>sumTimeMillis</th>\n",
       "      <th>stdSumTimeMillis</th>\n",
       "    </tr>\n",
       "  </thead>\n",
       "  <tbody>\n",
       "    <tr>\n",
       "      <th>0</th>\n",
       "      <td>2003ArticlesDirected</td>\n",
       "      <td>0.0</td>\n",
       "      <td>0.0</td>\n",
       "      <td>63.5</td>\n",
       "      <td>63.5</td>\n",
       "      <td>75.28114</td>\n",
       "    </tr>\n",
       "    <tr>\n",
       "      <th>1</th>\n",
       "      <td>2007ArticlesDirected</td>\n",
       "      <td>0.0</td>\n",
       "      <td>0.0</td>\n",
       "      <td>65.6</td>\n",
       "      <td>65.6</td>\n",
       "      <td>10.983624</td>\n",
       "    </tr>\n",
       "    <tr>\n",
       "      <th>2</th>\n",
       "      <td>2010ArticlesDirected</td>\n",
       "      <td>0.0</td>\n",
       "      <td>0.0</td>\n",
       "      <td>160.4</td>\n",
       "      <td>160.4</td>\n",
       "      <td>15.837929</td>\n",
       "    </tr>\n",
       "    <tr>\n",
       "      <th>3</th>\n",
       "      <td>2013ArticlesDirected</td>\n",
       "      <td>0.0</td>\n",
       "      <td>0.0</td>\n",
       "      <td>240.2</td>\n",
       "      <td>240.2</td>\n",
       "      <td>31.88981</td>\n",
       "    </tr>\n",
       "    <tr>\n",
       "      <th>4</th>\n",
       "      <td>2016ArticlesDirected</td>\n",
       "      <td>0.0</td>\n",
       "      <td>0.0</td>\n",
       "      <td>705.2</td>\n",
       "      <td>705.2</td>\n",
       "      <td>60.001333</td>\n",
       "    </tr>\n",
       "    <tr>\n",
       "      <th>5</th>\n",
       "      <td>2018ArticlesDirected</td>\n",
       "      <td>0.0</td>\n",
       "      <td>0.0</td>\n",
       "      <td>1428.3</td>\n",
       "      <td>1428.3</td>\n",
       "      <td>42.284867</td>\n",
       "    </tr>\n",
       "    <tr>\n",
       "      <th>6</th>\n",
       "      <td>2020ArticlesDirected</td>\n",
       "      <td>0.0</td>\n",
       "      <td>0.0</td>\n",
       "      <td>2432.8</td>\n",
       "      <td>2432.8</td>\n",
       "      <td>116.718293</td>\n",
       "    </tr>\n",
       "    <tr>\n",
       "      <th>7</th>\n",
       "      <td>2003ArticlesUndirected</td>\n",
       "      <td>0.0</td>\n",
       "      <td>0.0</td>\n",
       "      <td>38.8</td>\n",
       "      <td>38.8</td>\n",
       "      <td>30.221846</td>\n",
       "    </tr>\n",
       "    <tr>\n",
       "      <th>8</th>\n",
       "      <td>2007ArticlesUndirected</td>\n",
       "      <td>0.0</td>\n",
       "      <td>0.0</td>\n",
       "      <td>86.7</td>\n",
       "      <td>86.7</td>\n",
       "      <td>27.989462</td>\n",
       "    </tr>\n",
       "    <tr>\n",
       "      <th>9</th>\n",
       "      <td>2010ArticlesUndirected</td>\n",
       "      <td>0.0</td>\n",
       "      <td>0.0</td>\n",
       "      <td>206.5</td>\n",
       "      <td>206.5</td>\n",
       "      <td>33.865174</td>\n",
       "    </tr>\n",
       "    <tr>\n",
       "      <th>10</th>\n",
       "      <td>2013ArticlesUndirected</td>\n",
       "      <td>0.0</td>\n",
       "      <td>0.0</td>\n",
       "      <td>307.6</td>\n",
       "      <td>307.6</td>\n",
       "      <td>9.921693</td>\n",
       "    </tr>\n",
       "    <tr>\n",
       "      <th>11</th>\n",
       "      <td>2016ArticlesUndirected</td>\n",
       "      <td>0.0</td>\n",
       "      <td>0.0</td>\n",
       "      <td>911.8</td>\n",
       "      <td>911.8</td>\n",
       "      <td>29.454371</td>\n",
       "    </tr>\n",
       "    <tr>\n",
       "      <th>12</th>\n",
       "      <td>2018ArticlesUndirected</td>\n",
       "      <td>0.0</td>\n",
       "      <td>0.0</td>\n",
       "      <td>2255.0</td>\n",
       "      <td>2255.0</td>\n",
       "      <td>72.773622</td>\n",
       "    </tr>\n",
       "    <tr>\n",
       "      <th>13</th>\n",
       "      <td>2020ArticlesUndirected</td>\n",
       "      <td>0.0</td>\n",
       "      <td>0.0</td>\n",
       "      <td>4159.8</td>\n",
       "      <td>4159.8</td>\n",
       "      <td>134.172874</td>\n",
       "    </tr>\n",
       "  </tbody>\n",
       "</table>\n",
       "</div>"
      ],
      "text/plain": [
       "                     graph postProcessingMillis preProcessingMillis  \\\n",
       "0     2003ArticlesDirected                  0.0                 0.0   \n",
       "1     2007ArticlesDirected                  0.0                 0.0   \n",
       "2     2010ArticlesDirected                  0.0                 0.0   \n",
       "3     2013ArticlesDirected                  0.0                 0.0   \n",
       "4     2016ArticlesDirected                  0.0                 0.0   \n",
       "5     2018ArticlesDirected                  0.0                 0.0   \n",
       "6     2020ArticlesDirected                  0.0                 0.0   \n",
       "7   2003ArticlesUndirected                  0.0                 0.0   \n",
       "8   2007ArticlesUndirected                  0.0                 0.0   \n",
       "9   2010ArticlesUndirected                  0.0                 0.0   \n",
       "10  2013ArticlesUndirected                  0.0                 0.0   \n",
       "11  2016ArticlesUndirected                  0.0                 0.0   \n",
       "12  2018ArticlesUndirected                  0.0                 0.0   \n",
       "13  2020ArticlesUndirected                  0.0                 0.0   \n",
       "\n",
       "   computeMillis sumTimeMillis stdSumTimeMillis  \n",
       "0           63.5          63.5         75.28114  \n",
       "1           65.6          65.6        10.983624  \n",
       "2          160.4         160.4        15.837929  \n",
       "3          240.2         240.2         31.88981  \n",
       "4          705.2         705.2        60.001333  \n",
       "5         1428.3        1428.3        42.284867  \n",
       "6         2432.8        2432.8       116.718293  \n",
       "7           38.8          38.8        30.221846  \n",
       "8           86.7          86.7        27.989462  \n",
       "9          206.5         206.5        33.865174  \n",
       "10         307.6         307.6         9.921693  \n",
       "11         911.8         911.8        29.454371  \n",
       "12        2255.0        2255.0        72.773622  \n",
       "13        4159.8        4159.8       134.172874  "
      ]
     },
     "execution_count": 92,
     "metadata": {},
     "output_type": "execute_result"
    }
   ],
   "source": [
    "hitsResult.to_pickle(\"./hitsResult.pkl\")\n",
    "hitsResult.head(20)"
   ]
  },
  {
   "cell_type": "code",
   "execution_count": 20,
   "metadata": {},
   "outputs": [
    {
     "name": "stdout",
     "output_type": "stream",
     "text": [
      "2003ArticlesDirected\n"
     ]
    },
    {
     "data": {
      "application/vnd.jupyter.widget-view+json": {
       "model_id": "e00ea3d0a8574ad2af30d809b4690f47",
       "version_major": 2,
       "version_minor": 0
      },
      "text/plain": [
       "Louvain:   0%|          | 0/100 [00:00<?, ?%/s]"
      ]
     },
     "metadata": {},
     "output_type": "display_data"
    },
    {
     "data": {
      "application/vnd.jupyter.widget-view+json": {
       "model_id": "d2e6b7aa059c45179ae5fd4ae74a11ab",
       "version_major": 2,
       "version_minor": 0
      },
      "text/plain": [
       "Louvain:   0%|          | 0/100 [00:00<?, ?%/s]"
      ]
     },
     "metadata": {},
     "output_type": "display_data"
    },
    {
     "name": "stdout",
     "output_type": "stream",
     "text": [
      "2007ArticlesDirected\n",
      "2010ArticlesDirected\n",
      "2013ArticlesDirected\n"
     ]
    },
    {
     "data": {
      "application/vnd.jupyter.widget-view+json": {
       "model_id": "5cbb645edb224d0386a99e70e5d1dacf",
       "version_major": 2,
       "version_minor": 0
      },
      "text/plain": [
       "Louvain:   0%|          | 0/100 [00:00<?, ?%/s]"
      ]
     },
     "metadata": {},
     "output_type": "display_data"
    },
    {
     "data": {
      "application/vnd.jupyter.widget-view+json": {
       "model_id": "bdaf9251dd814dcea3097232580641b3",
       "version_major": 2,
       "version_minor": 0
      },
      "text/plain": [
       "Louvain:   0%|          | 0/100 [00:00<?, ?%/s]"
      ]
     },
     "metadata": {},
     "output_type": "display_data"
    },
    {
     "name": "stdout",
     "output_type": "stream",
     "text": [
      "2016ArticlesDirected\n"
     ]
    },
    {
     "data": {
      "application/vnd.jupyter.widget-view+json": {
       "model_id": "4199cf66cd854e0bab1ffa1ce006fbbb",
       "version_major": 2,
       "version_minor": 0
      },
      "text/plain": [
       "Louvain:   0%|          | 0/100 [00:00<?, ?%/s]"
      ]
     },
     "metadata": {},
     "output_type": "display_data"
    },
    {
     "data": {
      "application/vnd.jupyter.widget-view+json": {
       "model_id": "f805669246db4e6fb00def0ee2447d56",
       "version_major": 2,
       "version_minor": 0
      },
      "text/plain": [
       "Louvain:   0%|          | 0/100 [00:00<?, ?%/s]"
      ]
     },
     "metadata": {},
     "output_type": "display_data"
    },
    {
     "data": {
      "application/vnd.jupyter.widget-view+json": {
       "model_id": "702012f098094826b886eeccf9cc1811",
       "version_major": 2,
       "version_minor": 0
      },
      "text/plain": [
       "Louvain:   0%|          | 0/100 [00:00<?, ?%/s]"
      ]
     },
     "metadata": {},
     "output_type": "display_data"
    },
    {
     "data": {
      "application/vnd.jupyter.widget-view+json": {
       "model_id": "48ae1204187a4b91a7cd21ba140e9be8",
       "version_major": 2,
       "version_minor": 0
      },
      "text/plain": [
       "Louvain:   0%|          | 0/100 [00:00<?, ?%/s]"
      ]
     },
     "metadata": {},
     "output_type": "display_data"
    },
    {
     "data": {
      "application/vnd.jupyter.widget-view+json": {
       "model_id": "8743b0c1767e45a780c2430adf28cd97",
       "version_major": 2,
       "version_minor": 0
      },
      "text/plain": [
       "Louvain:   0%|          | 0/100 [00:00<?, ?%/s]"
      ]
     },
     "metadata": {},
     "output_type": "display_data"
    },
    {
     "name": "stdout",
     "output_type": "stream",
     "text": [
      "2018ArticlesDirected\n"
     ]
    },
    {
     "data": {
      "application/vnd.jupyter.widget-view+json": {
       "model_id": "a803258f03a94339b56014364fd65196",
       "version_major": 2,
       "version_minor": 0
      },
      "text/plain": [
       "Louvain:   0%|          | 0/100 [00:00<?, ?%/s]"
      ]
     },
     "metadata": {},
     "output_type": "display_data"
    },
    {
     "data": {
      "application/vnd.jupyter.widget-view+json": {
       "model_id": "f9b44a90d6564b08b9858a6fe0789d9c",
       "version_major": 2,
       "version_minor": 0
      },
      "text/plain": [
       "Louvain:   0%|          | 0/100 [00:00<?, ?%/s]"
      ]
     },
     "metadata": {},
     "output_type": "display_data"
    },
    {
     "data": {
      "application/vnd.jupyter.widget-view+json": {
       "model_id": "2ef7f174411144639cd0dad245e8d0d9",
       "version_major": 2,
       "version_minor": 0
      },
      "text/plain": [
       "Louvain:   0%|          | 0/100 [00:00<?, ?%/s]"
      ]
     },
     "metadata": {},
     "output_type": "display_data"
    },
    {
     "data": {
      "application/vnd.jupyter.widget-view+json": {
       "model_id": "229bc3a3a7824c4982499631e68ad9a0",
       "version_major": 2,
       "version_minor": 0
      },
      "text/plain": [
       "Louvain:   0%|          | 0/100 [00:00<?, ?%/s]"
      ]
     },
     "metadata": {},
     "output_type": "display_data"
    },
    {
     "data": {
      "application/vnd.jupyter.widget-view+json": {
       "model_id": "7e79e19179af41cd9a9766db3c430ebc",
       "version_major": 2,
       "version_minor": 0
      },
      "text/plain": [
       "Louvain:   0%|          | 0/100 [00:00<?, ?%/s]"
      ]
     },
     "metadata": {},
     "output_type": "display_data"
    },
    {
     "name": "stdout",
     "output_type": "stream",
     "text": [
      "2020ArticlesDirected\n"
     ]
    },
    {
     "data": {
      "application/vnd.jupyter.widget-view+json": {
       "model_id": "bc88dc6d73ae41b495b02a19995bf1a1",
       "version_major": 2,
       "version_minor": 0
      },
      "text/plain": [
       "Louvain:   0%|          | 0/100 [00:00<?, ?%/s]"
      ]
     },
     "metadata": {},
     "output_type": "display_data"
    },
    {
     "data": {
      "application/vnd.jupyter.widget-view+json": {
       "model_id": "478e188e0cf149d992c2dd3d544e5f2a",
       "version_major": 2,
       "version_minor": 0
      },
      "text/plain": [
       "Louvain:   0%|          | 0/100 [00:00<?, ?%/s]"
      ]
     },
     "metadata": {},
     "output_type": "display_data"
    },
    {
     "data": {
      "application/vnd.jupyter.widget-view+json": {
       "model_id": "d38924a51e85452d9fb1a8dbc1d10b6f",
       "version_major": 2,
       "version_minor": 0
      },
      "text/plain": [
       "Louvain:   0%|          | 0/100 [00:00<?, ?%/s]"
      ]
     },
     "metadata": {},
     "output_type": "display_data"
    },
    {
     "data": {
      "application/vnd.jupyter.widget-view+json": {
       "model_id": "d62f1b52f81b4dccae30b5997bf500bc",
       "version_major": 2,
       "version_minor": 0
      },
      "text/plain": [
       "Louvain:   0%|          | 0/100 [00:00<?, ?%/s]"
      ]
     },
     "metadata": {},
     "output_type": "display_data"
    },
    {
     "data": {
      "application/vnd.jupyter.widget-view+json": {
       "model_id": "eb89087b6efe43d29378ba138e716237",
       "version_major": 2,
       "version_minor": 0
      },
      "text/plain": [
       "Louvain:   0%|          | 0/100 [00:00<?, ?%/s]"
      ]
     },
     "metadata": {},
     "output_type": "display_data"
    },
    {
     "name": "stdout",
     "output_type": "stream",
     "text": [
      "2003ArticlesUndirected\n",
      "2007ArticlesUndirected\n",
      "2010ArticlesUndirected\n"
     ]
    },
    {
     "data": {
      "application/vnd.jupyter.widget-view+json": {
       "model_id": "a6b47f16edf04d9f9d65699a101c87b2",
       "version_major": 2,
       "version_minor": 0
      },
      "text/plain": [
       "Louvain:   0%|          | 0/100 [00:00<?, ?%/s]"
      ]
     },
     "metadata": {},
     "output_type": "display_data"
    },
    {
     "data": {
      "application/vnd.jupyter.widget-view+json": {
       "model_id": "17728cd17f8f400697b538ac05c0ba33",
       "version_major": 2,
       "version_minor": 0
      },
      "text/plain": [
       "Louvain:   0%|          | 0/100 [00:00<?, ?%/s]"
      ]
     },
     "metadata": {},
     "output_type": "display_data"
    },
    {
     "name": "stdout",
     "output_type": "stream",
     "text": [
      "2013ArticlesUndirected\n"
     ]
    },
    {
     "data": {
      "application/vnd.jupyter.widget-view+json": {
       "model_id": "e47fa2ff206b41c6b13da3b859d7de7c",
       "version_major": 2,
       "version_minor": 0
      },
      "text/plain": [
       "Louvain:   0%|          | 0/100 [00:00<?, ?%/s]"
      ]
     },
     "metadata": {},
     "output_type": "display_data"
    },
    {
     "data": {
      "application/vnd.jupyter.widget-view+json": {
       "model_id": "7bda4d7035ee44f4b09f636773e89b6d",
       "version_major": 2,
       "version_minor": 0
      },
      "text/plain": [
       "Louvain:   0%|          | 0/100 [00:00<?, ?%/s]"
      ]
     },
     "metadata": {},
     "output_type": "display_data"
    },
    {
     "data": {
      "application/vnd.jupyter.widget-view+json": {
       "model_id": "de99e5a3ef4c4cc5a23fff1fea82ef7c",
       "version_major": 2,
       "version_minor": 0
      },
      "text/plain": [
       "Louvain:   0%|          | 0/100 [00:00<?, ?%/s]"
      ]
     },
     "metadata": {},
     "output_type": "display_data"
    },
    {
     "data": {
      "application/vnd.jupyter.widget-view+json": {
       "model_id": "ffe329bdba854464bfe1c7558e9837f3",
       "version_major": 2,
       "version_minor": 0
      },
      "text/plain": [
       "Louvain:   0%|          | 0/100 [00:00<?, ?%/s]"
      ]
     },
     "metadata": {},
     "output_type": "display_data"
    },
    {
     "data": {
      "application/vnd.jupyter.widget-view+json": {
       "model_id": "aa1a76cd019549ad832f5054045a21cb",
       "version_major": 2,
       "version_minor": 0
      },
      "text/plain": [
       "Louvain:   0%|          | 0/100 [00:00<?, ?%/s]"
      ]
     },
     "metadata": {},
     "output_type": "display_data"
    },
    {
     "name": "stdout",
     "output_type": "stream",
     "text": [
      "2016ArticlesUndirected\n"
     ]
    },
    {
     "data": {
      "application/vnd.jupyter.widget-view+json": {
       "model_id": "6480c45511de4392850f1790824f04fd",
       "version_major": 2,
       "version_minor": 0
      },
      "text/plain": [
       "Louvain:   0%|          | 0/100 [00:00<?, ?%/s]"
      ]
     },
     "metadata": {},
     "output_type": "display_data"
    },
    {
     "data": {
      "application/vnd.jupyter.widget-view+json": {
       "model_id": "3d64f727596c4c538466a85e47a3196b",
       "version_major": 2,
       "version_minor": 0
      },
      "text/plain": [
       "Louvain:   0%|          | 0/100 [00:00<?, ?%/s]"
      ]
     },
     "metadata": {},
     "output_type": "display_data"
    },
    {
     "data": {
      "application/vnd.jupyter.widget-view+json": {
       "model_id": "20dab90c23f8497d9e17b980ef3edc1b",
       "version_major": 2,
       "version_minor": 0
      },
      "text/plain": [
       "Louvain:   0%|          | 0/100 [00:00<?, ?%/s]"
      ]
     },
     "metadata": {},
     "output_type": "display_data"
    },
    {
     "data": {
      "application/vnd.jupyter.widget-view+json": {
       "model_id": "e66bc3d782fe4ad7b3b8c95fc1c6d43f",
       "version_major": 2,
       "version_minor": 0
      },
      "text/plain": [
       "Louvain:   0%|          | 0/100 [00:00<?, ?%/s]"
      ]
     },
     "metadata": {},
     "output_type": "display_data"
    },
    {
     "data": {
      "application/vnd.jupyter.widget-view+json": {
       "model_id": "6c3482ab9bc14ccbbac084250a5b009b",
       "version_major": 2,
       "version_minor": 0
      },
      "text/plain": [
       "Louvain:   0%|          | 0/100 [00:00<?, ?%/s]"
      ]
     },
     "metadata": {},
     "output_type": "display_data"
    },
    {
     "name": "stdout",
     "output_type": "stream",
     "text": [
      "2018ArticlesUndirected\n"
     ]
    },
    {
     "data": {
      "application/vnd.jupyter.widget-view+json": {
       "model_id": "dde6c9e22e91442bbfc1b560602a82b2",
       "version_major": 2,
       "version_minor": 0
      },
      "text/plain": [
       "Louvain:   0%|          | 0/100 [00:00<?, ?%/s]"
      ]
     },
     "metadata": {},
     "output_type": "display_data"
    },
    {
     "data": {
      "application/vnd.jupyter.widget-view+json": {
       "model_id": "3aa02fd9da094c01a454aecf3c500187",
       "version_major": 2,
       "version_minor": 0
      },
      "text/plain": [
       "Louvain:   0%|          | 0/100 [00:00<?, ?%/s]"
      ]
     },
     "metadata": {},
     "output_type": "display_data"
    },
    {
     "data": {
      "application/vnd.jupyter.widget-view+json": {
       "model_id": "aca9929493a843049de9a30e6ce85431",
       "version_major": 2,
       "version_minor": 0
      },
      "text/plain": [
       "Louvain:   0%|          | 0/100 [00:00<?, ?%/s]"
      ]
     },
     "metadata": {},
     "output_type": "display_data"
    },
    {
     "data": {
      "application/vnd.jupyter.widget-view+json": {
       "model_id": "33ed73cf1f884214a6fc887ecb4a4f46",
       "version_major": 2,
       "version_minor": 0
      },
      "text/plain": [
       "Louvain:   0%|          | 0/100 [00:00<?, ?%/s]"
      ]
     },
     "metadata": {},
     "output_type": "display_data"
    },
    {
     "data": {
      "application/vnd.jupyter.widget-view+json": {
       "model_id": "ea55abaccb56444baa5dd888ffbd4196",
       "version_major": 2,
       "version_minor": 0
      },
      "text/plain": [
       "Louvain:   0%|          | 0/100 [00:00<?, ?%/s]"
      ]
     },
     "metadata": {},
     "output_type": "display_data"
    },
    {
     "name": "stdout",
     "output_type": "stream",
     "text": [
      "2020ArticlesUndirected\n"
     ]
    },
    {
     "data": {
      "application/vnd.jupyter.widget-view+json": {
       "model_id": "4820770e11b1496588f5bb9fdb98cc20",
       "version_major": 2,
       "version_minor": 0
      },
      "text/plain": [
       "Louvain:   0%|          | 0/100 [00:00<?, ?%/s]"
      ]
     },
     "metadata": {},
     "output_type": "display_data"
    },
    {
     "data": {
      "application/vnd.jupyter.widget-view+json": {
       "model_id": "fcb89271e0294f90b67a95f775ca671b",
       "version_major": 2,
       "version_minor": 0
      },
      "text/plain": [
       "Louvain:   0%|          | 0/100 [00:00<?, ?%/s]"
      ]
     },
     "metadata": {},
     "output_type": "display_data"
    },
    {
     "data": {
      "application/vnd.jupyter.widget-view+json": {
       "model_id": "b54a51ea3f184808b2cbd95d31dcd330",
       "version_major": 2,
       "version_minor": 0
      },
      "text/plain": [
       "Louvain:   0%|          | 0/100 [00:00<?, ?%/s]"
      ]
     },
     "metadata": {},
     "output_type": "display_data"
    },
    {
     "data": {
      "application/vnd.jupyter.widget-view+json": {
       "model_id": "c45dd02baa8847c28e248e7703f7b2ec",
       "version_major": 2,
       "version_minor": 0
      },
      "text/plain": [
       "Louvain:   0%|          | 0/100 [00:00<?, ?%/s]"
      ]
     },
     "metadata": {},
     "output_type": "display_data"
    },
    {
     "data": {
      "application/vnd.jupyter.widget-view+json": {
       "model_id": "7233457bdcf54a8f891b82524f2112c0",
       "version_major": 2,
       "version_minor": 0
      },
      "text/plain": [
       "Louvain:   0%|          | 0/100 [00:00<?, ?%/s]"
      ]
     },
     "metadata": {},
     "output_type": "display_data"
    }
   ],
   "source": [
    "louvain=pd.DataFrame([],columns=[\"graph\",\"bytesMin\",\"bytesMax\",\"postProcessingMillis\",\"preProcessingMillis\",\"computeMillis\",\"sumTimeMillis\",\"stdSumTimeMillis\"])\n",
    "repeats= 5 \n",
    "store = np.zeros((repeats,3))\n",
    "for name in graph_names:\n",
    "    print(name)\n",
    "    G = gds.graph.get(name)\n",
    "    r1 =gds.louvain.write.estimate(G,writeProperty= 'community')\n",
    "\n",
    "    for i in range(repeats):\n",
    "        r2 = gds.louvain.stats(G)\n",
    "        store[i]=r2[\"postProcessingMillis\"],r2[\"preProcessingMillis\"],r2[\"computeMillis\"]\n",
    "\n",
    "    postProcessingMillis,preProcessingMillis,computeMillis = np.average(store,axis=0)\n",
    "    sumTimeMillis = np.average(np.sum(store,axis=1))\n",
    "    stdSumTimeMillis = np.std(np.sum(store,axis=1))\n",
    "    louvain = louvain.append({\"graph\":name,\"bytesMin\":r1[\"bytesMin\"],\"bytesMax\":r1[\"bytesMax\"],\"postProcessingMillis\":postProcessingMillis,\"preProcessingMillis\":preProcessingMillis,\"computeMillis\":computeMillis,\"sumTimeMillis\":sumTimeMillis,\"stdSumTimeMillis\":stdSumTimeMillis}, ignore_index=True)"
   ]
  },
  {
   "cell_type": "code",
   "execution_count": 21,
   "metadata": {},
   "outputs": [
    {
     "data": {
      "text/html": [
       "<div>\n",
       "<style scoped>\n",
       "    .dataframe tbody tr th:only-of-type {\n",
       "        vertical-align: middle;\n",
       "    }\n",
       "\n",
       "    .dataframe tbody tr th {\n",
       "        vertical-align: top;\n",
       "    }\n",
       "\n",
       "    .dataframe thead th {\n",
       "        text-align: right;\n",
       "    }\n",
       "</style>\n",
       "<table border=\"1\" class=\"dataframe\">\n",
       "  <thead>\n",
       "    <tr style=\"text-align: right;\">\n",
       "      <th></th>\n",
       "      <th>graph</th>\n",
       "      <th>bytesMin</th>\n",
       "      <th>bytesMax</th>\n",
       "      <th>postProcessingMillis</th>\n",
       "      <th>preProcessingMillis</th>\n",
       "      <th>computeMillis</th>\n",
       "      <th>sumTimeMillis</th>\n",
       "      <th>stdSumTimeMillis</th>\n",
       "    </tr>\n",
       "  </thead>\n",
       "  <tbody>\n",
       "    <tr>\n",
       "      <th>0</th>\n",
       "      <td>2003ArticlesDirected</td>\n",
       "      <td>112129</td>\n",
       "      <td>979624</td>\n",
       "      <td>1.0</td>\n",
       "      <td>0.0</td>\n",
       "      <td>478.2</td>\n",
       "      <td>479.2</td>\n",
       "      <td>205.078912</td>\n",
       "    </tr>\n",
       "    <tr>\n",
       "      <th>1</th>\n",
       "      <td>2007ArticlesDirected</td>\n",
       "      <td>324633</td>\n",
       "      <td>1847928</td>\n",
       "      <td>1.0</td>\n",
       "      <td>0.0</td>\n",
       "      <td>71.2</td>\n",
       "      <td>72.2</td>\n",
       "      <td>8.565045</td>\n",
       "    </tr>\n",
       "    <tr>\n",
       "      <th>2</th>\n",
       "      <td>2010ArticlesDirected</td>\n",
       "      <td>837249</td>\n",
       "      <td>4191224</td>\n",
       "      <td>2.4</td>\n",
       "      <td>0.0</td>\n",
       "      <td>297.8</td>\n",
       "      <td>300.2</td>\n",
       "      <td>92.187635</td>\n",
       "    </tr>\n",
       "    <tr>\n",
       "      <th>3</th>\n",
       "      <td>2013ArticlesDirected</td>\n",
       "      <td>2055433</td>\n",
       "      <td>10160736</td>\n",
       "      <td>3.6</td>\n",
       "      <td>0.0</td>\n",
       "      <td>503.4</td>\n",
       "      <td>507.0</td>\n",
       "      <td>69.088349</td>\n",
       "    </tr>\n",
       "    <tr>\n",
       "      <th>4</th>\n",
       "      <td>2016ArticlesDirected</td>\n",
       "      <td>4461913</td>\n",
       "      <td>23063792</td>\n",
       "      <td>3.8</td>\n",
       "      <td>0.0</td>\n",
       "      <td>874.0</td>\n",
       "      <td>877.8</td>\n",
       "      <td>131.160055</td>\n",
       "    </tr>\n",
       "    <tr>\n",
       "      <th>5</th>\n",
       "      <td>2018ArticlesDirected</td>\n",
       "      <td>7747745</td>\n",
       "      <td>45061120</td>\n",
       "      <td>5.4</td>\n",
       "      <td>0.0</td>\n",
       "      <td>1685.2</td>\n",
       "      <td>1690.6</td>\n",
       "      <td>298.851535</td>\n",
       "    </tr>\n",
       "    <tr>\n",
       "      <th>6</th>\n",
       "      <td>2020ArticlesDirected</td>\n",
       "      <td>10864409</td>\n",
       "      <td>68195808</td>\n",
       "      <td>5.0</td>\n",
       "      <td>0.0</td>\n",
       "      <td>1461.4</td>\n",
       "      <td>1466.4</td>\n",
       "      <td>291.792803</td>\n",
       "    </tr>\n",
       "    <tr>\n",
       "      <th>7</th>\n",
       "      <td>2003ArticlesUndirected</td>\n",
       "      <td>112129</td>\n",
       "      <td>979624</td>\n",
       "      <td>1.0</td>\n",
       "      <td>0.0</td>\n",
       "      <td>69.6</td>\n",
       "      <td>70.6</td>\n",
       "      <td>40.844094</td>\n",
       "    </tr>\n",
       "    <tr>\n",
       "      <th>8</th>\n",
       "      <td>2007ArticlesUndirected</td>\n",
       "      <td>324633</td>\n",
       "      <td>1847928</td>\n",
       "      <td>2.4</td>\n",
       "      <td>0.0</td>\n",
       "      <td>284.0</td>\n",
       "      <td>286.4</td>\n",
       "      <td>47.02595</td>\n",
       "    </tr>\n",
       "    <tr>\n",
       "      <th>9</th>\n",
       "      <td>2010ArticlesUndirected</td>\n",
       "      <td>837249</td>\n",
       "      <td>4453400</td>\n",
       "      <td>2.0</td>\n",
       "      <td>0.0</td>\n",
       "      <td>454.2</td>\n",
       "      <td>456.2</td>\n",
       "      <td>77.189118</td>\n",
       "    </tr>\n",
       "    <tr>\n",
       "      <th>10</th>\n",
       "      <td>2013ArticlesUndirected</td>\n",
       "      <td>2055433</td>\n",
       "      <td>11471616</td>\n",
       "      <td>3.8</td>\n",
       "      <td>0.0</td>\n",
       "      <td>682.4</td>\n",
       "      <td>686.2</td>\n",
       "      <td>39.826624</td>\n",
       "    </tr>\n",
       "    <tr>\n",
       "      <th>11</th>\n",
       "      <td>2016ArticlesUndirected</td>\n",
       "      <td>4461913</td>\n",
       "      <td>28045136</td>\n",
       "      <td>3.8</td>\n",
       "      <td>0.0</td>\n",
       "      <td>1535.0</td>\n",
       "      <td>1538.8</td>\n",
       "      <td>104.2332</td>\n",
       "    </tr>\n",
       "    <tr>\n",
       "      <th>12</th>\n",
       "      <td>2018ArticlesUndirected</td>\n",
       "      <td>7747745</td>\n",
       "      <td>57121216</td>\n",
       "      <td>5.2</td>\n",
       "      <td>0.0</td>\n",
       "      <td>2268.0</td>\n",
       "      <td>2273.2</td>\n",
       "      <td>309.367354</td>\n",
       "    </tr>\n",
       "    <tr>\n",
       "      <th>13</th>\n",
       "      <td>2020ArticlesUndirected</td>\n",
       "      <td>10864409</td>\n",
       "      <td>91791648</td>\n",
       "      <td>3.4</td>\n",
       "      <td>0.0</td>\n",
       "      <td>2512.2</td>\n",
       "      <td>2515.6</td>\n",
       "      <td>154.816795</td>\n",
       "    </tr>\n",
       "  </tbody>\n",
       "</table>\n",
       "</div>"
      ],
      "text/plain": [
       "                     graph  bytesMin  bytesMax postProcessingMillis  \\\n",
       "0     2003ArticlesDirected    112129    979624                  1.0   \n",
       "1     2007ArticlesDirected    324633   1847928                  1.0   \n",
       "2     2010ArticlesDirected    837249   4191224                  2.4   \n",
       "3     2013ArticlesDirected   2055433  10160736                  3.6   \n",
       "4     2016ArticlesDirected   4461913  23063792                  3.8   \n",
       "5     2018ArticlesDirected   7747745  45061120                  5.4   \n",
       "6     2020ArticlesDirected  10864409  68195808                  5.0   \n",
       "7   2003ArticlesUndirected    112129    979624                  1.0   \n",
       "8   2007ArticlesUndirected    324633   1847928                  2.4   \n",
       "9   2010ArticlesUndirected    837249   4453400                  2.0   \n",
       "10  2013ArticlesUndirected   2055433  11471616                  3.8   \n",
       "11  2016ArticlesUndirected   4461913  28045136                  3.8   \n",
       "12  2018ArticlesUndirected   7747745  57121216                  5.2   \n",
       "13  2020ArticlesUndirected  10864409  91791648                  3.4   \n",
       "\n",
       "   preProcessingMillis computeMillis sumTimeMillis stdSumTimeMillis  \n",
       "0                  0.0         478.2         479.2       205.078912  \n",
       "1                  0.0          71.2          72.2         8.565045  \n",
       "2                  0.0         297.8         300.2        92.187635  \n",
       "3                  0.0         503.4         507.0        69.088349  \n",
       "4                  0.0         874.0         877.8       131.160055  \n",
       "5                  0.0        1685.2        1690.6       298.851535  \n",
       "6                  0.0        1461.4        1466.4       291.792803  \n",
       "7                  0.0          69.6          70.6        40.844094  \n",
       "8                  0.0         284.0         286.4         47.02595  \n",
       "9                  0.0         454.2         456.2        77.189118  \n",
       "10                 0.0         682.4         686.2        39.826624  \n",
       "11                 0.0        1535.0        1538.8         104.2332  \n",
       "12                 0.0        2268.0        2273.2       309.367354  \n",
       "13                 0.0        2512.2        2515.6       154.816795  "
      ]
     },
     "execution_count": 21,
     "metadata": {},
     "output_type": "execute_result"
    }
   ],
   "source": [
    "louvain.to_pickle(\"./louvain.pkl\")\n",
    "louvain.head(20)"
   ]
  },
  {
   "cell_type": "code",
   "execution_count": 7,
   "metadata": {},
   "outputs": [
    {
     "name": "stdout",
     "output_type": "stream",
     "text": [
      "2003ArticlesDirected\n",
      "2007ArticlesDirected\n",
      "2010ArticlesDirected\n",
      "2013ArticlesDirected\n",
      "2016ArticlesDirected\n",
      "2018ArticlesDirected\n",
      "2020ArticlesDirected\n",
      "2003ArticlesUndirected\n",
      "2007ArticlesUndirected\n",
      "2010ArticlesUndirected\n",
      "2013ArticlesUndirected\n",
      "2016ArticlesUndirected\n",
      "2018ArticlesUndirected\n"
     ]
    },
    {
     "data": {
      "application/vnd.jupyter.widget-view+json": {
       "model_id": "c68018a29685411c98024eae53222257",
       "version_major": 2,
       "version_minor": 0
      },
      "text/plain": [
       "LabelPropagation:   0%|          | 0/100 [00:00<?, ?%/s]"
      ]
     },
     "metadata": {},
     "output_type": "display_data"
    },
    {
     "data": {
      "application/vnd.jupyter.widget-view+json": {
       "model_id": "c94acec5a4d64b8384bd174e71e401bc",
       "version_major": 2,
       "version_minor": 0
      },
      "text/plain": [
       "LabelPropagation:   0%|          | 0/100 [00:00<?, ?%/s]"
      ]
     },
     "metadata": {},
     "output_type": "display_data"
    },
    {
     "data": {
      "application/vnd.jupyter.widget-view+json": {
       "model_id": "c9f1be79db574d0e883b876814683ef6",
       "version_major": 2,
       "version_minor": 0
      },
      "text/plain": [
       "LabelPropagation:   0%|          | 0/100 [00:00<?, ?%/s]"
      ]
     },
     "metadata": {},
     "output_type": "display_data"
    },
    {
     "data": {
      "application/vnd.jupyter.widget-view+json": {
       "model_id": "013ad92309194ca3b01b658ace9e4d34",
       "version_major": 2,
       "version_minor": 0
      },
      "text/plain": [
       "LabelPropagation:   0%|          | 0/100 [00:00<?, ?%/s]"
      ]
     },
     "metadata": {},
     "output_type": "display_data"
    },
    {
     "data": {
      "application/vnd.jupyter.widget-view+json": {
       "model_id": "9471d24eaac147af8c40fbbc4511803e",
       "version_major": 2,
       "version_minor": 0
      },
      "text/plain": [
       "LabelPropagation:   0%|          | 0/100 [00:00<?, ?%/s]"
      ]
     },
     "metadata": {},
     "output_type": "display_data"
    },
    {
     "data": {
      "application/vnd.jupyter.widget-view+json": {
       "model_id": "0c6a3ce2deeb4c16b6a961202ac42b62",
       "version_major": 2,
       "version_minor": 0
      },
      "text/plain": [
       "LabelPropagation:   0%|          | 0/100 [00:00<?, ?%/s]"
      ]
     },
     "metadata": {},
     "output_type": "display_data"
    },
    {
     "data": {
      "application/vnd.jupyter.widget-view+json": {
       "model_id": "130ea1f47cc34940b27a4b2f5c5ef8a5",
       "version_major": 2,
       "version_minor": 0
      },
      "text/plain": [
       "LabelPropagation:   0%|          | 0/100 [00:00<?, ?%/s]"
      ]
     },
     "metadata": {},
     "output_type": "display_data"
    },
    {
     "data": {
      "application/vnd.jupyter.widget-view+json": {
       "model_id": "d8b57b03ed0d405d97adc9731de8d6fe",
       "version_major": 2,
       "version_minor": 0
      },
      "text/plain": [
       "LabelPropagation:   0%|          | 0/100 [00:00<?, ?%/s]"
      ]
     },
     "metadata": {},
     "output_type": "display_data"
    },
    {
     "data": {
      "application/vnd.jupyter.widget-view+json": {
       "model_id": "8405ad71f672401a8aa3b96b6c1f6177",
       "version_major": 2,
       "version_minor": 0
      },
      "text/plain": [
       "LabelPropagation:   0%|          | 0/100 [00:00<?, ?%/s]"
      ]
     },
     "metadata": {},
     "output_type": "display_data"
    },
    {
     "data": {
      "application/vnd.jupyter.widget-view+json": {
       "model_id": "65f1088495a344f3be825c4a03c8eef5",
       "version_major": 2,
       "version_minor": 0
      },
      "text/plain": [
       "LabelPropagation:   0%|          | 0/100 [00:00<?, ?%/s]"
      ]
     },
     "metadata": {},
     "output_type": "display_data"
    },
    {
     "name": "stdout",
     "output_type": "stream",
     "text": [
      "2020ArticlesUndirected\n"
     ]
    },
    {
     "data": {
      "application/vnd.jupyter.widget-view+json": {
       "model_id": "48d576725bbd45859af39cd2e93cc42f",
       "version_major": 2,
       "version_minor": 0
      },
      "text/plain": [
       "LabelPropagation:   0%|          | 0/100 [00:00<?, ?%/s]"
      ]
     },
     "metadata": {},
     "output_type": "display_data"
    },
    {
     "data": {
      "application/vnd.jupyter.widget-view+json": {
       "model_id": "b510364a15ad400db97bb6feae6415db",
       "version_major": 2,
       "version_minor": 0
      },
      "text/plain": [
       "LabelPropagation:   0%|          | 0/100 [00:00<?, ?%/s]"
      ]
     },
     "metadata": {},
     "output_type": "display_data"
    },
    {
     "data": {
      "application/vnd.jupyter.widget-view+json": {
       "model_id": "619678aab6d74aa4b59e19186e6c268a",
       "version_major": 2,
       "version_minor": 0
      },
      "text/plain": [
       "LabelPropagation:   0%|          | 0/100 [00:00<?, ?%/s]"
      ]
     },
     "metadata": {},
     "output_type": "display_data"
    },
    {
     "data": {
      "application/vnd.jupyter.widget-view+json": {
       "model_id": "9b39e70118a1406686540766c9558819",
       "version_major": 2,
       "version_minor": 0
      },
      "text/plain": [
       "LabelPropagation:   0%|          | 0/100 [00:00<?, ?%/s]"
      ]
     },
     "metadata": {},
     "output_type": "display_data"
    },
    {
     "data": {
      "application/vnd.jupyter.widget-view+json": {
       "model_id": "286b3234ffb54a698e22008a1d0621fb",
       "version_major": 2,
       "version_minor": 0
      },
      "text/plain": [
       "LabelPropagation:   0%|          | 0/100 [00:00<?, ?%/s]"
      ]
     },
     "metadata": {},
     "output_type": "display_data"
    },
    {
     "data": {
      "application/vnd.jupyter.widget-view+json": {
       "model_id": "39055b32d0c043c3a5665932e1ea5d7b",
       "version_major": 2,
       "version_minor": 0
      },
      "text/plain": [
       "LabelPropagation:   0%|          | 0/100 [00:00<?, ?%/s]"
      ]
     },
     "metadata": {},
     "output_type": "display_data"
    },
    {
     "data": {
      "application/vnd.jupyter.widget-view+json": {
       "model_id": "f1136e0299dc4160abf3bf5d86903cfa",
       "version_major": 2,
       "version_minor": 0
      },
      "text/plain": [
       "LabelPropagation:   0%|          | 0/100 [00:00<?, ?%/s]"
      ]
     },
     "metadata": {},
     "output_type": "display_data"
    },
    {
     "data": {
      "application/vnd.jupyter.widget-view+json": {
       "model_id": "75b1f6d73cbb4ff3a4570d744f3bf597",
       "version_major": 2,
       "version_minor": 0
      },
      "text/plain": [
       "LabelPropagation:   0%|          | 0/100 [00:00<?, ?%/s]"
      ]
     },
     "metadata": {},
     "output_type": "display_data"
    },
    {
     "data": {
      "application/vnd.jupyter.widget-view+json": {
       "model_id": "7bef05fbd5a44e23b582c95d97922e5b",
       "version_major": 2,
       "version_minor": 0
      },
      "text/plain": [
       "LabelPropagation:   0%|          | 0/100 [00:00<?, ?%/s]"
      ]
     },
     "metadata": {},
     "output_type": "display_data"
    },
    {
     "data": {
      "application/vnd.jupyter.widget-view+json": {
       "model_id": "1e6a97813f944a30b79f17460540b1e8",
       "version_major": 2,
       "version_minor": 0
      },
      "text/plain": [
       "LabelPropagation:   0%|          | 0/100 [00:00<?, ?%/s]"
      ]
     },
     "metadata": {},
     "output_type": "display_data"
    }
   ],
   "source": [
    "labelPropagation=pd.DataFrame([],columns=[\"graph\",\"bytesMin\",\"bytesMax\",\"postProcessingMillis\",\"preProcessingMillis\",\"computeMillis\",\"sumTimeMillis\",\"stdSumTimeMillis\"])\n",
    "repeats= 10 \n",
    "store = np.zeros((repeats,3))\n",
    "for name in graph_names:\n",
    "    print(name)\n",
    "    G = gds.graph.get(name)\n",
    "    r1 =gds.labelPropagation.write.estimate(G,writeProperty= 'labelPropagation')\n",
    "\n",
    "    for i in range(repeats):\n",
    "        r2 = gds.labelPropagation.stats(G)\n",
    "        store[i]=r2[\"postProcessingMillis\"],r2[\"preProcessingMillis\"],r2[\"computeMillis\"]\n",
    "\n",
    "    postProcessingMillis,preProcessingMillis,computeMillis = np.average(store,axis=0)\n",
    "    sumTimeMillis = np.average(np.sum(store,axis=1))\n",
    "    stdSumTimeMillis = np.std(np.sum(store,axis=1))\n",
    "    labelPropagation = labelPropagation.append({\"graph\":name,\"bytesMin\":r1[\"bytesMin\"],\"bytesMax\":r1[\"bytesMax\"],\"postProcessingMillis\":postProcessingMillis,\"preProcessingMillis\":preProcessingMillis,\"computeMillis\":computeMillis,\"sumTimeMillis\":sumTimeMillis,\"stdSumTimeMillis\":stdSumTimeMillis}, ignore_index=True)"
   ]
  },
  {
   "cell_type": "code",
   "execution_count": 8,
   "metadata": {},
   "outputs": [
    {
     "data": {
      "text/html": [
       "<div>\n",
       "<style scoped>\n",
       "    .dataframe tbody tr th:only-of-type {\n",
       "        vertical-align: middle;\n",
       "    }\n",
       "\n",
       "    .dataframe tbody tr th {\n",
       "        vertical-align: top;\n",
       "    }\n",
       "\n",
       "    .dataframe thead th {\n",
       "        text-align: right;\n",
       "    }\n",
       "</style>\n",
       "<table border=\"1\" class=\"dataframe\">\n",
       "  <thead>\n",
       "    <tr style=\"text-align: right;\">\n",
       "      <th></th>\n",
       "      <th>graph</th>\n",
       "      <th>bytesMin</th>\n",
       "      <th>bytesMax</th>\n",
       "      <th>postProcessingMillis</th>\n",
       "      <th>preProcessingMillis</th>\n",
       "      <th>computeMillis</th>\n",
       "      <th>sumTimeMillis</th>\n",
       "      <th>stdSumTimeMillis</th>\n",
       "    </tr>\n",
       "  </thead>\n",
       "  <tbody>\n",
       "    <tr>\n",
       "      <th>0</th>\n",
       "      <td>2003ArticlesDirected</td>\n",
       "      <td>15384</td>\n",
       "      <td>277016</td>\n",
       "      <td>2.8</td>\n",
       "      <td>0.0</td>\n",
       "      <td>11.6</td>\n",
       "      <td>14.4</td>\n",
       "      <td>1.624808</td>\n",
       "    </tr>\n",
       "    <tr>\n",
       "      <th>1</th>\n",
       "      <td>2007ArticlesDirected</td>\n",
       "      <td>41896</td>\n",
       "      <td>565672</td>\n",
       "      <td>4.3</td>\n",
       "      <td>0.0</td>\n",
       "      <td>16.1</td>\n",
       "      <td>20.4</td>\n",
       "      <td>5.276362</td>\n",
       "    </tr>\n",
       "    <tr>\n",
       "      <th>2</th>\n",
       "      <td>2010ArticlesDirected</td>\n",
       "      <td>105848</td>\n",
       "      <td>2202488</td>\n",
       "      <td>3.5</td>\n",
       "      <td>0.0</td>\n",
       "      <td>43.1</td>\n",
       "      <td>46.6</td>\n",
       "      <td>7.644606</td>\n",
       "    </tr>\n",
       "    <tr>\n",
       "      <th>3</th>\n",
       "      <td>2013ArticlesDirected</td>\n",
       "      <td>257824</td>\n",
       "      <td>4451616</td>\n",
       "      <td>6.0</td>\n",
       "      <td>0.0</td>\n",
       "      <td>73.1</td>\n",
       "      <td>79.1</td>\n",
       "      <td>18.944392</td>\n",
       "    </tr>\n",
       "    <tr>\n",
       "      <th>4</th>\n",
       "      <td>2016ArticlesDirected</td>\n",
       "      <td>558048</td>\n",
       "      <td>8946144</td>\n",
       "      <td>7.1</td>\n",
       "      <td>0.0</td>\n",
       "      <td>110.8</td>\n",
       "      <td>117.9</td>\n",
       "      <td>20.564289</td>\n",
       "    </tr>\n",
       "    <tr>\n",
       "      <th>5</th>\n",
       "      <td>2018ArticlesDirected</td>\n",
       "      <td>967976</td>\n",
       "      <td>17744680</td>\n",
       "      <td>9.3</td>\n",
       "      <td>0.0</td>\n",
       "      <td>215.3</td>\n",
       "      <td>224.6</td>\n",
       "      <td>8.475848</td>\n",
       "    </tr>\n",
       "    <tr>\n",
       "      <th>6</th>\n",
       "      <td>2020ArticlesDirected</td>\n",
       "      <td>1356800</td>\n",
       "      <td>18133504</td>\n",
       "      <td>9.7</td>\n",
       "      <td>0.0</td>\n",
       "      <td>324.3</td>\n",
       "      <td>334.0</td>\n",
       "      <td>16.583124</td>\n",
       "    </tr>\n",
       "    <tr>\n",
       "      <th>7</th>\n",
       "      <td>2003ArticlesUndirected</td>\n",
       "      <td>15384</td>\n",
       "      <td>277016</td>\n",
       "      <td>3.1</td>\n",
       "      <td>0.0</td>\n",
       "      <td>11.7</td>\n",
       "      <td>14.8</td>\n",
       "      <td>2.181742</td>\n",
       "    </tr>\n",
       "    <tr>\n",
       "      <th>8</th>\n",
       "      <td>2007ArticlesUndirected</td>\n",
       "      <td>41896</td>\n",
       "      <td>565672</td>\n",
       "      <td>2.7</td>\n",
       "      <td>0.0</td>\n",
       "      <td>26.2</td>\n",
       "      <td>28.9</td>\n",
       "      <td>5.990826</td>\n",
       "    </tr>\n",
       "    <tr>\n",
       "      <th>9</th>\n",
       "      <td>2010ArticlesUndirected</td>\n",
       "      <td>105848</td>\n",
       "      <td>2202488</td>\n",
       "      <td>4.7</td>\n",
       "      <td>0.0</td>\n",
       "      <td>58.8</td>\n",
       "      <td>63.5</td>\n",
       "      <td>10.404326</td>\n",
       "    </tr>\n",
       "    <tr>\n",
       "      <th>10</th>\n",
       "      <td>2013ArticlesUndirected</td>\n",
       "      <td>257824</td>\n",
       "      <td>4451616</td>\n",
       "      <td>6.7</td>\n",
       "      <td>0.0</td>\n",
       "      <td>100.8</td>\n",
       "      <td>107.5</td>\n",
       "      <td>14.221463</td>\n",
       "    </tr>\n",
       "    <tr>\n",
       "      <th>11</th>\n",
       "      <td>2016ArticlesUndirected</td>\n",
       "      <td>558048</td>\n",
       "      <td>8946144</td>\n",
       "      <td>8.3</td>\n",
       "      <td>0.0</td>\n",
       "      <td>297.4</td>\n",
       "      <td>305.7</td>\n",
       "      <td>30.400822</td>\n",
       "    </tr>\n",
       "    <tr>\n",
       "      <th>12</th>\n",
       "      <td>2018ArticlesUndirected</td>\n",
       "      <td>967976</td>\n",
       "      <td>17744680</td>\n",
       "      <td>7.8</td>\n",
       "      <td>0.0</td>\n",
       "      <td>1219.6</td>\n",
       "      <td>1227.4</td>\n",
       "      <td>99.418509</td>\n",
       "    </tr>\n",
       "    <tr>\n",
       "      <th>13</th>\n",
       "      <td>2020ArticlesUndirected</td>\n",
       "      <td>1356800</td>\n",
       "      <td>18133504</td>\n",
       "      <td>4.1</td>\n",
       "      <td>0.0</td>\n",
       "      <td>2222.6</td>\n",
       "      <td>2226.7</td>\n",
       "      <td>119.539993</td>\n",
       "    </tr>\n",
       "  </tbody>\n",
       "</table>\n",
       "</div>"
      ],
      "text/plain": [
       "                     graph bytesMin  bytesMax postProcessingMillis  \\\n",
       "0     2003ArticlesDirected    15384    277016                  2.8   \n",
       "1     2007ArticlesDirected    41896    565672                  4.3   \n",
       "2     2010ArticlesDirected   105848   2202488                  3.5   \n",
       "3     2013ArticlesDirected   257824   4451616                  6.0   \n",
       "4     2016ArticlesDirected   558048   8946144                  7.1   \n",
       "5     2018ArticlesDirected   967976  17744680                  9.3   \n",
       "6     2020ArticlesDirected  1356800  18133504                  9.7   \n",
       "7   2003ArticlesUndirected    15384    277016                  3.1   \n",
       "8   2007ArticlesUndirected    41896    565672                  2.7   \n",
       "9   2010ArticlesUndirected   105848   2202488                  4.7   \n",
       "10  2013ArticlesUndirected   257824   4451616                  6.7   \n",
       "11  2016ArticlesUndirected   558048   8946144                  8.3   \n",
       "12  2018ArticlesUndirected   967976  17744680                  7.8   \n",
       "13  2020ArticlesUndirected  1356800  18133504                  4.1   \n",
       "\n",
       "   preProcessingMillis computeMillis sumTimeMillis stdSumTimeMillis  \n",
       "0                  0.0          11.6          14.4         1.624808  \n",
       "1                  0.0          16.1          20.4         5.276362  \n",
       "2                  0.0          43.1          46.6         7.644606  \n",
       "3                  0.0          73.1          79.1        18.944392  \n",
       "4                  0.0         110.8         117.9        20.564289  \n",
       "5                  0.0         215.3         224.6         8.475848  \n",
       "6                  0.0         324.3         334.0        16.583124  \n",
       "7                  0.0          11.7          14.8         2.181742  \n",
       "8                  0.0          26.2          28.9         5.990826  \n",
       "9                  0.0          58.8          63.5        10.404326  \n",
       "10                 0.0         100.8         107.5        14.221463  \n",
       "11                 0.0         297.4         305.7        30.400822  \n",
       "12                 0.0        1219.6        1227.4        99.418509  \n",
       "13                 0.0        2222.6        2226.7       119.539993  "
      ]
     },
     "execution_count": 8,
     "metadata": {},
     "output_type": "execute_result"
    }
   ],
   "source": [
    "labelPropagation.to_pickle(\"./labelPropagation.pkl\")\n",
    "labelPropagation.head(20)"
   ]
  },
  {
   "cell_type": "code",
   "execution_count": 9,
   "metadata": {},
   "outputs": [
    {
     "name": "stdout",
     "output_type": "stream",
     "text": [
      "2003ArticlesDirected\n",
      "2007ArticlesDirected\n",
      "2010ArticlesDirected\n",
      "2013ArticlesDirected\n",
      "2016ArticlesDirected\n",
      "2018ArticlesDirected\n",
      "2020ArticlesDirected\n",
      "2003ArticlesUndirected\n",
      "2007ArticlesUndirected\n",
      "2010ArticlesUndirected\n",
      "2013ArticlesUndirected\n",
      "2016ArticlesUndirected\n",
      "2018ArticlesUndirected\n",
      "2020ArticlesUndirected\n"
     ]
    }
   ],
   "source": [
    "wcc=pd.DataFrame([],columns=[\"graph\",\"bytesMin\",\"bytesMax\",\"postProcessingMillis\",\"preProcessingMillis\",\"computeMillis\",\"sumTimeMillis\",\"stdSumTimeMillis\"])\n",
    "repeats= 10 \n",
    "store = np.zeros((repeats,3))\n",
    "for name in graph_names:\n",
    "    print(name)\n",
    "    G = gds.graph.get(name)\n",
    "    r1 =gds.wcc.write.estimate(G,writeProperty= 'wcc')\n",
    "\n",
    "    for i in range(repeats):\n",
    "        r2 = gds.wcc.stats(G)\n",
    "        store[i]=r2[\"postProcessingMillis\"],r2[\"preProcessingMillis\"],r2[\"computeMillis\"]\n",
    "\n",
    "    postProcessingMillis,preProcessingMillis,computeMillis = np.average(store,axis=0)\n",
    "    sumTimeMillis = np.average(np.sum(store,axis=1))\n",
    "    stdSumTimeMillis = np.std(np.sum(store,axis=1))\n",
    "    wcc = wcc.append({\"graph\":name,\"bytesMin\":r1[\"bytesMin\"],\"bytesMax\":r1[\"bytesMax\"],\"postProcessingMillis\":postProcessingMillis,\"preProcessingMillis\":preProcessingMillis,\"computeMillis\":computeMillis,\"sumTimeMillis\":sumTimeMillis,\"stdSumTimeMillis\":stdSumTimeMillis}, ignore_index=True)"
   ]
  },
  {
   "cell_type": "code",
   "execution_count": 10,
   "metadata": {},
   "outputs": [
    {
     "data": {
      "text/html": [
       "<div>\n",
       "<style scoped>\n",
       "    .dataframe tbody tr th:only-of-type {\n",
       "        vertical-align: middle;\n",
       "    }\n",
       "\n",
       "    .dataframe tbody tr th {\n",
       "        vertical-align: top;\n",
       "    }\n",
       "\n",
       "    .dataframe thead th {\n",
       "        text-align: right;\n",
       "    }\n",
       "</style>\n",
       "<table border=\"1\" class=\"dataframe\">\n",
       "  <thead>\n",
       "    <tr style=\"text-align: right;\">\n",
       "      <th></th>\n",
       "      <th>graph</th>\n",
       "      <th>bytesMin</th>\n",
       "      <th>bytesMax</th>\n",
       "      <th>postProcessingMillis</th>\n",
       "      <th>preProcessingMillis</th>\n",
       "      <th>computeMillis</th>\n",
       "      <th>sumTimeMillis</th>\n",
       "      <th>stdSumTimeMillis</th>\n",
       "    </tr>\n",
       "  </thead>\n",
       "  <tbody>\n",
       "    <tr>\n",
       "      <th>0</th>\n",
       "      <td>2003ArticlesDirected</td>\n",
       "      <td>13424</td>\n",
       "      <td>13424</td>\n",
       "      <td>1.0</td>\n",
       "      <td>0.0</td>\n",
       "      <td>1.5</td>\n",
       "      <td>2.5</td>\n",
       "      <td>0.67082</td>\n",
       "    </tr>\n",
       "    <tr>\n",
       "      <th>1</th>\n",
       "      <td>2007ArticlesDirected</td>\n",
       "      <td>39936</td>\n",
       "      <td>39936</td>\n",
       "      <td>1.0</td>\n",
       "      <td>0.0</td>\n",
       "      <td>2.1</td>\n",
       "      <td>3.1</td>\n",
       "      <td>0.538516</td>\n",
       "    </tr>\n",
       "    <tr>\n",
       "      <th>2</th>\n",
       "      <td>2010ArticlesDirected</td>\n",
       "      <td>103888</td>\n",
       "      <td>103888</td>\n",
       "      <td>1.2</td>\n",
       "      <td>0.0</td>\n",
       "      <td>3.0</td>\n",
       "      <td>4.2</td>\n",
       "      <td>0.4</td>\n",
       "    </tr>\n",
       "    <tr>\n",
       "      <th>3</th>\n",
       "      <td>2013ArticlesDirected</td>\n",
       "      <td>255864</td>\n",
       "      <td>255864</td>\n",
       "      <td>2.3</td>\n",
       "      <td>0.0</td>\n",
       "      <td>5.5</td>\n",
       "      <td>7.8</td>\n",
       "      <td>2.181742</td>\n",
       "    </tr>\n",
       "    <tr>\n",
       "      <th>4</th>\n",
       "      <td>2016ArticlesDirected</td>\n",
       "      <td>556088</td>\n",
       "      <td>556088</td>\n",
       "      <td>3.3</td>\n",
       "      <td>0.0</td>\n",
       "      <td>7.9</td>\n",
       "      <td>11.2</td>\n",
       "      <td>3.789459</td>\n",
       "    </tr>\n",
       "    <tr>\n",
       "      <th>5</th>\n",
       "      <td>2018ArticlesDirected</td>\n",
       "      <td>966016</td>\n",
       "      <td>966016</td>\n",
       "      <td>6.8</td>\n",
       "      <td>0.0</td>\n",
       "      <td>14.3</td>\n",
       "      <td>21.1</td>\n",
       "      <td>8.525843</td>\n",
       "    </tr>\n",
       "    <tr>\n",
       "      <th>6</th>\n",
       "      <td>2020ArticlesDirected</td>\n",
       "      <td>1354840</td>\n",
       "      <td>1354840</td>\n",
       "      <td>2.1</td>\n",
       "      <td>0.0</td>\n",
       "      <td>20.4</td>\n",
       "      <td>22.5</td>\n",
       "      <td>5.95399</td>\n",
       "    </tr>\n",
       "    <tr>\n",
       "      <th>7</th>\n",
       "      <td>2003ArticlesUndirected</td>\n",
       "      <td>13424</td>\n",
       "      <td>13424</td>\n",
       "      <td>0.2</td>\n",
       "      <td>0.0</td>\n",
       "      <td>1.0</td>\n",
       "      <td>1.2</td>\n",
       "      <td>0.4</td>\n",
       "    </tr>\n",
       "    <tr>\n",
       "      <th>8</th>\n",
       "      <td>2007ArticlesUndirected</td>\n",
       "      <td>39936</td>\n",
       "      <td>39936</td>\n",
       "      <td>0.3</td>\n",
       "      <td>0.0</td>\n",
       "      <td>1.6</td>\n",
       "      <td>1.9</td>\n",
       "      <td>0.7</td>\n",
       "    </tr>\n",
       "    <tr>\n",
       "      <th>9</th>\n",
       "      <td>2010ArticlesUndirected</td>\n",
       "      <td>103888</td>\n",
       "      <td>103888</td>\n",
       "      <td>1.0</td>\n",
       "      <td>0.0</td>\n",
       "      <td>2.9</td>\n",
       "      <td>3.9</td>\n",
       "      <td>0.3</td>\n",
       "    </tr>\n",
       "    <tr>\n",
       "      <th>10</th>\n",
       "      <td>2013ArticlesUndirected</td>\n",
       "      <td>255864</td>\n",
       "      <td>255864</td>\n",
       "      <td>1.5</td>\n",
       "      <td>0.0</td>\n",
       "      <td>3.8</td>\n",
       "      <td>5.3</td>\n",
       "      <td>1.268858</td>\n",
       "    </tr>\n",
       "    <tr>\n",
       "      <th>11</th>\n",
       "      <td>2016ArticlesUndirected</td>\n",
       "      <td>556088</td>\n",
       "      <td>556088</td>\n",
       "      <td>2.1</td>\n",
       "      <td>0.0</td>\n",
       "      <td>6.4</td>\n",
       "      <td>8.5</td>\n",
       "      <td>0.806226</td>\n",
       "    </tr>\n",
       "    <tr>\n",
       "      <th>12</th>\n",
       "      <td>2018ArticlesUndirected</td>\n",
       "      <td>966016</td>\n",
       "      <td>966016</td>\n",
       "      <td>2.6</td>\n",
       "      <td>0.0</td>\n",
       "      <td>14.3</td>\n",
       "      <td>16.9</td>\n",
       "      <td>1.044031</td>\n",
       "    </tr>\n",
       "    <tr>\n",
       "      <th>13</th>\n",
       "      <td>2020ArticlesUndirected</td>\n",
       "      <td>1354840</td>\n",
       "      <td>1354840</td>\n",
       "      <td>1.8</td>\n",
       "      <td>0.0</td>\n",
       "      <td>26.4</td>\n",
       "      <td>28.2</td>\n",
       "      <td>2.271563</td>\n",
       "    </tr>\n",
       "  </tbody>\n",
       "</table>\n",
       "</div>"
      ],
      "text/plain": [
       "                     graph bytesMin bytesMax postProcessingMillis  \\\n",
       "0     2003ArticlesDirected    13424    13424                  1.0   \n",
       "1     2007ArticlesDirected    39936    39936                  1.0   \n",
       "2     2010ArticlesDirected   103888   103888                  1.2   \n",
       "3     2013ArticlesDirected   255864   255864                  2.3   \n",
       "4     2016ArticlesDirected   556088   556088                  3.3   \n",
       "5     2018ArticlesDirected   966016   966016                  6.8   \n",
       "6     2020ArticlesDirected  1354840  1354840                  2.1   \n",
       "7   2003ArticlesUndirected    13424    13424                  0.2   \n",
       "8   2007ArticlesUndirected    39936    39936                  0.3   \n",
       "9   2010ArticlesUndirected   103888   103888                  1.0   \n",
       "10  2013ArticlesUndirected   255864   255864                  1.5   \n",
       "11  2016ArticlesUndirected   556088   556088                  2.1   \n",
       "12  2018ArticlesUndirected   966016   966016                  2.6   \n",
       "13  2020ArticlesUndirected  1354840  1354840                  1.8   \n",
       "\n",
       "   preProcessingMillis computeMillis sumTimeMillis stdSumTimeMillis  \n",
       "0                  0.0           1.5           2.5          0.67082  \n",
       "1                  0.0           2.1           3.1         0.538516  \n",
       "2                  0.0           3.0           4.2              0.4  \n",
       "3                  0.0           5.5           7.8         2.181742  \n",
       "4                  0.0           7.9          11.2         3.789459  \n",
       "5                  0.0          14.3          21.1         8.525843  \n",
       "6                  0.0          20.4          22.5          5.95399  \n",
       "7                  0.0           1.0           1.2              0.4  \n",
       "8                  0.0           1.6           1.9              0.7  \n",
       "9                  0.0           2.9           3.9              0.3  \n",
       "10                 0.0           3.8           5.3         1.268858  \n",
       "11                 0.0           6.4           8.5         0.806226  \n",
       "12                 0.0          14.3          16.9         1.044031  \n",
       "13                 0.0          26.4          28.2         2.271563  "
      ]
     },
     "execution_count": 10,
     "metadata": {},
     "output_type": "execute_result"
    }
   ],
   "source": [
    "wcc.to_pickle(\"./wcc.pkl\")\n",
    "wcc.head(20)"
   ]
  },
  {
   "cell_type": "code",
   "execution_count": 11,
   "metadata": {},
   "outputs": [
    {
     "name": "stdout",
     "output_type": "stream",
     "text": [
      "2003ArticlesUndirected\n",
      "2007ArticlesUndirected\n",
      "2010ArticlesUndirected\n",
      "2013ArticlesUndirected\n",
      "2016ArticlesUndirected\n",
      "2018ArticlesUndirected\n",
      "2020ArticlesUndirected\n"
     ]
    },
    {
     "data": {
      "application/vnd.jupyter.widget-view+json": {
       "model_id": "487290b2045f4af8bc4b427c39747bc2",
       "version_major": 2,
       "version_minor": 0
      },
      "text/plain": [
       "IntersectingTriangleCount:   0%|          | 0/100 [00:00<?, ?%/s]"
      ]
     },
     "metadata": {},
     "output_type": "display_data"
    },
    {
     "data": {
      "application/vnd.jupyter.widget-view+json": {
       "model_id": "58b6fe1d089142cd9a75fb75ac402406",
       "version_major": 2,
       "version_minor": 0
      },
      "text/plain": [
       "IntersectingTriangleCount:   0%|          | 0/100 [00:00<?, ?%/s]"
      ]
     },
     "metadata": {},
     "output_type": "display_data"
    },
    {
     "data": {
      "application/vnd.jupyter.widget-view+json": {
       "model_id": "cfe5c8a3a302442aa01352a935fb2815",
       "version_major": 2,
       "version_minor": 0
      },
      "text/plain": [
       "IntersectingTriangleCount:   0%|          | 0/100 [00:00<?, ?%/s]"
      ]
     },
     "metadata": {},
     "output_type": "display_data"
    },
    {
     "data": {
      "application/vnd.jupyter.widget-view+json": {
       "model_id": "2eb0f96049d342abad536046c9e3e33c",
       "version_major": 2,
       "version_minor": 0
      },
      "text/plain": [
       "IntersectingTriangleCount:   0%|          | 0/100 [00:00<?, ?%/s]"
      ]
     },
     "metadata": {},
     "output_type": "display_data"
    },
    {
     "data": {
      "application/vnd.jupyter.widget-view+json": {
       "model_id": "b61a4b0e51414ca295ed85e135f61fda",
       "version_major": 2,
       "version_minor": 0
      },
      "text/plain": [
       "IntersectingTriangleCount:   0%|          | 0/100 [00:00<?, ?%/s]"
      ]
     },
     "metadata": {},
     "output_type": "display_data"
    },
    {
     "data": {
      "application/vnd.jupyter.widget-view+json": {
       "model_id": "0a4f41b21dc84a21bbf6b69c6bcb51d5",
       "version_major": 2,
       "version_minor": 0
      },
      "text/plain": [
       "IntersectingTriangleCount:   0%|          | 0/100 [00:00<?, ?%/s]"
      ]
     },
     "metadata": {},
     "output_type": "display_data"
    },
    {
     "data": {
      "application/vnd.jupyter.widget-view+json": {
       "model_id": "be8b2c0cc2db4e2fb42b836405b3dd4b",
       "version_major": 2,
       "version_minor": 0
      },
      "text/plain": [
       "IntersectingTriangleCount:   0%|          | 0/100 [00:00<?, ?%/s]"
      ]
     },
     "metadata": {},
     "output_type": "display_data"
    },
    {
     "data": {
      "application/vnd.jupyter.widget-view+json": {
       "model_id": "9e92ba3254b54af9a3ee7178a580145f",
       "version_major": 2,
       "version_minor": 0
      },
      "text/plain": [
       "IntersectingTriangleCount:   0%|          | 0/100 [00:00<?, ?%/s]"
      ]
     },
     "metadata": {},
     "output_type": "display_data"
    },
    {
     "data": {
      "application/vnd.jupyter.widget-view+json": {
       "model_id": "7fd4743497ec4b3e8c01fec1d21c526d",
       "version_major": 2,
       "version_minor": 0
      },
      "text/plain": [
       "IntersectingTriangleCount:   0%|          | 0/100 [00:00<?, ?%/s]"
      ]
     },
     "metadata": {},
     "output_type": "display_data"
    },
    {
     "data": {
      "application/vnd.jupyter.widget-view+json": {
       "model_id": "41eafb8196a043c29830946433ab44b9",
       "version_major": 2,
       "version_minor": 0
      },
      "text/plain": [
       "IntersectingTriangleCount:   0%|          | 0/100 [00:00<?, ?%/s]"
      ]
     },
     "metadata": {},
     "output_type": "display_data"
    }
   ],
   "source": [
    "triangleCount=pd.DataFrame([],columns=[\"graph\",\"bytesMin\",\"bytesMax\",\"postProcessingMillis\",\"preProcessingMillis\",\"computeMillis\",\"sumTimeMillis\",\"stdSumTimeMillis\"])\n",
    "repeats= 10 \n",
    "store = np.zeros((repeats,3))\n",
    "for name in undirected_names:\n",
    "    print(name)\n",
    "    G = gds.graph.get(name)\n",
    "    r1 =gds.triangleCount.write.estimate(G,writeProperty= 'triangleCount')\n",
    "\n",
    "    for i in range(repeats):\n",
    "        r2 = gds.triangleCount.stats(G)\n",
    "        store[i]=r2[\"postProcessingMillis\"],r2[\"preProcessingMillis\"],r2[\"computeMillis\"]\n",
    "\n",
    "    postProcessingMillis,preProcessingMillis,computeMillis = np.average(store,axis=0)\n",
    "    sumTimeMillis = np.average(np.sum(store,axis=1))\n",
    "    stdSumTimeMillis = np.std(np.sum(store,axis=1))\n",
    "    triangleCount = triangleCount.append({\"graph\":name,\"bytesMin\":r1[\"bytesMin\"],\"bytesMax\":r1[\"bytesMax\"],\"postProcessingMillis\":postProcessingMillis,\"preProcessingMillis\":preProcessingMillis,\"computeMillis\":computeMillis,\"sumTimeMillis\":sumTimeMillis,\"stdSumTimeMillis\":stdSumTimeMillis}, ignore_index=True)"
   ]
  },
  {
   "cell_type": "code",
   "execution_count": 12,
   "metadata": {},
   "outputs": [
    {
     "data": {
      "text/html": [
       "<div>\n",
       "<style scoped>\n",
       "    .dataframe tbody tr th:only-of-type {\n",
       "        vertical-align: middle;\n",
       "    }\n",
       "\n",
       "    .dataframe tbody tr th {\n",
       "        vertical-align: top;\n",
       "    }\n",
       "\n",
       "    .dataframe thead th {\n",
       "        text-align: right;\n",
       "    }\n",
       "</style>\n",
       "<table border=\"1\" class=\"dataframe\">\n",
       "  <thead>\n",
       "    <tr style=\"text-align: right;\">\n",
       "      <th></th>\n",
       "      <th>graph</th>\n",
       "      <th>bytesMin</th>\n",
       "      <th>bytesMax</th>\n",
       "      <th>postProcessingMillis</th>\n",
       "      <th>preProcessingMillis</th>\n",
       "      <th>computeMillis</th>\n",
       "      <th>sumTimeMillis</th>\n",
       "      <th>stdSumTimeMillis</th>\n",
       "    </tr>\n",
       "  </thead>\n",
       "  <tbody>\n",
       "    <tr>\n",
       "      <th>0</th>\n",
       "      <td>2003ArticlesUndirected</td>\n",
       "      <td>13488</td>\n",
       "      <td>13488</td>\n",
       "      <td>0.0</td>\n",
       "      <td>0.0</td>\n",
       "      <td>4.5</td>\n",
       "      <td>4.5</td>\n",
       "      <td>2.974895</td>\n",
       "    </tr>\n",
       "    <tr>\n",
       "      <th>1</th>\n",
       "      <td>2007ArticlesUndirected</td>\n",
       "      <td>40000</td>\n",
       "      <td>40000</td>\n",
       "      <td>0.0</td>\n",
       "      <td>0.0</td>\n",
       "      <td>5.3</td>\n",
       "      <td>5.3</td>\n",
       "      <td>0.9</td>\n",
       "    </tr>\n",
       "    <tr>\n",
       "      <th>2</th>\n",
       "      <td>2010ArticlesUndirected</td>\n",
       "      <td>103952</td>\n",
       "      <td>103952</td>\n",
       "      <td>0.0</td>\n",
       "      <td>0.0</td>\n",
       "      <td>8.9</td>\n",
       "      <td>8.9</td>\n",
       "      <td>1.3</td>\n",
       "    </tr>\n",
       "    <tr>\n",
       "      <th>3</th>\n",
       "      <td>2013ArticlesUndirected</td>\n",
       "      <td>255928</td>\n",
       "      <td>255928</td>\n",
       "      <td>0.0</td>\n",
       "      <td>0.0</td>\n",
       "      <td>11.8</td>\n",
       "      <td>11.8</td>\n",
       "      <td>5.52811</td>\n",
       "    </tr>\n",
       "    <tr>\n",
       "      <th>4</th>\n",
       "      <td>2016ArticlesUndirected</td>\n",
       "      <td>556152</td>\n",
       "      <td>556152</td>\n",
       "      <td>0.0</td>\n",
       "      <td>0.0</td>\n",
       "      <td>47.3</td>\n",
       "      <td>47.3</td>\n",
       "      <td>5.657738</td>\n",
       "    </tr>\n",
       "    <tr>\n",
       "      <th>5</th>\n",
       "      <td>2018ArticlesUndirected</td>\n",
       "      <td>966080</td>\n",
       "      <td>966080</td>\n",
       "      <td>0.0</td>\n",
       "      <td>0.0</td>\n",
       "      <td>289.5</td>\n",
       "      <td>289.5</td>\n",
       "      <td>33.058282</td>\n",
       "    </tr>\n",
       "    <tr>\n",
       "      <th>6</th>\n",
       "      <td>2020ArticlesUndirected</td>\n",
       "      <td>1354904</td>\n",
       "      <td>1354904</td>\n",
       "      <td>0.0</td>\n",
       "      <td>0.0</td>\n",
       "      <td>939.4</td>\n",
       "      <td>939.4</td>\n",
       "      <td>81.549004</td>\n",
       "    </tr>\n",
       "  </tbody>\n",
       "</table>\n",
       "</div>"
      ],
      "text/plain": [
       "                    graph bytesMin bytesMax postProcessingMillis  \\\n",
       "0  2003ArticlesUndirected    13488    13488                  0.0   \n",
       "1  2007ArticlesUndirected    40000    40000                  0.0   \n",
       "2  2010ArticlesUndirected   103952   103952                  0.0   \n",
       "3  2013ArticlesUndirected   255928   255928                  0.0   \n",
       "4  2016ArticlesUndirected   556152   556152                  0.0   \n",
       "5  2018ArticlesUndirected   966080   966080                  0.0   \n",
       "6  2020ArticlesUndirected  1354904  1354904                  0.0   \n",
       "\n",
       "  preProcessingMillis computeMillis sumTimeMillis stdSumTimeMillis  \n",
       "0                 0.0           4.5           4.5         2.974895  \n",
       "1                 0.0           5.3           5.3              0.9  \n",
       "2                 0.0           8.9           8.9              1.3  \n",
       "3                 0.0          11.8          11.8          5.52811  \n",
       "4                 0.0          47.3          47.3         5.657738  \n",
       "5                 0.0         289.5         289.5        33.058282  \n",
       "6                 0.0         939.4         939.4        81.549004  "
      ]
     },
     "execution_count": 12,
     "metadata": {},
     "output_type": "execute_result"
    }
   ],
   "source": [
    "triangleCount.to_pickle(\"./triangleCount.pkl\")\n",
    "triangleCount.head(20)"
   ]
  },
  {
   "cell_type": "code",
   "execution_count": 13,
   "metadata": {},
   "outputs": [
    {
     "name": "stdout",
     "output_type": "stream",
     "text": [
      "2003ArticlesUndirected\n",
      "2007ArticlesUndirected\n",
      "2010ArticlesUndirected\n",
      "2013ArticlesUndirected\n",
      "2016ArticlesUndirected\n",
      "2018ArticlesUndirected\n",
      "2020ArticlesUndirected\n"
     ]
    },
    {
     "data": {
      "application/vnd.jupyter.widget-view+json": {
       "model_id": "442b05c03f1342a6a6f660da53904d58",
       "version_major": 2,
       "version_minor": 0
      },
      "text/plain": [
       "LocalClusteringCoefficient:   0%|          | 0/100 [00:00<?, ?%/s]"
      ]
     },
     "metadata": {},
     "output_type": "display_data"
    },
    {
     "data": {
      "application/vnd.jupyter.widget-view+json": {
       "model_id": "3e7385e922aa4e4baaa1b312aba1c3f5",
       "version_major": 2,
       "version_minor": 0
      },
      "text/plain": [
       "LocalClusteringCoefficient:   0%|          | 0/100 [00:00<?, ?%/s]"
      ]
     },
     "metadata": {},
     "output_type": "display_data"
    },
    {
     "data": {
      "application/vnd.jupyter.widget-view+json": {
       "model_id": "1f45ed1e44a245b0a9796efd92d53dbf",
       "version_major": 2,
       "version_minor": 0
      },
      "text/plain": [
       "LocalClusteringCoefficient:   0%|          | 0/100 [00:00<?, ?%/s]"
      ]
     },
     "metadata": {},
     "output_type": "display_data"
    },
    {
     "data": {
      "application/vnd.jupyter.widget-view+json": {
       "model_id": "cad61e7d32ee466784a3baa331037fcd",
       "version_major": 2,
       "version_minor": 0
      },
      "text/plain": [
       "LocalClusteringCoefficient:   0%|          | 0/100 [00:00<?, ?%/s]"
      ]
     },
     "metadata": {},
     "output_type": "display_data"
    },
    {
     "data": {
      "application/vnd.jupyter.widget-view+json": {
       "model_id": "6daf52e9799d4e3da660a76c5af0bdb0",
       "version_major": 2,
       "version_minor": 0
      },
      "text/plain": [
       "LocalClusteringCoefficient:   0%|          | 0/100 [00:00<?, ?%/s]"
      ]
     },
     "metadata": {},
     "output_type": "display_data"
    },
    {
     "data": {
      "application/vnd.jupyter.widget-view+json": {
       "model_id": "62f10ff5e4f343a0a2f36756a383d701",
       "version_major": 2,
       "version_minor": 0
      },
      "text/plain": [
       "LocalClusteringCoefficient:   0%|          | 0/100 [00:00<?, ?%/s]"
      ]
     },
     "metadata": {},
     "output_type": "display_data"
    },
    {
     "data": {
      "application/vnd.jupyter.widget-view+json": {
       "model_id": "48fe5aabb1dc4a96b7fff9f7ee3bc00a",
       "version_major": 2,
       "version_minor": 0
      },
      "text/plain": [
       "LocalClusteringCoefficient:   0%|          | 0/100 [00:00<?, ?%/s]"
      ]
     },
     "metadata": {},
     "output_type": "display_data"
    },
    {
     "data": {
      "application/vnd.jupyter.widget-view+json": {
       "model_id": "c8c461828cd7482b923a072eb813771a",
       "version_major": 2,
       "version_minor": 0
      },
      "text/plain": [
       "LocalClusteringCoefficient:   0%|          | 0/100 [00:00<?, ?%/s]"
      ]
     },
     "metadata": {},
     "output_type": "display_data"
    },
    {
     "data": {
      "application/vnd.jupyter.widget-view+json": {
       "model_id": "1ea99eb1eacc40dcba0b38b1347a9f16",
       "version_major": 2,
       "version_minor": 0
      },
      "text/plain": [
       "LocalClusteringCoefficient:   0%|          | 0/100 [00:00<?, ?%/s]"
      ]
     },
     "metadata": {},
     "output_type": "display_data"
    },
    {
     "data": {
      "application/vnd.jupyter.widget-view+json": {
       "model_id": "5669b47ea25f42daae0e04c5d3aff46f",
       "version_major": 2,
       "version_minor": 0
      },
      "text/plain": [
       "LocalClusteringCoefficient:   0%|          | 0/100 [00:00<?, ?%/s]"
      ]
     },
     "metadata": {},
     "output_type": "display_data"
    }
   ],
   "source": [
    "localClusteringCoefficient=pd.DataFrame([],columns=[\"graph\",\"bytesMin\",\"bytesMax\",\"postProcessingMillis\",\"preProcessingMillis\",\"computeMillis\",\"sumTimeMillis\",\"stdSumTimeMillis\"])\n",
    "repeats= 10 \n",
    "store = np.zeros((repeats,3))\n",
    "for name in undirected_names:\n",
    "    print(name)\n",
    "    G = gds.graph.get(name)\n",
    "    r1 =gds.localClusteringCoefficient.write.estimate(G,writeProperty= 'localClusteringCoefficient')\n",
    "\n",
    "    for i in range(repeats):\n",
    "        r2 = gds.localClusteringCoefficient.stats(G)\n",
    "        store[i]=r2[\"postProcessingMillis\"],r2[\"preProcessingMillis\"],r2[\"computeMillis\"]\n",
    "\n",
    "    postProcessingMillis,preProcessingMillis,computeMillis = np.average(store,axis=0)\n",
    "    sumTimeMillis = np.average(np.sum(store,axis=1))\n",
    "    stdSumTimeMillis = np.std(np.sum(store,axis=1))\n",
    "    localClusteringCoefficient = localClusteringCoefficient.append({\"graph\":name,\"bytesMin\":r1[\"bytesMin\"],\"bytesMax\":r1[\"bytesMax\"],\"postProcessingMillis\":postProcessingMillis,\"preProcessingMillis\":preProcessingMillis,\"computeMillis\":computeMillis,\"sumTimeMillis\":sumTimeMillis,\"stdSumTimeMillis\":stdSumTimeMillis}, ignore_index=True)"
   ]
  },
  {
   "cell_type": "code",
   "execution_count": 14,
   "metadata": {},
   "outputs": [
    {
     "data": {
      "text/html": [
       "<div>\n",
       "<style scoped>\n",
       "    .dataframe tbody tr th:only-of-type {\n",
       "        vertical-align: middle;\n",
       "    }\n",
       "\n",
       "    .dataframe tbody tr th {\n",
       "        vertical-align: top;\n",
       "    }\n",
       "\n",
       "    .dataframe thead th {\n",
       "        text-align: right;\n",
       "    }\n",
       "</style>\n",
       "<table border=\"1\" class=\"dataframe\">\n",
       "  <thead>\n",
       "    <tr style=\"text-align: right;\">\n",
       "      <th></th>\n",
       "      <th>graph</th>\n",
       "      <th>bytesMin</th>\n",
       "      <th>bytesMax</th>\n",
       "      <th>postProcessingMillis</th>\n",
       "      <th>preProcessingMillis</th>\n",
       "      <th>computeMillis</th>\n",
       "      <th>sumTimeMillis</th>\n",
       "      <th>stdSumTimeMillis</th>\n",
       "    </tr>\n",
       "  </thead>\n",
       "  <tbody>\n",
       "    <tr>\n",
       "      <th>0</th>\n",
       "      <td>2003ArticlesUndirected</td>\n",
       "      <td>26952</td>\n",
       "      <td>26952</td>\n",
       "      <td>0.0</td>\n",
       "      <td>0.0</td>\n",
       "      <td>5.2</td>\n",
       "      <td>5.2</td>\n",
       "      <td>0.748331</td>\n",
       "    </tr>\n",
       "    <tr>\n",
       "      <th>1</th>\n",
       "      <td>2007ArticlesUndirected</td>\n",
       "      <td>79976</td>\n",
       "      <td>79976</td>\n",
       "      <td>0.0</td>\n",
       "      <td>0.0</td>\n",
       "      <td>4.8</td>\n",
       "      <td>4.8</td>\n",
       "      <td>0.6</td>\n",
       "    </tr>\n",
       "    <tr>\n",
       "      <th>2</th>\n",
       "      <td>2010ArticlesUndirected</td>\n",
       "      <td>207880</td>\n",
       "      <td>207880</td>\n",
       "      <td>0.0</td>\n",
       "      <td>0.0</td>\n",
       "      <td>7.0</td>\n",
       "      <td>7.0</td>\n",
       "      <td>1.0</td>\n",
       "    </tr>\n",
       "    <tr>\n",
       "      <th>3</th>\n",
       "      <td>2013ArticlesUndirected</td>\n",
       "      <td>511832</td>\n",
       "      <td>511832</td>\n",
       "      <td>0.0</td>\n",
       "      <td>0.0</td>\n",
       "      <td>11.4</td>\n",
       "      <td>11.4</td>\n",
       "      <td>1.113553</td>\n",
       "    </tr>\n",
       "    <tr>\n",
       "      <th>4</th>\n",
       "      <td>2016ArticlesUndirected</td>\n",
       "      <td>1112280</td>\n",
       "      <td>1112280</td>\n",
       "      <td>0.0</td>\n",
       "      <td>0.0</td>\n",
       "      <td>51.6</td>\n",
       "      <td>51.6</td>\n",
       "      <td>2.537716</td>\n",
       "    </tr>\n",
       "    <tr>\n",
       "      <th>5</th>\n",
       "      <td>2018ArticlesUndirected</td>\n",
       "      <td>1932136</td>\n",
       "      <td>1932136</td>\n",
       "      <td>0.0</td>\n",
       "      <td>0.0</td>\n",
       "      <td>285.3</td>\n",
       "      <td>285.3</td>\n",
       "      <td>33.232665</td>\n",
       "    </tr>\n",
       "    <tr>\n",
       "      <th>6</th>\n",
       "      <td>2020ArticlesUndirected</td>\n",
       "      <td>2709784</td>\n",
       "      <td>2709784</td>\n",
       "      <td>0.0</td>\n",
       "      <td>0.0</td>\n",
       "      <td>885.4</td>\n",
       "      <td>885.4</td>\n",
       "      <td>58.356148</td>\n",
       "    </tr>\n",
       "  </tbody>\n",
       "</table>\n",
       "</div>"
      ],
      "text/plain": [
       "                    graph bytesMin bytesMax postProcessingMillis  \\\n",
       "0  2003ArticlesUndirected    26952    26952                  0.0   \n",
       "1  2007ArticlesUndirected    79976    79976                  0.0   \n",
       "2  2010ArticlesUndirected   207880   207880                  0.0   \n",
       "3  2013ArticlesUndirected   511832   511832                  0.0   \n",
       "4  2016ArticlesUndirected  1112280  1112280                  0.0   \n",
       "5  2018ArticlesUndirected  1932136  1932136                  0.0   \n",
       "6  2020ArticlesUndirected  2709784  2709784                  0.0   \n",
       "\n",
       "  preProcessingMillis computeMillis sumTimeMillis stdSumTimeMillis  \n",
       "0                 0.0           5.2           5.2         0.748331  \n",
       "1                 0.0           4.8           4.8              0.6  \n",
       "2                 0.0           7.0           7.0              1.0  \n",
       "3                 0.0          11.4          11.4         1.113553  \n",
       "4                 0.0          51.6          51.6         2.537716  \n",
       "5                 0.0         285.3         285.3        33.232665  \n",
       "6                 0.0         885.4         885.4        58.356148  "
      ]
     },
     "execution_count": 14,
     "metadata": {},
     "output_type": "execute_result"
    }
   ],
   "source": [
    "localClusteringCoefficient.to_pickle(\"./localClusteringCoefficient.pkl\")\n",
    "localClusteringCoefficient.head(20)"
   ]
  },
  {
   "cell_type": "code",
   "execution_count": 16,
   "metadata": {},
   "outputs": [
    {
     "name": "stdout",
     "output_type": "stream",
     "text": [
      "2003ArticlesUndirected\n",
      "2007ArticlesUndirected\n",
      "2010ArticlesUndirected\n",
      "2013ArticlesUndirected\n",
      "2016ArticlesUndirected\n"
     ]
    },
    {
     "data": {
      "application/vnd.jupyter.widget-view+json": {
       "model_id": "ff180e9048244f3586530e4186708bdf",
       "version_major": 2,
       "version_minor": 0
      },
      "text/plain": [
       "ModularityOptimization:   0%|          | 0/100 [00:00<?, ?%/s]"
      ]
     },
     "metadata": {},
     "output_type": "display_data"
    },
    {
     "name": "stdout",
     "output_type": "stream",
     "text": [
      "2018ArticlesUndirected\n"
     ]
    },
    {
     "data": {
      "application/vnd.jupyter.widget-view+json": {
       "model_id": "8281a71f703d47a0873512eb13daa472",
       "version_major": 2,
       "version_minor": 0
      },
      "text/plain": [
       "ModularityOptimization:   0%|          | 0/100 [00:00<?, ?%/s]"
      ]
     },
     "metadata": {},
     "output_type": "display_data"
    },
    {
     "data": {
      "application/vnd.jupyter.widget-view+json": {
       "model_id": "57e23a32318e463180c4a6691717d634",
       "version_major": 2,
       "version_minor": 0
      },
      "text/plain": [
       "ModularityOptimization:   0%|          | 0/100 [00:00<?, ?%/s]"
      ]
     },
     "metadata": {},
     "output_type": "display_data"
    },
    {
     "data": {
      "application/vnd.jupyter.widget-view+json": {
       "model_id": "7931656260574863930d42e6909fbf4a",
       "version_major": 2,
       "version_minor": 0
      },
      "text/plain": [
       "ModularityOptimization:   0%|          | 0/100 [00:00<?, ?%/s]"
      ]
     },
     "metadata": {},
     "output_type": "display_data"
    },
    {
     "data": {
      "application/vnd.jupyter.widget-view+json": {
       "model_id": "d3e03d00e8964bc88693ec9637a27afd",
       "version_major": 2,
       "version_minor": 0
      },
      "text/plain": [
       "ModularityOptimization:   0%|          | 0/100 [00:00<?, ?%/s]"
      ]
     },
     "metadata": {},
     "output_type": "display_data"
    },
    {
     "data": {
      "application/vnd.jupyter.widget-view+json": {
       "model_id": "131f3f839b194b28be1dd0a974e60744",
       "version_major": 2,
       "version_minor": 0
      },
      "text/plain": [
       "ModularityOptimization:   0%|          | 0/100 [00:00<?, ?%/s]"
      ]
     },
     "metadata": {},
     "output_type": "display_data"
    },
    {
     "data": {
      "application/vnd.jupyter.widget-view+json": {
       "model_id": "a7865f4c5eec4f14942cdfd43717f1e7",
       "version_major": 2,
       "version_minor": 0
      },
      "text/plain": [
       "ModularityOptimization:   0%|          | 0/100 [00:00<?, ?%/s]"
      ]
     },
     "metadata": {},
     "output_type": "display_data"
    },
    {
     "data": {
      "application/vnd.jupyter.widget-view+json": {
       "model_id": "05cc6b6c3ca34875b47154c6703099a9",
       "version_major": 2,
       "version_minor": 0
      },
      "text/plain": [
       "ModularityOptimization:   0%|          | 0/100 [00:00<?, ?%/s]"
      ]
     },
     "metadata": {},
     "output_type": "display_data"
    },
    {
     "data": {
      "application/vnd.jupyter.widget-view+json": {
       "model_id": "90b86c25377f40f18643b505ac47bbf0",
       "version_major": 2,
       "version_minor": 0
      },
      "text/plain": [
       "ModularityOptimization:   0%|          | 0/100 [00:00<?, ?%/s]"
      ]
     },
     "metadata": {},
     "output_type": "display_data"
    },
    {
     "data": {
      "application/vnd.jupyter.widget-view+json": {
       "model_id": "c6f22a53b7454985802f228006797582",
       "version_major": 2,
       "version_minor": 0
      },
      "text/plain": [
       "ModularityOptimization:   0%|          | 0/100 [00:00<?, ?%/s]"
      ]
     },
     "metadata": {},
     "output_type": "display_data"
    },
    {
     "data": {
      "application/vnd.jupyter.widget-view+json": {
       "model_id": "ef0ecc4fb76a4f6e99638f437a49aa4d",
       "version_major": 2,
       "version_minor": 0
      },
      "text/plain": [
       "ModularityOptimization:   0%|          | 0/100 [00:00<?, ?%/s]"
      ]
     },
     "metadata": {},
     "output_type": "display_data"
    },
    {
     "name": "stdout",
     "output_type": "stream",
     "text": [
      "2020ArticlesUndirected\n"
     ]
    },
    {
     "data": {
      "application/vnd.jupyter.widget-view+json": {
       "model_id": "858e9d3355dd4975966c3cc8b35b5bbc",
       "version_major": 2,
       "version_minor": 0
      },
      "text/plain": [
       "ModularityOptimization:   0%|          | 0/100 [00:00<?, ?%/s]"
      ]
     },
     "metadata": {},
     "output_type": "display_data"
    },
    {
     "data": {
      "application/vnd.jupyter.widget-view+json": {
       "model_id": "e00b2d090e364232a071f936b6d340f6",
       "version_major": 2,
       "version_minor": 0
      },
      "text/plain": [
       "ModularityOptimization:   0%|          | 0/100 [00:00<?, ?%/s]"
      ]
     },
     "metadata": {},
     "output_type": "display_data"
    },
    {
     "data": {
      "application/vnd.jupyter.widget-view+json": {
       "model_id": "68a9bd783cbc4ec8a4309276ccc2ec5c",
       "version_major": 2,
       "version_minor": 0
      },
      "text/plain": [
       "ModularityOptimization:   0%|          | 0/100 [00:00<?, ?%/s]"
      ]
     },
     "metadata": {},
     "output_type": "display_data"
    },
    {
     "data": {
      "application/vnd.jupyter.widget-view+json": {
       "model_id": "0d2546a07f1b4d11ab4d7f6f32cc9ced",
       "version_major": 2,
       "version_minor": 0
      },
      "text/plain": [
       "ModularityOptimization:   0%|          | 0/100 [00:00<?, ?%/s]"
      ]
     },
     "metadata": {},
     "output_type": "display_data"
    },
    {
     "data": {
      "application/vnd.jupyter.widget-view+json": {
       "model_id": "48accf7302eb4879aece9c8358fcaa27",
       "version_major": 2,
       "version_minor": 0
      },
      "text/plain": [
       "ModularityOptimization:   0%|          | 0/100 [00:00<?, ?%/s]"
      ]
     },
     "metadata": {},
     "output_type": "display_data"
    },
    {
     "data": {
      "application/vnd.jupyter.widget-view+json": {
       "model_id": "b48b7293d348434484012ec45ce6639e",
       "version_major": 2,
       "version_minor": 0
      },
      "text/plain": [
       "ModularityOptimization:   0%|          | 0/100 [00:00<?, ?%/s]"
      ]
     },
     "metadata": {},
     "output_type": "display_data"
    },
    {
     "data": {
      "application/vnd.jupyter.widget-view+json": {
       "model_id": "b59d66df2eab442aa2bf2a0bf1097c39",
       "version_major": 2,
       "version_minor": 0
      },
      "text/plain": [
       "ModularityOptimization:   0%|          | 0/100 [00:00<?, ?%/s]"
      ]
     },
     "metadata": {},
     "output_type": "display_data"
    },
    {
     "data": {
      "application/vnd.jupyter.widget-view+json": {
       "model_id": "29ce1ae935864783bab0f1b24d5352c7",
       "version_major": 2,
       "version_minor": 0
      },
      "text/plain": [
       "ModularityOptimization:   0%|          | 0/100 [00:00<?, ?%/s]"
      ]
     },
     "metadata": {},
     "output_type": "display_data"
    },
    {
     "data": {
      "application/vnd.jupyter.widget-view+json": {
       "model_id": "552387283cbe42fa85a2d840617e66e3",
       "version_major": 2,
       "version_minor": 0
      },
      "text/plain": [
       "ModularityOptimization:   0%|          | 0/100 [00:00<?, ?%/s]"
      ]
     },
     "metadata": {},
     "output_type": "display_data"
    },
    {
     "data": {
      "application/vnd.jupyter.widget-view+json": {
       "model_id": "1751828b1de84252ab047dea38ccc84c",
       "version_major": 2,
       "version_minor": 0
      },
      "text/plain": [
       "ModularityOptimization:   0%|          | 0/100 [00:00<?, ?%/s]"
      ]
     },
     "metadata": {},
     "output_type": "display_data"
    }
   ],
   "source": [
    "modularityOptimization=pd.DataFrame([],columns=[\"graph\",\"bytesMin\",\"bytesMax\",\"postProcessingMillis\",\"preProcessingMillis\",\"computeMillis\",\"sumTimeMillis\",\"stdSumTimeMillis\"])\n",
    "repeats= 10 \n",
    "store = np.zeros((repeats,3))\n",
    "for name in undirected_names:\n",
    "    print(name)\n",
    "    G = gds.graph.get(name)\n",
    "    r1 =gds.beta.modularityOptimization.write.estimate(G,writeProperty= 'modularityOptimization')\n",
    "\n",
    "    for i in range(repeats):\n",
    "        r2 = gds.beta.modularityOptimization.write(G,writeProperty= 'modularityOptimization')\n",
    "        store[i]=r2[\"postProcessingMillis\"],r2[\"preProcessingMillis\"],r2[\"computeMillis\"]\n",
    "\n",
    "    postProcessingMillis,preProcessingMillis,computeMillis = np.average(store,axis=0)\n",
    "    sumTimeMillis = np.average(np.sum(store,axis=1))\n",
    "    stdSumTimeMillis = np.std(np.sum(store,axis=1))\n",
    "    modularityOptimization = modularityOptimization.append({\"graph\":name,\"bytesMin\":r1[\"bytesMin\"],\"bytesMax\":r1[\"bytesMax\"],\"postProcessingMillis\":postProcessingMillis,\"preProcessingMillis\":preProcessingMillis,\"computeMillis\":computeMillis,\"sumTimeMillis\":sumTimeMillis,\"stdSumTimeMillis\":stdSumTimeMillis}, ignore_index=True)"
   ]
  },
  {
   "cell_type": "code",
   "execution_count": 17,
   "metadata": {},
   "outputs": [
    {
     "data": {
      "text/html": [
       "<div>\n",
       "<style scoped>\n",
       "    .dataframe tbody tr th:only-of-type {\n",
       "        vertical-align: middle;\n",
       "    }\n",
       "\n",
       "    .dataframe tbody tr th {\n",
       "        vertical-align: top;\n",
       "    }\n",
       "\n",
       "    .dataframe thead th {\n",
       "        text-align: right;\n",
       "    }\n",
       "</style>\n",
       "<table border=\"1\" class=\"dataframe\">\n",
       "  <thead>\n",
       "    <tr style=\"text-align: right;\">\n",
       "      <th></th>\n",
       "      <th>graph</th>\n",
       "      <th>bytesMin</th>\n",
       "      <th>bytesMax</th>\n",
       "      <th>postProcessingMillis</th>\n",
       "      <th>preProcessingMillis</th>\n",
       "      <th>computeMillis</th>\n",
       "      <th>sumTimeMillis</th>\n",
       "      <th>stdSumTimeMillis</th>\n",
       "    </tr>\n",
       "  </thead>\n",
       "  <tbody>\n",
       "    <tr>\n",
       "      <th>0</th>\n",
       "      <td>2003ArticlesUndirected</td>\n",
       "      <td>98656</td>\n",
       "      <td>241320</td>\n",
       "      <td>0.3</td>\n",
       "      <td>0.0</td>\n",
       "      <td>39.4</td>\n",
       "      <td>39.7</td>\n",
       "      <td>29.89331</td>\n",
       "    </tr>\n",
       "    <tr>\n",
       "      <th>1</th>\n",
       "      <td>2007ArticlesUndirected</td>\n",
       "      <td>284648</td>\n",
       "      <td>718912</td>\n",
       "      <td>0.8</td>\n",
       "      <td>0.0</td>\n",
       "      <td>62.0</td>\n",
       "      <td>62.8</td>\n",
       "      <td>45.943008</td>\n",
       "    </tr>\n",
       "    <tr>\n",
       "      <th>2</th>\n",
       "      <td>2010ArticlesUndirected</td>\n",
       "      <td>733312</td>\n",
       "      <td>1871080</td>\n",
       "      <td>1.1</td>\n",
       "      <td>0.0</td>\n",
       "      <td>87.8</td>\n",
       "      <td>88.9</td>\n",
       "      <td>10.539924</td>\n",
       "    </tr>\n",
       "    <tr>\n",
       "      <th>3</th>\n",
       "      <td>2013ArticlesUndirected</td>\n",
       "      <td>1799520</td>\n",
       "      <td>4609008</td>\n",
       "      <td>2.1</td>\n",
       "      <td>0.0</td>\n",
       "      <td>170.4</td>\n",
       "      <td>172.5</td>\n",
       "      <td>45.640443</td>\n",
       "    </tr>\n",
       "    <tr>\n",
       "      <th>4</th>\n",
       "      <td>2016ArticlesUndirected</td>\n",
       "      <td>3905776</td>\n",
       "      <td>10017728</td>\n",
       "      <td>3.2</td>\n",
       "      <td>0.0</td>\n",
       "      <td>414.7</td>\n",
       "      <td>417.9</td>\n",
       "      <td>101.619339</td>\n",
       "    </tr>\n",
       "    <tr>\n",
       "      <th>5</th>\n",
       "      <td>2018ArticlesUndirected</td>\n",
       "      <td>6781680</td>\n",
       "      <td>17402824</td>\n",
       "      <td>8.9</td>\n",
       "      <td>0.0</td>\n",
       "      <td>1201.9</td>\n",
       "      <td>1210.8</td>\n",
       "      <td>402.862458</td>\n",
       "    </tr>\n",
       "    <tr>\n",
       "      <th>6</th>\n",
       "      <td>2020ArticlesUndirected</td>\n",
       "      <td>9509520</td>\n",
       "      <td>24407744</td>\n",
       "      <td>39.2</td>\n",
       "      <td>0.0</td>\n",
       "      <td>1718.0</td>\n",
       "      <td>1757.2</td>\n",
       "      <td>270.96819</td>\n",
       "    </tr>\n",
       "  </tbody>\n",
       "</table>\n",
       "</div>"
      ],
      "text/plain": [
       "                    graph bytesMin  bytesMax postProcessingMillis  \\\n",
       "0  2003ArticlesUndirected    98656    241320                  0.3   \n",
       "1  2007ArticlesUndirected   284648    718912                  0.8   \n",
       "2  2010ArticlesUndirected   733312   1871080                  1.1   \n",
       "3  2013ArticlesUndirected  1799520   4609008                  2.1   \n",
       "4  2016ArticlesUndirected  3905776  10017728                  3.2   \n",
       "5  2018ArticlesUndirected  6781680  17402824                  8.9   \n",
       "6  2020ArticlesUndirected  9509520  24407744                 39.2   \n",
       "\n",
       "  preProcessingMillis computeMillis sumTimeMillis stdSumTimeMillis  \n",
       "0                 0.0          39.4          39.7         29.89331  \n",
       "1                 0.0          62.0          62.8        45.943008  \n",
       "2                 0.0          87.8          88.9        10.539924  \n",
       "3                 0.0         170.4         172.5        45.640443  \n",
       "4                 0.0         414.7         417.9       101.619339  \n",
       "5                 0.0        1201.9        1210.8       402.862458  \n",
       "6                 0.0        1718.0        1757.2        270.96819  "
      ]
     },
     "execution_count": 17,
     "metadata": {},
     "output_type": "execute_result"
    }
   ],
   "source": [
    "modularityOptimization.to_pickle(\"./modularityOptimization.pkl\")\n",
    "modularityOptimization.head(20)"
   ]
  },
  {
   "cell_type": "code",
   "execution_count": 19,
   "metadata": {},
   "outputs": [
    {
     "name": "stdout",
     "output_type": "stream",
     "text": [
      "2003ArticlesDirected\n",
      "2007ArticlesDirected\n",
      "2010ArticlesDirected\n",
      "2013ArticlesDirected\n",
      "2016ArticlesDirected\n",
      "2018ArticlesDirected\n",
      "2020ArticlesDirected\n",
      "2003ArticlesUndirected\n",
      "2007ArticlesUndirected\n",
      "2010ArticlesUndirected\n",
      "2013ArticlesUndirected\n",
      "2016ArticlesUndirected\n",
      "2018ArticlesUndirected\n",
      "2020ArticlesUndirected\n"
     ]
    }
   ],
   "source": [
    "scc=pd.DataFrame([],columns=[\"graph\",\"postProcessingMillis\",\"preProcessingMillis\",\"computeMillis\",\"sumTimeMillis\",\"stdSumTimeMillis\"])\n",
    "repeats= 10 \n",
    "store = np.zeros((repeats,3))\n",
    "for name in graph_names:\n",
    "    print(name)\n",
    "    G = gds.graph.get(name)\n",
    "    # r1 =gds.alpha.scc.write.estimate(G,writeProperty= 'scc')\n",
    "\n",
    "    for i in range(repeats):\n",
    "        r2 = gds.alpha.scc.write(G,writeProperty= 'scc')\n",
    "        store[i]=r2[\"postProcessingMillis\"],r2[\"preProcessingMillis\"],r2[\"computeMillis\"]\n",
    "\n",
    "    postProcessingMillis,preProcessingMillis,computeMillis = np.average(store,axis=0)\n",
    "    sumTimeMillis = np.average(np.sum(store,axis=1))\n",
    "    stdSumTimeMillis = np.std(np.sum(store,axis=1))\n",
    "    scc = scc.append({\"graph\":name,\"postProcessingMillis\":postProcessingMillis,\"preProcessingMillis\":preProcessingMillis,\"computeMillis\":computeMillis,\"sumTimeMillis\":sumTimeMillis,\"stdSumTimeMillis\":stdSumTimeMillis}, ignore_index=True)"
   ]
  },
  {
   "cell_type": "code",
   "execution_count": 20,
   "metadata": {},
   "outputs": [
    {
     "data": {
      "text/html": [
       "<div>\n",
       "<style scoped>\n",
       "    .dataframe tbody tr th:only-of-type {\n",
       "        vertical-align: middle;\n",
       "    }\n",
       "\n",
       "    .dataframe tbody tr th {\n",
       "        vertical-align: top;\n",
       "    }\n",
       "\n",
       "    .dataframe thead th {\n",
       "        text-align: right;\n",
       "    }\n",
       "</style>\n",
       "<table border=\"1\" class=\"dataframe\">\n",
       "  <thead>\n",
       "    <tr style=\"text-align: right;\">\n",
       "      <th></th>\n",
       "      <th>graph</th>\n",
       "      <th>postProcessingMillis</th>\n",
       "      <th>preProcessingMillis</th>\n",
       "      <th>computeMillis</th>\n",
       "      <th>sumTimeMillis</th>\n",
       "      <th>stdSumTimeMillis</th>\n",
       "    </tr>\n",
       "  </thead>\n",
       "  <tbody>\n",
       "    <tr>\n",
       "      <th>0</th>\n",
       "      <td>2003ArticlesDirected</td>\n",
       "      <td>10.0</td>\n",
       "      <td>0.0</td>\n",
       "      <td>3.8</td>\n",
       "      <td>13.8</td>\n",
       "      <td>7.678542</td>\n",
       "    </tr>\n",
       "    <tr>\n",
       "      <th>1</th>\n",
       "      <td>2007ArticlesDirected</td>\n",
       "      <td>12.1</td>\n",
       "      <td>0.0</td>\n",
       "      <td>2.1</td>\n",
       "      <td>14.2</td>\n",
       "      <td>13.234803</td>\n",
       "    </tr>\n",
       "    <tr>\n",
       "      <th>2</th>\n",
       "      <td>2010ArticlesDirected</td>\n",
       "      <td>18.5</td>\n",
       "      <td>0.0</td>\n",
       "      <td>2.9</td>\n",
       "      <td>21.4</td>\n",
       "      <td>16.378034</td>\n",
       "    </tr>\n",
       "    <tr>\n",
       "      <th>3</th>\n",
       "      <td>2013ArticlesDirected</td>\n",
       "      <td>18.6</td>\n",
       "      <td>2.3</td>\n",
       "      <td>7.6</td>\n",
       "      <td>28.5</td>\n",
       "      <td>19.901005</td>\n",
       "    </tr>\n",
       "    <tr>\n",
       "      <th>4</th>\n",
       "      <td>2016ArticlesDirected</td>\n",
       "      <td>41.5</td>\n",
       "      <td>0.0</td>\n",
       "      <td>28.1</td>\n",
       "      <td>69.6</td>\n",
       "      <td>66.013938</td>\n",
       "    </tr>\n",
       "    <tr>\n",
       "      <th>5</th>\n",
       "      <td>2018ArticlesDirected</td>\n",
       "      <td>78.5</td>\n",
       "      <td>0.0</td>\n",
       "      <td>52.8</td>\n",
       "      <td>131.3</td>\n",
       "      <td>85.465841</td>\n",
       "    </tr>\n",
       "    <tr>\n",
       "      <th>6</th>\n",
       "      <td>2020ArticlesDirected</td>\n",
       "      <td>106.2</td>\n",
       "      <td>0.0</td>\n",
       "      <td>91.2</td>\n",
       "      <td>197.4</td>\n",
       "      <td>123.49996</td>\n",
       "    </tr>\n",
       "    <tr>\n",
       "      <th>7</th>\n",
       "      <td>2003ArticlesUndirected</td>\n",
       "      <td>2.9</td>\n",
       "      <td>0.0</td>\n",
       "      <td>0.0</td>\n",
       "      <td>2.9</td>\n",
       "      <td>1.445683</td>\n",
       "    </tr>\n",
       "    <tr>\n",
       "      <th>8</th>\n",
       "      <td>2007ArticlesUndirected</td>\n",
       "      <td>7.0</td>\n",
       "      <td>0.0</td>\n",
       "      <td>1.0</td>\n",
       "      <td>8.0</td>\n",
       "      <td>5.059644</td>\n",
       "    </tr>\n",
       "    <tr>\n",
       "      <th>9</th>\n",
       "      <td>2010ArticlesUndirected</td>\n",
       "      <td>18.0</td>\n",
       "      <td>0.0</td>\n",
       "      <td>6.1</td>\n",
       "      <td>24.1</td>\n",
       "      <td>21.920082</td>\n",
       "    </tr>\n",
       "    <tr>\n",
       "      <th>10</th>\n",
       "      <td>2013ArticlesUndirected</td>\n",
       "      <td>18.4</td>\n",
       "      <td>0.0</td>\n",
       "      <td>10.4</td>\n",
       "      <td>28.8</td>\n",
       "      <td>14.641038</td>\n",
       "    </tr>\n",
       "    <tr>\n",
       "      <th>11</th>\n",
       "      <td>2016ArticlesUndirected</td>\n",
       "      <td>35.1</td>\n",
       "      <td>0.0</td>\n",
       "      <td>37.5</td>\n",
       "      <td>72.6</td>\n",
       "      <td>25.985381</td>\n",
       "    </tr>\n",
       "    <tr>\n",
       "      <th>12</th>\n",
       "      <td>2018ArticlesUndirected</td>\n",
       "      <td>65.2</td>\n",
       "      <td>0.0</td>\n",
       "      <td>95.0</td>\n",
       "      <td>160.2</td>\n",
       "      <td>41.727209</td>\n",
       "    </tr>\n",
       "    <tr>\n",
       "      <th>13</th>\n",
       "      <td>2020ArticlesUndirected</td>\n",
       "      <td>45.8</td>\n",
       "      <td>0.0</td>\n",
       "      <td>113.6</td>\n",
       "      <td>159.4</td>\n",
       "      <td>33.012725</td>\n",
       "    </tr>\n",
       "  </tbody>\n",
       "</table>\n",
       "</div>"
      ],
      "text/plain": [
       "                     graph postProcessingMillis preProcessingMillis  \\\n",
       "0     2003ArticlesDirected                 10.0                 0.0   \n",
       "1     2007ArticlesDirected                 12.1                 0.0   \n",
       "2     2010ArticlesDirected                 18.5                 0.0   \n",
       "3     2013ArticlesDirected                 18.6                 2.3   \n",
       "4     2016ArticlesDirected                 41.5                 0.0   \n",
       "5     2018ArticlesDirected                 78.5                 0.0   \n",
       "6     2020ArticlesDirected                106.2                 0.0   \n",
       "7   2003ArticlesUndirected                  2.9                 0.0   \n",
       "8   2007ArticlesUndirected                  7.0                 0.0   \n",
       "9   2010ArticlesUndirected                 18.0                 0.0   \n",
       "10  2013ArticlesUndirected                 18.4                 0.0   \n",
       "11  2016ArticlesUndirected                 35.1                 0.0   \n",
       "12  2018ArticlesUndirected                 65.2                 0.0   \n",
       "13  2020ArticlesUndirected                 45.8                 0.0   \n",
       "\n",
       "   computeMillis sumTimeMillis stdSumTimeMillis  \n",
       "0            3.8          13.8         7.678542  \n",
       "1            2.1          14.2        13.234803  \n",
       "2            2.9          21.4        16.378034  \n",
       "3            7.6          28.5        19.901005  \n",
       "4           28.1          69.6        66.013938  \n",
       "5           52.8         131.3        85.465841  \n",
       "6           91.2         197.4        123.49996  \n",
       "7            0.0           2.9         1.445683  \n",
       "8            1.0           8.0         5.059644  \n",
       "9            6.1          24.1        21.920082  \n",
       "10          10.4          28.8        14.641038  \n",
       "11          37.5          72.6        25.985381  \n",
       "12          95.0         160.2        41.727209  \n",
       "13         113.6         159.4        33.012725  "
      ]
     },
     "execution_count": 20,
     "metadata": {},
     "output_type": "execute_result"
    }
   ],
   "source": [
    "scc.to_pickle(\"./scc.pkl\")\n",
    "scc.head(20)"
   ]
  },
  {
   "cell_type": "code",
   "execution_count": 5,
   "metadata": {},
   "outputs": [
    {
     "name": "stdout",
     "output_type": "stream",
     "text": [
      "2003ArticlesDirected\n",
      "2007ArticlesDirected\n",
      "2010ArticlesDirected\n"
     ]
    },
    {
     "data": {
      "application/vnd.jupyter.widget-view+json": {
       "model_id": "5465789f133f42dd978d5a4fe490df93",
       "version_major": 2,
       "version_minor": 0
      },
      "text/plain": [
       "SpeakerListenerLPAImpl:   0%|          | 0/100 [00:00<?, ?%/s]"
      ]
     },
     "metadata": {},
     "output_type": "display_data"
    },
    {
     "name": "stdout",
     "output_type": "stream",
     "text": [
      "2013ArticlesDirected\n"
     ]
    },
    {
     "data": {
      "application/vnd.jupyter.widget-view+json": {
       "model_id": "48c7f873fcb944e1a0f6afa85bc83a9e",
       "version_major": 2,
       "version_minor": 0
      },
      "text/plain": [
       "SpeakerListenerLPAImpl:   0%|          | 0/100 [00:00<?, ?%/s]"
      ]
     },
     "metadata": {},
     "output_type": "display_data"
    },
    {
     "data": {
      "application/vnd.jupyter.widget-view+json": {
       "model_id": "c350d2cbe7de408ba701bb8c2375df75",
       "version_major": 2,
       "version_minor": 0
      },
      "text/plain": [
       "SpeakerListenerLPAImpl:   0%|          | 0/100 [00:00<?, ?%/s]"
      ]
     },
     "metadata": {},
     "output_type": "display_data"
    },
    {
     "data": {
      "application/vnd.jupyter.widget-view+json": {
       "model_id": "66f3cc1d5d2843b795a434c40ef4ac38",
       "version_major": 2,
       "version_minor": 0
      },
      "text/plain": [
       "SpeakerListenerLPAImpl:   0%|          | 0/100 [00:00<?, ?%/s]"
      ]
     },
     "metadata": {},
     "output_type": "display_data"
    },
    {
     "data": {
      "application/vnd.jupyter.widget-view+json": {
       "model_id": "73172eba891d48468aa7b9ffbb0d08bb",
       "version_major": 2,
       "version_minor": 0
      },
      "text/plain": [
       "SpeakerListenerLPAImpl:   0%|          | 0/100 [00:00<?, ?%/s]"
      ]
     },
     "metadata": {},
     "output_type": "display_data"
    },
    {
     "data": {
      "application/vnd.jupyter.widget-view+json": {
       "model_id": "09e7279450644a0da5e64b6891b4fb54",
       "version_major": 2,
       "version_minor": 0
      },
      "text/plain": [
       "SpeakerListenerLPAImpl:   0%|          | 0/100 [00:00<?, ?%/s]"
      ]
     },
     "metadata": {},
     "output_type": "display_data"
    },
    {
     "data": {
      "application/vnd.jupyter.widget-view+json": {
       "model_id": "85b7443b163a4f95bc07ede9f4ec1de4",
       "version_major": 2,
       "version_minor": 0
      },
      "text/plain": [
       "SpeakerListenerLPAImpl:   0%|          | 0/100 [00:00<?, ?%/s]"
      ]
     },
     "metadata": {},
     "output_type": "display_data"
    },
    {
     "data": {
      "application/vnd.jupyter.widget-view+json": {
       "model_id": "418fa5c66d454fce84d8687bf64d8c37",
       "version_major": 2,
       "version_minor": 0
      },
      "text/plain": [
       "SpeakerListenerLPAImpl:   0%|          | 0/100 [00:00<?, ?%/s]"
      ]
     },
     "metadata": {},
     "output_type": "display_data"
    },
    {
     "data": {
      "application/vnd.jupyter.widget-view+json": {
       "model_id": "e59e72d7bd9e473e88974f9a2ff7d5cb",
       "version_major": 2,
       "version_minor": 0
      },
      "text/plain": [
       "SpeakerListenerLPAImpl:   0%|          | 0/100 [00:00<?, ?%/s]"
      ]
     },
     "metadata": {},
     "output_type": "display_data"
    },
    {
     "data": {
      "application/vnd.jupyter.widget-view+json": {
       "model_id": "d128e9f10bda4b6f8d973be673cec07f",
       "version_major": 2,
       "version_minor": 0
      },
      "text/plain": [
       "SpeakerListenerLPAImpl:   0%|          | 0/100 [00:00<?, ?%/s]"
      ]
     },
     "metadata": {},
     "output_type": "display_data"
    },
    {
     "data": {
      "application/vnd.jupyter.widget-view+json": {
       "model_id": "d34b1900f50b485290018e7aa5f72557",
       "version_major": 2,
       "version_minor": 0
      },
      "text/plain": [
       "SpeakerListenerLPAImpl:   0%|          | 0/100 [00:00<?, ?%/s]"
      ]
     },
     "metadata": {},
     "output_type": "display_data"
    },
    {
     "name": "stdout",
     "output_type": "stream",
     "text": [
      "2016ArticlesDirected\n"
     ]
    },
    {
     "data": {
      "application/vnd.jupyter.widget-view+json": {
       "model_id": "c635f57620d346a288f12d29f0493d48",
       "version_major": 2,
       "version_minor": 0
      },
      "text/plain": [
       "SpeakerListenerLPAImpl:   0%|          | 0/100 [00:00<?, ?%/s]"
      ]
     },
     "metadata": {},
     "output_type": "display_data"
    },
    {
     "data": {
      "application/vnd.jupyter.widget-view+json": {
       "model_id": "56a9c87e752741108fa2eb1de30aefd2",
       "version_major": 2,
       "version_minor": 0
      },
      "text/plain": [
       "SpeakerListenerLPAImpl:   0%|          | 0/100 [00:00<?, ?%/s]"
      ]
     },
     "metadata": {},
     "output_type": "display_data"
    },
    {
     "data": {
      "application/vnd.jupyter.widget-view+json": {
       "model_id": "e7f5c3a6701349c8b7b4d19312e4e7cf",
       "version_major": 2,
       "version_minor": 0
      },
      "text/plain": [
       "SpeakerListenerLPAImpl:   0%|          | 0/100 [00:00<?, ?%/s]"
      ]
     },
     "metadata": {},
     "output_type": "display_data"
    },
    {
     "data": {
      "application/vnd.jupyter.widget-view+json": {
       "model_id": "8061f6586b5b449496b3755fdccf9e41",
       "version_major": 2,
       "version_minor": 0
      },
      "text/plain": [
       "SpeakerListenerLPAImpl:   0%|          | 0/100 [00:00<?, ?%/s]"
      ]
     },
     "metadata": {},
     "output_type": "display_data"
    },
    {
     "data": {
      "application/vnd.jupyter.widget-view+json": {
       "model_id": "35edaba6471a41208929cc2b4deec95f",
       "version_major": 2,
       "version_minor": 0
      },
      "text/plain": [
       "SpeakerListenerLPAImpl:   0%|          | 0/100 [00:00<?, ?%/s]"
      ]
     },
     "metadata": {},
     "output_type": "display_data"
    },
    {
     "data": {
      "application/vnd.jupyter.widget-view+json": {
       "model_id": "a170929d713c46b6ac4b9674df313c66",
       "version_major": 2,
       "version_minor": 0
      },
      "text/plain": [
       "SpeakerListenerLPAImpl:   0%|          | 0/100 [00:00<?, ?%/s]"
      ]
     },
     "metadata": {},
     "output_type": "display_data"
    },
    {
     "data": {
      "application/vnd.jupyter.widget-view+json": {
       "model_id": "afa5b6e48e934713957a42fb9372dc68",
       "version_major": 2,
       "version_minor": 0
      },
      "text/plain": [
       "SpeakerListenerLPAImpl:   0%|          | 0/100 [00:00<?, ?%/s]"
      ]
     },
     "metadata": {},
     "output_type": "display_data"
    },
    {
     "data": {
      "application/vnd.jupyter.widget-view+json": {
       "model_id": "19d9d5b877fc4cac88376c23e92f3e01",
       "version_major": 2,
       "version_minor": 0
      },
      "text/plain": [
       "SpeakerListenerLPAImpl:   0%|          | 0/100 [00:00<?, ?%/s]"
      ]
     },
     "metadata": {},
     "output_type": "display_data"
    },
    {
     "data": {
      "application/vnd.jupyter.widget-view+json": {
       "model_id": "fe959328fc9a48f995c5e5d31989f199",
       "version_major": 2,
       "version_minor": 0
      },
      "text/plain": [
       "SpeakerListenerLPAImpl:   0%|          | 0/100 [00:00<?, ?%/s]"
      ]
     },
     "metadata": {},
     "output_type": "display_data"
    },
    {
     "data": {
      "application/vnd.jupyter.widget-view+json": {
       "model_id": "3306f5ed442b4056aac6e5f0f98012f8",
       "version_major": 2,
       "version_minor": 0
      },
      "text/plain": [
       "SpeakerListenerLPAImpl:   0%|          | 0/100 [00:00<?, ?%/s]"
      ]
     },
     "metadata": {},
     "output_type": "display_data"
    },
    {
     "name": "stdout",
     "output_type": "stream",
     "text": [
      "2018ArticlesDirected\n"
     ]
    },
    {
     "data": {
      "application/vnd.jupyter.widget-view+json": {
       "model_id": "03ad424ae57c4244a7458a21944cbb68",
       "version_major": 2,
       "version_minor": 0
      },
      "text/plain": [
       "SpeakerListenerLPAImpl:   0%|          | 0/100 [00:00<?, ?%/s]"
      ]
     },
     "metadata": {},
     "output_type": "display_data"
    },
    {
     "data": {
      "application/vnd.jupyter.widget-view+json": {
       "model_id": "4fe3a93a16a746fba0275977b344e9ae",
       "version_major": 2,
       "version_minor": 0
      },
      "text/plain": [
       "SpeakerListenerLPAImpl:   0%|          | 0/100 [00:00<?, ?%/s]"
      ]
     },
     "metadata": {},
     "output_type": "display_data"
    },
    {
     "data": {
      "application/vnd.jupyter.widget-view+json": {
       "model_id": "364b95a7c883486cb8a0a17be0a8adba",
       "version_major": 2,
       "version_minor": 0
      },
      "text/plain": [
       "SpeakerListenerLPAImpl:   0%|          | 0/100 [00:00<?, ?%/s]"
      ]
     },
     "metadata": {},
     "output_type": "display_data"
    },
    {
     "data": {
      "application/vnd.jupyter.widget-view+json": {
       "model_id": "11575451d4a34544b03014337d805147",
       "version_major": 2,
       "version_minor": 0
      },
      "text/plain": [
       "SpeakerListenerLPAImpl:   0%|          | 0/100 [00:00<?, ?%/s]"
      ]
     },
     "metadata": {},
     "output_type": "display_data"
    },
    {
     "data": {
      "application/vnd.jupyter.widget-view+json": {
       "model_id": "c504aeaec4dc41178b0c2a526a9f668d",
       "version_major": 2,
       "version_minor": 0
      },
      "text/plain": [
       "SpeakerListenerLPAImpl:   0%|          | 0/100 [00:00<?, ?%/s]"
      ]
     },
     "metadata": {},
     "output_type": "display_data"
    },
    {
     "data": {
      "application/vnd.jupyter.widget-view+json": {
       "model_id": "56c808183bae4759bdb9026940076920",
       "version_major": 2,
       "version_minor": 0
      },
      "text/plain": [
       "SpeakerListenerLPAImpl:   0%|          | 0/100 [00:00<?, ?%/s]"
      ]
     },
     "metadata": {},
     "output_type": "display_data"
    },
    {
     "data": {
      "application/vnd.jupyter.widget-view+json": {
       "model_id": "26accf916e0a4ab896b2d66b410ab477",
       "version_major": 2,
       "version_minor": 0
      },
      "text/plain": [
       "SpeakerListenerLPAImpl:   0%|          | 0/100 [00:00<?, ?%/s]"
      ]
     },
     "metadata": {},
     "output_type": "display_data"
    },
    {
     "data": {
      "application/vnd.jupyter.widget-view+json": {
       "model_id": "b24501e836ff42afab43c26b1daac056",
       "version_major": 2,
       "version_minor": 0
      },
      "text/plain": [
       "SpeakerListenerLPAImpl:   0%|          | 0/100 [00:00<?, ?%/s]"
      ]
     },
     "metadata": {},
     "output_type": "display_data"
    },
    {
     "data": {
      "application/vnd.jupyter.widget-view+json": {
       "model_id": "4f77a26664be4a26b07e6b7e38fe6531",
       "version_major": 2,
       "version_minor": 0
      },
      "text/plain": [
       "SpeakerListenerLPAImpl:   0%|          | 0/100 [00:00<?, ?%/s]"
      ]
     },
     "metadata": {},
     "output_type": "display_data"
    },
    {
     "data": {
      "application/vnd.jupyter.widget-view+json": {
       "model_id": "6a8583cc3e5a4b07a35b6b478374cfe7",
       "version_major": 2,
       "version_minor": 0
      },
      "text/plain": [
       "SpeakerListenerLPAImpl:   0%|          | 0/100 [00:00<?, ?%/s]"
      ]
     },
     "metadata": {},
     "output_type": "display_data"
    },
    {
     "name": "stdout",
     "output_type": "stream",
     "text": [
      "2020ArticlesDirected\n"
     ]
    },
    {
     "data": {
      "application/vnd.jupyter.widget-view+json": {
       "model_id": "68ad0a2864574f0495985bfda5b23f71",
       "version_major": 2,
       "version_minor": 0
      },
      "text/plain": [
       "SpeakerListenerLPAImpl:   0%|          | 0/100 [00:00<?, ?%/s]"
      ]
     },
     "metadata": {},
     "output_type": "display_data"
    },
    {
     "data": {
      "application/vnd.jupyter.widget-view+json": {
       "model_id": "489912bf333440829360986dce94970f",
       "version_major": 2,
       "version_minor": 0
      },
      "text/plain": [
       "SpeakerListenerLPAImpl:   0%|          | 0/100 [00:00<?, ?%/s]"
      ]
     },
     "metadata": {},
     "output_type": "display_data"
    },
    {
     "data": {
      "application/vnd.jupyter.widget-view+json": {
       "model_id": "0f00d8a530424070b76047620d70730a",
       "version_major": 2,
       "version_minor": 0
      },
      "text/plain": [
       "SpeakerListenerLPAImpl:   0%|          | 0/100 [00:00<?, ?%/s]"
      ]
     },
     "metadata": {},
     "output_type": "display_data"
    },
    {
     "data": {
      "application/vnd.jupyter.widget-view+json": {
       "model_id": "0ab8650087f84b48a38ac263c45f363d",
       "version_major": 2,
       "version_minor": 0
      },
      "text/plain": [
       "SpeakerListenerLPAImpl:   0%|          | 0/100 [00:00<?, ?%/s]"
      ]
     },
     "metadata": {},
     "output_type": "display_data"
    },
    {
     "data": {
      "application/vnd.jupyter.widget-view+json": {
       "model_id": "5f53a241638c4b2fb475884826bbfcf6",
       "version_major": 2,
       "version_minor": 0
      },
      "text/plain": [
       "SpeakerListenerLPAImpl:   0%|          | 0/100 [00:00<?, ?%/s]"
      ]
     },
     "metadata": {},
     "output_type": "display_data"
    },
    {
     "data": {
      "application/vnd.jupyter.widget-view+json": {
       "model_id": "a74deac0fdd94f3f971b1f7f81e03756",
       "version_major": 2,
       "version_minor": 0
      },
      "text/plain": [
       "SpeakerListenerLPAImpl:   0%|          | 0/100 [00:00<?, ?%/s]"
      ]
     },
     "metadata": {},
     "output_type": "display_data"
    },
    {
     "data": {
      "application/vnd.jupyter.widget-view+json": {
       "model_id": "f98cdce277df4263a8bcd142eeb0c4c3",
       "version_major": 2,
       "version_minor": 0
      },
      "text/plain": [
       "SpeakerListenerLPAImpl:   0%|          | 0/100 [00:00<?, ?%/s]"
      ]
     },
     "metadata": {},
     "output_type": "display_data"
    },
    {
     "data": {
      "application/vnd.jupyter.widget-view+json": {
       "model_id": "10bde81db900407bbe716c5bbc6a2557",
       "version_major": 2,
       "version_minor": 0
      },
      "text/plain": [
       "SpeakerListenerLPAImpl:   0%|          | 0/100 [00:00<?, ?%/s]"
      ]
     },
     "metadata": {},
     "output_type": "display_data"
    },
    {
     "data": {
      "application/vnd.jupyter.widget-view+json": {
       "model_id": "00ccbf37af9243ecb6648f0ca26584a4",
       "version_major": 2,
       "version_minor": 0
      },
      "text/plain": [
       "SpeakerListenerLPAImpl:   0%|          | 0/100 [00:00<?, ?%/s]"
      ]
     },
     "metadata": {},
     "output_type": "display_data"
    },
    {
     "data": {
      "application/vnd.jupyter.widget-view+json": {
       "model_id": "5993a74e6ff14b309dec6fab015c10d0",
       "version_major": 2,
       "version_minor": 0
      },
      "text/plain": [
       "SpeakerListenerLPAImpl:   0%|          | 0/100 [00:00<?, ?%/s]"
      ]
     },
     "metadata": {},
     "output_type": "display_data"
    },
    {
     "name": "stdout",
     "output_type": "stream",
     "text": [
      "2003ArticlesUndirected\n",
      "2007ArticlesUndirected\n",
      "2010ArticlesUndirected\n"
     ]
    },
    {
     "data": {
      "application/vnd.jupyter.widget-view+json": {
       "model_id": "f44a4b4bae1e4403b224129576e8f946",
       "version_major": 2,
       "version_minor": 0
      },
      "text/plain": [
       "SpeakerListenerLPAImpl:   0%|          | 0/100 [00:00<?, ?%/s]"
      ]
     },
     "metadata": {},
     "output_type": "display_data"
    },
    {
     "data": {
      "application/vnd.jupyter.widget-view+json": {
       "model_id": "e29048a046ff42d1b28126bbc81b00ce",
       "version_major": 2,
       "version_minor": 0
      },
      "text/plain": [
       "SpeakerListenerLPAImpl:   0%|          | 0/100 [00:00<?, ?%/s]"
      ]
     },
     "metadata": {},
     "output_type": "display_data"
    },
    {
     "data": {
      "application/vnd.jupyter.widget-view+json": {
       "model_id": "506c5bfae31c498b85cfc51faba6d9ec",
       "version_major": 2,
       "version_minor": 0
      },
      "text/plain": [
       "SpeakerListenerLPAImpl:   0%|          | 0/100 [00:00<?, ?%/s]"
      ]
     },
     "metadata": {},
     "output_type": "display_data"
    },
    {
     "data": {
      "application/vnd.jupyter.widget-view+json": {
       "model_id": "d5d88134536144109606ef1926341648",
       "version_major": 2,
       "version_minor": 0
      },
      "text/plain": [
       "SpeakerListenerLPAImpl:   0%|          | 0/100 [00:00<?, ?%/s]"
      ]
     },
     "metadata": {},
     "output_type": "display_data"
    },
    {
     "data": {
      "application/vnd.jupyter.widget-view+json": {
       "model_id": "e3812435f4a640d480756cde2cdd01ae",
       "version_major": 2,
       "version_minor": 0
      },
      "text/plain": [
       "SpeakerListenerLPAImpl:   0%|          | 0/100 [00:00<?, ?%/s]"
      ]
     },
     "metadata": {},
     "output_type": "display_data"
    },
    {
     "data": {
      "application/vnd.jupyter.widget-view+json": {
       "model_id": "b83bddcf6d9842d080d655f680b2cb7a",
       "version_major": 2,
       "version_minor": 0
      },
      "text/plain": [
       "SpeakerListenerLPAImpl:   0%|          | 0/100 [00:00<?, ?%/s]"
      ]
     },
     "metadata": {},
     "output_type": "display_data"
    },
    {
     "data": {
      "application/vnd.jupyter.widget-view+json": {
       "model_id": "ea566af6612d4c4ba97d434576196b23",
       "version_major": 2,
       "version_minor": 0
      },
      "text/plain": [
       "SpeakerListenerLPAImpl:   0%|          | 0/100 [00:00<?, ?%/s]"
      ]
     },
     "metadata": {},
     "output_type": "display_data"
    },
    {
     "data": {
      "application/vnd.jupyter.widget-view+json": {
       "model_id": "bae4e53b8d684f03b41564c2b4da6823",
       "version_major": 2,
       "version_minor": 0
      },
      "text/plain": [
       "SpeakerListenerLPAImpl:   0%|          | 0/100 [00:00<?, ?%/s]"
      ]
     },
     "metadata": {},
     "output_type": "display_data"
    },
    {
     "data": {
      "application/vnd.jupyter.widget-view+json": {
       "model_id": "7f8f44ee5b3d4baaa3ee15187d9a6a16",
       "version_major": 2,
       "version_minor": 0
      },
      "text/plain": [
       "SpeakerListenerLPAImpl:   0%|          | 0/100 [00:00<?, ?%/s]"
      ]
     },
     "metadata": {},
     "output_type": "display_data"
    },
    {
     "data": {
      "application/vnd.jupyter.widget-view+json": {
       "model_id": "0fd50994172c48dea9b99fc0fe9fa10c",
       "version_major": 2,
       "version_minor": 0
      },
      "text/plain": [
       "SpeakerListenerLPAImpl:   0%|          | 0/100 [00:00<?, ?%/s]"
      ]
     },
     "metadata": {},
     "output_type": "display_data"
    },
    {
     "name": "stdout",
     "output_type": "stream",
     "text": [
      "2013ArticlesUndirected\n"
     ]
    },
    {
     "data": {
      "application/vnd.jupyter.widget-view+json": {
       "model_id": "25fb6aa798bb49069965a4980a9891ff",
       "version_major": 2,
       "version_minor": 0
      },
      "text/plain": [
       "SpeakerListenerLPAImpl:   0%|          | 0/100 [00:00<?, ?%/s]"
      ]
     },
     "metadata": {},
     "output_type": "display_data"
    },
    {
     "data": {
      "application/vnd.jupyter.widget-view+json": {
       "model_id": "58dc71b8205343db9ee789e0787f25fb",
       "version_major": 2,
       "version_minor": 0
      },
      "text/plain": [
       "SpeakerListenerLPAImpl:   0%|          | 0/100 [00:00<?, ?%/s]"
      ]
     },
     "metadata": {},
     "output_type": "display_data"
    },
    {
     "data": {
      "application/vnd.jupyter.widget-view+json": {
       "model_id": "f7d1d782275c467fa162028620672317",
       "version_major": 2,
       "version_minor": 0
      },
      "text/plain": [
       "SpeakerListenerLPAImpl:   0%|          | 0/100 [00:00<?, ?%/s]"
      ]
     },
     "metadata": {},
     "output_type": "display_data"
    },
    {
     "data": {
      "application/vnd.jupyter.widget-view+json": {
       "model_id": "4a92b7024bac4564b5c5e882ed75fdc7",
       "version_major": 2,
       "version_minor": 0
      },
      "text/plain": [
       "SpeakerListenerLPAImpl:   0%|          | 0/100 [00:00<?, ?%/s]"
      ]
     },
     "metadata": {},
     "output_type": "display_data"
    },
    {
     "data": {
      "application/vnd.jupyter.widget-view+json": {
       "model_id": "287bc357c80344a2a486267dbe187cfb",
       "version_major": 2,
       "version_minor": 0
      },
      "text/plain": [
       "SpeakerListenerLPAImpl:   0%|          | 0/100 [00:00<?, ?%/s]"
      ]
     },
     "metadata": {},
     "output_type": "display_data"
    },
    {
     "data": {
      "application/vnd.jupyter.widget-view+json": {
       "model_id": "51beb8cbb8d74e05a9886c4fd76dce5a",
       "version_major": 2,
       "version_minor": 0
      },
      "text/plain": [
       "SpeakerListenerLPAImpl:   0%|          | 0/100 [00:00<?, ?%/s]"
      ]
     },
     "metadata": {},
     "output_type": "display_data"
    },
    {
     "data": {
      "application/vnd.jupyter.widget-view+json": {
       "model_id": "3f9f5cd8738f468f90b58b4de7ca7b39",
       "version_major": 2,
       "version_minor": 0
      },
      "text/plain": [
       "SpeakerListenerLPAImpl:   0%|          | 0/100 [00:00<?, ?%/s]"
      ]
     },
     "metadata": {},
     "output_type": "display_data"
    },
    {
     "data": {
      "application/vnd.jupyter.widget-view+json": {
       "model_id": "8b394c7448424e98911e448a42663859",
       "version_major": 2,
       "version_minor": 0
      },
      "text/plain": [
       "SpeakerListenerLPAImpl:   0%|          | 0/100 [00:00<?, ?%/s]"
      ]
     },
     "metadata": {},
     "output_type": "display_data"
    },
    {
     "data": {
      "application/vnd.jupyter.widget-view+json": {
       "model_id": "ebc58a3dd5314fe787f7f5fce9df22d5",
       "version_major": 2,
       "version_minor": 0
      },
      "text/plain": [
       "SpeakerListenerLPAImpl:   0%|          | 0/100 [00:00<?, ?%/s]"
      ]
     },
     "metadata": {},
     "output_type": "display_data"
    },
    {
     "data": {
      "application/vnd.jupyter.widget-view+json": {
       "model_id": "b8de6ac4011242dd97bbdf49fc488927",
       "version_major": 2,
       "version_minor": 0
      },
      "text/plain": [
       "SpeakerListenerLPAImpl:   0%|          | 0/100 [00:00<?, ?%/s]"
      ]
     },
     "metadata": {},
     "output_type": "display_data"
    },
    {
     "name": "stdout",
     "output_type": "stream",
     "text": [
      "2016ArticlesUndirected\n"
     ]
    },
    {
     "data": {
      "application/vnd.jupyter.widget-view+json": {
       "model_id": "79ba23bd483845399c4d0c13b3c6b14f",
       "version_major": 2,
       "version_minor": 0
      },
      "text/plain": [
       "SpeakerListenerLPAImpl:   0%|          | 0/100 [00:00<?, ?%/s]"
      ]
     },
     "metadata": {},
     "output_type": "display_data"
    },
    {
     "data": {
      "application/vnd.jupyter.widget-view+json": {
       "model_id": "fa1e2e961d204782accf320ee3272af6",
       "version_major": 2,
       "version_minor": 0
      },
      "text/plain": [
       "SpeakerListenerLPAImpl:   0%|          | 0/100 [00:00<?, ?%/s]"
      ]
     },
     "metadata": {},
     "output_type": "display_data"
    },
    {
     "data": {
      "application/vnd.jupyter.widget-view+json": {
       "model_id": "770d9e1a448f43c6b6f92c6230c83b99",
       "version_major": 2,
       "version_minor": 0
      },
      "text/plain": [
       "SpeakerListenerLPAImpl:   0%|          | 0/100 [00:00<?, ?%/s]"
      ]
     },
     "metadata": {},
     "output_type": "display_data"
    },
    {
     "data": {
      "application/vnd.jupyter.widget-view+json": {
       "model_id": "54e8e1dfd1e24beb9c71e48bd98d4866",
       "version_major": 2,
       "version_minor": 0
      },
      "text/plain": [
       "SpeakerListenerLPAImpl:   0%|          | 0/100 [00:00<?, ?%/s]"
      ]
     },
     "metadata": {},
     "output_type": "display_data"
    },
    {
     "data": {
      "application/vnd.jupyter.widget-view+json": {
       "model_id": "82dfd384f3be43cabd378c6c95cad211",
       "version_major": 2,
       "version_minor": 0
      },
      "text/plain": [
       "SpeakerListenerLPAImpl:   0%|          | 0/100 [00:00<?, ?%/s]"
      ]
     },
     "metadata": {},
     "output_type": "display_data"
    },
    {
     "data": {
      "application/vnd.jupyter.widget-view+json": {
       "model_id": "9758360675f5465a870cc00e26caeb17",
       "version_major": 2,
       "version_minor": 0
      },
      "text/plain": [
       "SpeakerListenerLPAImpl:   0%|          | 0/100 [00:00<?, ?%/s]"
      ]
     },
     "metadata": {},
     "output_type": "display_data"
    },
    {
     "data": {
      "application/vnd.jupyter.widget-view+json": {
       "model_id": "3cb4ac9b49f1486e8afe91c130163a27",
       "version_major": 2,
       "version_minor": 0
      },
      "text/plain": [
       "SpeakerListenerLPAImpl:   0%|          | 0/100 [00:00<?, ?%/s]"
      ]
     },
     "metadata": {},
     "output_type": "display_data"
    },
    {
     "data": {
      "application/vnd.jupyter.widget-view+json": {
       "model_id": "7382639a47474b9791b0030a0575a5e1",
       "version_major": 2,
       "version_minor": 0
      },
      "text/plain": [
       "SpeakerListenerLPAImpl:   0%|          | 0/100 [00:00<?, ?%/s]"
      ]
     },
     "metadata": {},
     "output_type": "display_data"
    },
    {
     "data": {
      "application/vnd.jupyter.widget-view+json": {
       "model_id": "16883cc3770c477783cd8b3d61849e4d",
       "version_major": 2,
       "version_minor": 0
      },
      "text/plain": [
       "SpeakerListenerLPAImpl:   0%|          | 0/100 [00:00<?, ?%/s]"
      ]
     },
     "metadata": {},
     "output_type": "display_data"
    },
    {
     "data": {
      "application/vnd.jupyter.widget-view+json": {
       "model_id": "4d42d0cfa77e42c699b8b9b363e445a3",
       "version_major": 2,
       "version_minor": 0
      },
      "text/plain": [
       "SpeakerListenerLPAImpl:   0%|          | 0/100 [00:00<?, ?%/s]"
      ]
     },
     "metadata": {},
     "output_type": "display_data"
    },
    {
     "name": "stdout",
     "output_type": "stream",
     "text": [
      "2018ArticlesUndirected\n"
     ]
    },
    {
     "data": {
      "application/vnd.jupyter.widget-view+json": {
       "model_id": "c7bbfcd1cd844595b06b39490b86e01c",
       "version_major": 2,
       "version_minor": 0
      },
      "text/plain": [
       "SpeakerListenerLPAImpl:   0%|          | 0/100 [00:00<?, ?%/s]"
      ]
     },
     "metadata": {},
     "output_type": "display_data"
    },
    {
     "data": {
      "application/vnd.jupyter.widget-view+json": {
       "model_id": "aa0aeea21b2246dcb864df9b19c49281",
       "version_major": 2,
       "version_minor": 0
      },
      "text/plain": [
       "SpeakerListenerLPAImpl:   0%|          | 0/100 [00:00<?, ?%/s]"
      ]
     },
     "metadata": {},
     "output_type": "display_data"
    },
    {
     "data": {
      "application/vnd.jupyter.widget-view+json": {
       "model_id": "3528aa527b67423db7b15b137269555b",
       "version_major": 2,
       "version_minor": 0
      },
      "text/plain": [
       "SpeakerListenerLPAImpl:   0%|          | 0/100 [00:00<?, ?%/s]"
      ]
     },
     "metadata": {},
     "output_type": "display_data"
    },
    {
     "data": {
      "application/vnd.jupyter.widget-view+json": {
       "model_id": "2d7ba1f9da0a4b6e83ed76574d6316ab",
       "version_major": 2,
       "version_minor": 0
      },
      "text/plain": [
       "SpeakerListenerLPAImpl:   0%|          | 0/100 [00:00<?, ?%/s]"
      ]
     },
     "metadata": {},
     "output_type": "display_data"
    },
    {
     "data": {
      "application/vnd.jupyter.widget-view+json": {
       "model_id": "3b812559e3d14c2abd0234fe4e07a4f6",
       "version_major": 2,
       "version_minor": 0
      },
      "text/plain": [
       "SpeakerListenerLPAImpl:   0%|          | 0/100 [00:00<?, ?%/s]"
      ]
     },
     "metadata": {},
     "output_type": "display_data"
    },
    {
     "data": {
      "application/vnd.jupyter.widget-view+json": {
       "model_id": "21c0bc5030274be3b99411d6e9a7c3c5",
       "version_major": 2,
       "version_minor": 0
      },
      "text/plain": [
       "SpeakerListenerLPAImpl:   0%|          | 0/100 [00:00<?, ?%/s]"
      ]
     },
     "metadata": {},
     "output_type": "display_data"
    },
    {
     "data": {
      "application/vnd.jupyter.widget-view+json": {
       "model_id": "bedc55a661e6448ab543aec378478ca4",
       "version_major": 2,
       "version_minor": 0
      },
      "text/plain": [
       "SpeakerListenerLPAImpl:   0%|          | 0/100 [00:00<?, ?%/s]"
      ]
     },
     "metadata": {},
     "output_type": "display_data"
    },
    {
     "data": {
      "application/vnd.jupyter.widget-view+json": {
       "model_id": "0ba94533fcd24fdd93393df7a4bde4ab",
       "version_major": 2,
       "version_minor": 0
      },
      "text/plain": [
       "SpeakerListenerLPAImpl:   0%|          | 0/100 [00:00<?, ?%/s]"
      ]
     },
     "metadata": {},
     "output_type": "display_data"
    },
    {
     "data": {
      "application/vnd.jupyter.widget-view+json": {
       "model_id": "e336126dfb9b4445a1cdd65db29da607",
       "version_major": 2,
       "version_minor": 0
      },
      "text/plain": [
       "SpeakerListenerLPAImpl:   0%|          | 0/100 [00:00<?, ?%/s]"
      ]
     },
     "metadata": {},
     "output_type": "display_data"
    },
    {
     "data": {
      "application/vnd.jupyter.widget-view+json": {
       "model_id": "8dece1af37ec45f696e65c7d3be96afd",
       "version_major": 2,
       "version_minor": 0
      },
      "text/plain": [
       "SpeakerListenerLPAImpl:   0%|          | 0/100 [00:00<?, ?%/s]"
      ]
     },
     "metadata": {},
     "output_type": "display_data"
    },
    {
     "name": "stdout",
     "output_type": "stream",
     "text": [
      "2020ArticlesUndirected\n"
     ]
    },
    {
     "data": {
      "application/vnd.jupyter.widget-view+json": {
       "model_id": "60421a0a8fd145c59b2fd2cdcc5fbfa5",
       "version_major": 2,
       "version_minor": 0
      },
      "text/plain": [
       "SpeakerListenerLPAImpl:   0%|          | 0/100 [00:00<?, ?%/s]"
      ]
     },
     "metadata": {},
     "output_type": "display_data"
    },
    {
     "data": {
      "application/vnd.jupyter.widget-view+json": {
       "model_id": "b374683d8afd4c418710f6c605f14921",
       "version_major": 2,
       "version_minor": 0
      },
      "text/plain": [
       "SpeakerListenerLPAImpl:   0%|          | 0/100 [00:00<?, ?%/s]"
      ]
     },
     "metadata": {},
     "output_type": "display_data"
    },
    {
     "data": {
      "application/vnd.jupyter.widget-view+json": {
       "model_id": "248d67ef4c114a6c9f14fe6da19e2e6e",
       "version_major": 2,
       "version_minor": 0
      },
      "text/plain": [
       "SpeakerListenerLPAImpl:   0%|          | 0/100 [00:00<?, ?%/s]"
      ]
     },
     "metadata": {},
     "output_type": "display_data"
    },
    {
     "data": {
      "application/vnd.jupyter.widget-view+json": {
       "model_id": "70a8b23a2af0400986b1f0a65fcf6819",
       "version_major": 2,
       "version_minor": 0
      },
      "text/plain": [
       "SpeakerListenerLPAImpl:   0%|          | 0/100 [00:00<?, ?%/s]"
      ]
     },
     "metadata": {},
     "output_type": "display_data"
    },
    {
     "data": {
      "application/vnd.jupyter.widget-view+json": {
       "model_id": "88d4e1bc103a42b4bbbf1cede6a6a078",
       "version_major": 2,
       "version_minor": 0
      },
      "text/plain": [
       "SpeakerListenerLPAImpl:   0%|          | 0/100 [00:00<?, ?%/s]"
      ]
     },
     "metadata": {},
     "output_type": "display_data"
    },
    {
     "data": {
      "application/vnd.jupyter.widget-view+json": {
       "model_id": "7446aa877b20414489d30d8db45102c3",
       "version_major": 2,
       "version_minor": 0
      },
      "text/plain": [
       "SpeakerListenerLPAImpl:   0%|          | 0/100 [00:00<?, ?%/s]"
      ]
     },
     "metadata": {},
     "output_type": "display_data"
    },
    {
     "data": {
      "application/vnd.jupyter.widget-view+json": {
       "model_id": "373fbd64f133473b8c1344a16b58792a",
       "version_major": 2,
       "version_minor": 0
      },
      "text/plain": [
       "SpeakerListenerLPAImpl:   0%|          | 0/100 [00:00<?, ?%/s]"
      ]
     },
     "metadata": {},
     "output_type": "display_data"
    },
    {
     "data": {
      "application/vnd.jupyter.widget-view+json": {
       "model_id": "d627beda06bd4036b363554cdcc2938a",
       "version_major": 2,
       "version_minor": 0
      },
      "text/plain": [
       "SpeakerListenerLPAImpl:   0%|          | 0/100 [00:00<?, ?%/s]"
      ]
     },
     "metadata": {},
     "output_type": "display_data"
    },
    {
     "data": {
      "application/vnd.jupyter.widget-view+json": {
       "model_id": "f23522a4d2584b3f99cfd30a37a4cb81",
       "version_major": 2,
       "version_minor": 0
      },
      "text/plain": [
       "SpeakerListenerLPAImpl:   0%|          | 0/100 [00:00<?, ?%/s]"
      ]
     },
     "metadata": {},
     "output_type": "display_data"
    },
    {
     "data": {
      "application/vnd.jupyter.widget-view+json": {
       "model_id": "a063bee4b8c149ebb4978a0eca142031",
       "version_major": 2,
       "version_minor": 0
      },
      "text/plain": [
       "SpeakerListenerLPAImpl:   0%|          | 0/100 [00:00<?, ?%/s]"
      ]
     },
     "metadata": {},
     "output_type": "display_data"
    }
   ],
   "source": [
    "sllpa=pd.DataFrame([],columns=[\"graph\",\"bytesMin\",\"bytesMax\",\"postProcessingMillis\",\"preProcessingMillis\",\"computeMillis\",\"sumTimeMillis\",\"stdSumTimeMillis\"])\n",
    "repeats= 10 \n",
    "store = np.zeros((repeats,3))\n",
    "for name in graph_names:\n",
    "    print(name)\n",
    "    G = gds.graph.get(name)\n",
    "    r1 =gds.alpha.sllpa.write.estimate(G,writeProperty= 'sllpa',maxIterations= 100)\n",
    "\n",
    "    for i in range(repeats):\n",
    "        r2 = gds.alpha.sllpa.stats(G,writeProperty= 'sllpa',maxIterations= 100)\n",
    "        store[i]=r2[\"postProcessingMillis\"],r2[\"preProcessingMillis\"],r2[\"computeMillis\"]\n",
    "\n",
    "    postProcessingMillis,preProcessingMillis,computeMillis = np.average(store,axis=0)\n",
    "    sumTimeMillis = np.average(np.sum(store,axis=1))\n",
    "    stdSumTimeMillis = np.std(np.sum(store,axis=1))\n",
    "    \n",
    "    sllpa = sllpa.append({\"graph\":name,\"bytesMin\":r1[\"bytesMin\"],\"bytesMax\":r1[\"bytesMax\"],\"postProcessingMillis\":postProcessingMillis,\"preProcessingMillis\":preProcessingMillis,\"computeMillis\":computeMillis,\"sumTimeMillis\":sumTimeMillis,\"stdSumTimeMillis\":stdSumTimeMillis}, ignore_index=True)"
   ]
  },
  {
   "cell_type": "code",
   "execution_count": 6,
   "metadata": {},
   "outputs": [
    {
     "data": {
      "text/html": [
       "<div>\n",
       "<style scoped>\n",
       "    .dataframe tbody tr th:only-of-type {\n",
       "        vertical-align: middle;\n",
       "    }\n",
       "\n",
       "    .dataframe tbody tr th {\n",
       "        vertical-align: top;\n",
       "    }\n",
       "\n",
       "    .dataframe thead th {\n",
       "        text-align: right;\n",
       "    }\n",
       "</style>\n",
       "<table border=\"1\" class=\"dataframe\">\n",
       "  <thead>\n",
       "    <tr style=\"text-align: right;\">\n",
       "      <th></th>\n",
       "      <th>graph</th>\n",
       "      <th>bytesMin</th>\n",
       "      <th>bytesMax</th>\n",
       "      <th>postProcessingMillis</th>\n",
       "      <th>preProcessingMillis</th>\n",
       "      <th>computeMillis</th>\n",
       "      <th>sumTimeMillis</th>\n",
       "      <th>stdSumTimeMillis</th>\n",
       "    </tr>\n",
       "  </thead>\n",
       "  <tbody>\n",
       "    <tr>\n",
       "      <th>0</th>\n",
       "      <td>2003ArticlesDirected</td>\n",
       "      <td>820744</td>\n",
       "      <td>820744</td>\n",
       "      <td>0.0</td>\n",
       "      <td>0.0</td>\n",
       "      <td>73.3</td>\n",
       "      <td>73.3</td>\n",
       "      <td>31.381683</td>\n",
       "    </tr>\n",
       "    <tr>\n",
       "      <th>1</th>\n",
       "      <td>2007ArticlesDirected</td>\n",
       "      <td>2451640</td>\n",
       "      <td>2451640</td>\n",
       "      <td>0.0</td>\n",
       "      <td>0.0</td>\n",
       "      <td>208.7</td>\n",
       "      <td>208.7</td>\n",
       "      <td>44.663296</td>\n",
       "    </tr>\n",
       "    <tr>\n",
       "      <th>2</th>\n",
       "      <td>2010ArticlesDirected</td>\n",
       "      <td>6385688</td>\n",
       "      <td>6385688</td>\n",
       "      <td>0.0</td>\n",
       "      <td>0.0</td>\n",
       "      <td>501.6</td>\n",
       "      <td>501.6</td>\n",
       "      <td>46.87046</td>\n",
       "    </tr>\n",
       "    <tr>\n",
       "      <th>3</th>\n",
       "      <td>2013ArticlesDirected</td>\n",
       "      <td>15734592</td>\n",
       "      <td>15734592</td>\n",
       "      <td>0.0</td>\n",
       "      <td>0.0</td>\n",
       "      <td>861.2</td>\n",
       "      <td>861.2</td>\n",
       "      <td>33.88451</td>\n",
       "    </tr>\n",
       "    <tr>\n",
       "      <th>4</th>\n",
       "      <td>2016ArticlesDirected</td>\n",
       "      <td>34203056</td>\n",
       "      <td>34203056</td>\n",
       "      <td>0.0</td>\n",
       "      <td>0.0</td>\n",
       "      <td>2261.4</td>\n",
       "      <td>2261.4</td>\n",
       "      <td>125.842123</td>\n",
       "    </tr>\n",
       "    <tr>\n",
       "      <th>5</th>\n",
       "      <td>2018ArticlesDirected</td>\n",
       "      <td>59420032</td>\n",
       "      <td>59420032</td>\n",
       "      <td>0.0</td>\n",
       "      <td>0.0</td>\n",
       "      <td>5040.2</td>\n",
       "      <td>5040.2</td>\n",
       "      <td>166.181106</td>\n",
       "    </tr>\n",
       "    <tr>\n",
       "      <th>6</th>\n",
       "      <td>2020ArticlesDirected</td>\n",
       "      <td>83338784</td>\n",
       "      <td>83338784</td>\n",
       "      <td>0.0</td>\n",
       "      <td>0.0</td>\n",
       "      <td>9059.9</td>\n",
       "      <td>9059.9</td>\n",
       "      <td>318.011148</td>\n",
       "    </tr>\n",
       "    <tr>\n",
       "      <th>7</th>\n",
       "      <td>2003ArticlesUndirected</td>\n",
       "      <td>820744</td>\n",
       "      <td>820744</td>\n",
       "      <td>0.0</td>\n",
       "      <td>0.0</td>\n",
       "      <td>92.9</td>\n",
       "      <td>92.9</td>\n",
       "      <td>31.155898</td>\n",
       "    </tr>\n",
       "    <tr>\n",
       "      <th>8</th>\n",
       "      <td>2007ArticlesUndirected</td>\n",
       "      <td>2451640</td>\n",
       "      <td>2451640</td>\n",
       "      <td>0.0</td>\n",
       "      <td>0.0</td>\n",
       "      <td>306.1</td>\n",
       "      <td>306.1</td>\n",
       "      <td>60.874379</td>\n",
       "    </tr>\n",
       "    <tr>\n",
       "      <th>9</th>\n",
       "      <td>2010ArticlesUndirected</td>\n",
       "      <td>6385688</td>\n",
       "      <td>6385688</td>\n",
       "      <td>0.0</td>\n",
       "      <td>0.0</td>\n",
       "      <td>726.0</td>\n",
       "      <td>726.0</td>\n",
       "      <td>27.177196</td>\n",
       "    </tr>\n",
       "    <tr>\n",
       "      <th>10</th>\n",
       "      <td>2013ArticlesUndirected</td>\n",
       "      <td>15734592</td>\n",
       "      <td>15734592</td>\n",
       "      <td>0.0</td>\n",
       "      <td>0.0</td>\n",
       "      <td>1416.3</td>\n",
       "      <td>1416.3</td>\n",
       "      <td>147.110877</td>\n",
       "    </tr>\n",
       "    <tr>\n",
       "      <th>11</th>\n",
       "      <td>2016ArticlesUndirected</td>\n",
       "      <td>34203056</td>\n",
       "      <td>34203056</td>\n",
       "      <td>0.0</td>\n",
       "      <td>0.0</td>\n",
       "      <td>3644.7</td>\n",
       "      <td>3644.7</td>\n",
       "      <td>193.106732</td>\n",
       "    </tr>\n",
       "    <tr>\n",
       "      <th>12</th>\n",
       "      <td>2018ArticlesUndirected</td>\n",
       "      <td>59420032</td>\n",
       "      <td>59420032</td>\n",
       "      <td>0.0</td>\n",
       "      <td>0.0</td>\n",
       "      <td>8988.4</td>\n",
       "      <td>8988.4</td>\n",
       "      <td>533.484058</td>\n",
       "    </tr>\n",
       "    <tr>\n",
       "      <th>13</th>\n",
       "      <td>2020ArticlesUndirected</td>\n",
       "      <td>83338784</td>\n",
       "      <td>83338784</td>\n",
       "      <td>0.0</td>\n",
       "      <td>0.0</td>\n",
       "      <td>15398.9</td>\n",
       "      <td>15398.9</td>\n",
       "      <td>929.774107</td>\n",
       "    </tr>\n",
       "  </tbody>\n",
       "</table>\n",
       "</div>"
      ],
      "text/plain": [
       "                     graph  bytesMin  bytesMax postProcessingMillis  \\\n",
       "0     2003ArticlesDirected    820744    820744                  0.0   \n",
       "1     2007ArticlesDirected   2451640   2451640                  0.0   \n",
       "2     2010ArticlesDirected   6385688   6385688                  0.0   \n",
       "3     2013ArticlesDirected  15734592  15734592                  0.0   \n",
       "4     2016ArticlesDirected  34203056  34203056                  0.0   \n",
       "5     2018ArticlesDirected  59420032  59420032                  0.0   \n",
       "6     2020ArticlesDirected  83338784  83338784                  0.0   \n",
       "7   2003ArticlesUndirected    820744    820744                  0.0   \n",
       "8   2007ArticlesUndirected   2451640   2451640                  0.0   \n",
       "9   2010ArticlesUndirected   6385688   6385688                  0.0   \n",
       "10  2013ArticlesUndirected  15734592  15734592                  0.0   \n",
       "11  2016ArticlesUndirected  34203056  34203056                  0.0   \n",
       "12  2018ArticlesUndirected  59420032  59420032                  0.0   \n",
       "13  2020ArticlesUndirected  83338784  83338784                  0.0   \n",
       "\n",
       "   preProcessingMillis computeMillis sumTimeMillis stdSumTimeMillis  \n",
       "0                  0.0          73.3          73.3        31.381683  \n",
       "1                  0.0         208.7         208.7        44.663296  \n",
       "2                  0.0         501.6         501.6         46.87046  \n",
       "3                  0.0         861.2         861.2         33.88451  \n",
       "4                  0.0        2261.4        2261.4       125.842123  \n",
       "5                  0.0        5040.2        5040.2       166.181106  \n",
       "6                  0.0        9059.9        9059.9       318.011148  \n",
       "7                  0.0          92.9          92.9        31.155898  \n",
       "8                  0.0         306.1         306.1        60.874379  \n",
       "9                  0.0         726.0         726.0        27.177196  \n",
       "10                 0.0        1416.3        1416.3       147.110877  \n",
       "11                 0.0        3644.7        3644.7       193.106732  \n",
       "12                 0.0        8988.4        8988.4       533.484058  \n",
       "13                 0.0       15398.9       15398.9       929.774107  "
      ]
     },
     "execution_count": 6,
     "metadata": {},
     "output_type": "execute_result"
    }
   ],
   "source": [
    "sllpa.to_pickle(\"./sllpa.pkl\")\n",
    "sllpa.head(20)"
   ]
  },
  {
   "cell_type": "code",
   "execution_count": 10,
   "metadata": {},
   "outputs": [
    {
     "name": "stdout",
     "output_type": "stream",
     "text": [
      "2003ArticlesUndirected\n",
      "2007ArticlesUndirected\n",
      "2010ArticlesUndirected\n",
      "2013ArticlesUndirected\n",
      "2016ArticlesUndirected\n",
      "2018ArticlesUndirected\n",
      "2020ArticlesUndirected\n"
     ]
    }
   ],
   "source": [
    "leiden=pd.DataFrame([],columns=[\"graph\",\"postProcessingMillis\",\"preProcessingMillis\",\"computeMillis\",\"sumTimeMillis\",\"stdSumTimeMillis\"])\n",
    "repeats= 10 \n",
    "store = np.zeros((repeats,3))\n",
    "for name in undirected_names:\n",
    "    print(name)\n",
    "    G = gds.graph.get(name)\n",
    "    # r1 =gds.alpha.leiden.write.estimate(G,writeProperty= 'leiden')\n",
    "\n",
    "    for i in range(repeats):\n",
    "        r2 = gds.alpha.leiden.stats(G)\n",
    "        store[i]=r2[\"postProcessingMillis\"],r2[\"preProcessingMillis\"],r2[\"computeMillis\"]\n",
    "\n",
    "    postProcessingMillis,preProcessingMillis,computeMillis = np.average(store,axis=0)\n",
    "    sumTimeMillis = np.average(np.sum(store,axis=1))\n",
    "    stdSumTimeMillis = np.std(np.sum(store,axis=1))\n",
    "    \n",
    "    leiden = leiden.append({\"graph\":name,\"postProcessingMillis\":postProcessingMillis,\"preProcessingMillis\":preProcessingMillis,\"computeMillis\":computeMillis,\"sumTimeMillis\":sumTimeMillis,\"stdSumTimeMillis\":stdSumTimeMillis}, ignore_index=True)"
   ]
  },
  {
   "cell_type": "code",
   "execution_count": 11,
   "metadata": {},
   "outputs": [
    {
     "data": {
      "text/html": [
       "<div>\n",
       "<style scoped>\n",
       "    .dataframe tbody tr th:only-of-type {\n",
       "        vertical-align: middle;\n",
       "    }\n",
       "\n",
       "    .dataframe tbody tr th {\n",
       "        vertical-align: top;\n",
       "    }\n",
       "\n",
       "    .dataframe thead th {\n",
       "        text-align: right;\n",
       "    }\n",
       "</style>\n",
       "<table border=\"1\" class=\"dataframe\">\n",
       "  <thead>\n",
       "    <tr style=\"text-align: right;\">\n",
       "      <th></th>\n",
       "      <th>graph</th>\n",
       "      <th>postProcessingMillis</th>\n",
       "      <th>preProcessingMillis</th>\n",
       "      <th>computeMillis</th>\n",
       "      <th>sumTimeMillis</th>\n",
       "      <th>stdSumTimeMillis</th>\n",
       "    </tr>\n",
       "  </thead>\n",
       "  <tbody>\n",
       "    <tr>\n",
       "      <th>0</th>\n",
       "      <td>2003ArticlesUndirected</td>\n",
       "      <td>2.5</td>\n",
       "      <td>0.0</td>\n",
       "      <td>19.2</td>\n",
       "      <td>21.7</td>\n",
       "      <td>9.370699</td>\n",
       "    </tr>\n",
       "    <tr>\n",
       "      <th>1</th>\n",
       "      <td>2007ArticlesUndirected</td>\n",
       "      <td>1.1</td>\n",
       "      <td>0.0</td>\n",
       "      <td>19.2</td>\n",
       "      <td>20.3</td>\n",
       "      <td>3.465545</td>\n",
       "    </tr>\n",
       "    <tr>\n",
       "      <th>2</th>\n",
       "      <td>2010ArticlesUndirected</td>\n",
       "      <td>1.4</td>\n",
       "      <td>0.0</td>\n",
       "      <td>49.5</td>\n",
       "      <td>50.9</td>\n",
       "      <td>12.485592</td>\n",
       "    </tr>\n",
       "    <tr>\n",
       "      <th>3</th>\n",
       "      <td>2013ArticlesUndirected</td>\n",
       "      <td>1.8</td>\n",
       "      <td>0.0</td>\n",
       "      <td>110.0</td>\n",
       "      <td>111.8</td>\n",
       "      <td>19.009471</td>\n",
       "    </tr>\n",
       "    <tr>\n",
       "      <th>4</th>\n",
       "      <td>2016ArticlesUndirected</td>\n",
       "      <td>1.9</td>\n",
       "      <td>0.0</td>\n",
       "      <td>350.1</td>\n",
       "      <td>352.0</td>\n",
       "      <td>35.151102</td>\n",
       "    </tr>\n",
       "    <tr>\n",
       "      <th>5</th>\n",
       "      <td>2018ArticlesUndirected</td>\n",
       "      <td>2.0</td>\n",
       "      <td>0.0</td>\n",
       "      <td>838.8</td>\n",
       "      <td>840.8</td>\n",
       "      <td>36.769009</td>\n",
       "    </tr>\n",
       "    <tr>\n",
       "      <th>6</th>\n",
       "      <td>2020ArticlesUndirected</td>\n",
       "      <td>1.9</td>\n",
       "      <td>0.0</td>\n",
       "      <td>1445.6</td>\n",
       "      <td>1447.5</td>\n",
       "      <td>67.217929</td>\n",
       "    </tr>\n",
       "  </tbody>\n",
       "</table>\n",
       "</div>"
      ],
      "text/plain": [
       "                    graph postProcessingMillis preProcessingMillis  \\\n",
       "0  2003ArticlesUndirected                  2.5                 0.0   \n",
       "1  2007ArticlesUndirected                  1.1                 0.0   \n",
       "2  2010ArticlesUndirected                  1.4                 0.0   \n",
       "3  2013ArticlesUndirected                  1.8                 0.0   \n",
       "4  2016ArticlesUndirected                  1.9                 0.0   \n",
       "5  2018ArticlesUndirected                  2.0                 0.0   \n",
       "6  2020ArticlesUndirected                  1.9                 0.0   \n",
       "\n",
       "  computeMillis sumTimeMillis stdSumTimeMillis  \n",
       "0          19.2          21.7         9.370699  \n",
       "1          19.2          20.3         3.465545  \n",
       "2          49.5          50.9        12.485592  \n",
       "3         110.0         111.8        19.009471  \n",
       "4         350.1         352.0        35.151102  \n",
       "5         838.8         840.8        36.769009  \n",
       "6        1445.6        1447.5        67.217929  "
      ]
     },
     "execution_count": 11,
     "metadata": {},
     "output_type": "execute_result"
    }
   ],
   "source": [
    "leiden.to_pickle(\"./leiden.pkl\")\n",
    "leiden.head(20)"
   ]
  }
 ],
 "metadata": {
  "kernelspec": {
   "display_name": "Python 3.10.6 ('igraphvenv': venv)",
   "language": "python",
   "name": "python3"
  },
  "language_info": {
   "codemirror_mode": {
    "name": "ipython",
    "version": 3
   },
   "file_extension": ".py",
   "mimetype": "text/x-python",
   "name": "python",
   "nbconvert_exporter": "python",
   "pygments_lexer": "ipython3",
   "version": "3.10.6"
  },
  "orig_nbformat": 4,
  "vscode": {
   "interpreter": {
    "hash": "7ab0d5cd42251145a22f3de6141280eb8e2869ae55fe1bb572523b41626fd4b9"
   }
  }
 },
 "nbformat": 4,
 "nbformat_minor": 2
}
